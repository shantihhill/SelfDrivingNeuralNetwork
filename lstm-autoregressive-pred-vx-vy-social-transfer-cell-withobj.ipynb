{
  "cells": [
    {
      "cell_type": "markdown",
      "metadata": {
        "id": "-n-C_P-zs-pY"
      },
      "source": [
        "# LSTM - vanilla"
      ]
    },
    {
      "cell_type": "code",
      "execution_count": 1,
      "metadata": {},
      "outputs": [],
      "source": [
        "best_model = \"best_model23.pt\""
      ]
    },
    {
      "cell_type": "markdown",
      "metadata": {},
      "source": [
        "## Load and prepare data"
      ]
    },
    {
      "cell_type": "code",
      "execution_count": 2,
      "metadata": {
        "_cell_guid": "b1076dfc-b9ad-4769-8c92-a6c4dae69d19",
        "_uuid": "8f2839f25d086af736a60e9eeb907d3b93b6e0e5",
        "execution": {
          "iopub.execute_input": "2025-04-01T17:39:17.728787Z",
          "iopub.status.busy": "2025-04-01T17:39:17.728324Z",
          "iopub.status.idle": "2025-04-01T17:39:18.875979Z",
          "shell.execute_reply": "2025-04-01T17:39:18.874618Z"
        },
        "id": "F4_wHjhZs-pa",
        "papermill": {
          "duration": 1.154057,
          "end_time": "2025-04-01T17:39:18.878059",
          "exception": false,
          "start_time": "2025-04-01T17:39:17.724002",
          "status": "completed"
        },
        "tags": []
      },
      "outputs": [
        {
          "name": "stderr",
          "output_type": "stream",
          "text": [
            "/Users/salmawafa/Library/Python/3.9/lib/python/site-packages/urllib3/__init__.py:35: NotOpenSSLWarning: urllib3 v2 only supports OpenSSL 1.1.1+, currently the 'ssl' module is compiled with 'LibreSSL 2.8.3'. See: https://github.com/urllib3/urllib3/issues/3020\n",
            "  warnings.warn(\n",
            "/Users/salmawafa/Library/Python/3.9/lib/python/site-packages/tqdm/auto.py:21: TqdmWarning: IProgress not found. Please update jupyter and ipywidgets. See https://ipywidgets.readthedocs.io/en/stable/user_install.html\n",
            "  from .autonotebook import tqdm as notebook_tqdm\n"
          ]
        }
      ],
      "source": [
        "import os\n",
        "\n",
        "import numpy as np\n",
        "import pandas as pd\n",
        "import matplotlib.pyplot as plt\n",
        "import random\n",
        "\n",
        "import torch\n",
        "import torch.nn as nn\n",
        "import torch.optim as optim\n",
        "from torch.utils.data import Dataset, DataLoader\n",
        "from torch_geometric.data import Data, Batch\n",
        "import tqdm"
      ]
    },
    {
      "cell_type": "code",
      "execution_count": 3,
      "metadata": {
        "execution": {
          "iopub.execute_input": "2025-04-01T17:39:18.890746Z",
          "iopub.status.busy": "2025-04-01T17:39:18.890075Z",
          "iopub.status.idle": "2025-04-01T17:39:40.968717Z",
          "shell.execute_reply": "2025-04-01T17:39:40.967158Z"
        },
        "id": "09texa_os-pc",
        "papermill": {
          "duration": 22.084222,
          "end_time": "2025-04-01T17:39:40.970631",
          "exception": false,
          "start_time": "2025-04-01T17:39:18.886409",
          "status": "completed"
        },
        "tags": []
      },
      "outputs": [
        {
          "name": "stdout",
          "output_type": "stream",
          "text": [
            "train_data's shape (10000, 50, 110, 6)\n",
            "test_data's shape (2100, 50, 50, 6)\n"
          ]
        }
      ],
      "source": [
        "train_file = np.load('./cse-251-b-2025/train.npz')\n",
        "\n",
        "train_data = train_file['data']\n",
        "print(\"train_data's shape\", train_data.shape)\n",
        "test_file = np.load('./cse-251-b-2025/test_input.npz')\n",
        "\n",
        "test_data = test_file['data']\n",
        "print(\"test_data's shape\", test_data.shape)"
      ]
    },
    {
      "cell_type": "code",
      "execution_count": 4,
      "metadata": {
        "execution": {
          "iopub.execute_input": "2025-04-01T17:39:40.97884Z",
          "iopub.status.busy": "2025-04-01T17:39:40.978362Z",
          "iopub.status.idle": "2025-04-01T17:39:41.323077Z",
          "shell.execute_reply": "2025-04-01T17:39:41.321787Z"
        },
        "id": "ckJbGP_ds-pc",
        "papermill": {
          "duration": 0.351374,
          "end_time": "2025-04-01T17:39:41.325147",
          "exception": false,
          "start_time": "2025-04-01T17:39:40.973773",
          "status": "completed"
        },
        "tags": []
      },
      "outputs": [
        {
          "data": {
            "image/png": "[encoded data removed]",
            "text/plain": [
              "<Figure size 640x480 with 1 Axes>"
            ]
          },
          "metadata": {},
          "output_type": "display_data"
        }
      ],
      "source": [
        "# plot one\n",
        "import matplotlib.pyplot as plt\n",
        "\n",
        "data_matrix = train_data[0]\n",
        "\n",
        "for i in range(data_matrix.shape[0]):\n",
        "    xs = data_matrix[i, :, 0]\n",
        "    ys = data_matrix[i, :, 1]\n",
        "    # trim all zeros\n",
        "    xs = xs[xs != 0]\n",
        "    ys = ys[ys != 0]\n",
        "    # plot each line going from transparent to full\n",
        "    plt.plot(xs, ys)\n",
        "\n",
        "plt.show()"
      ]
    },
    {
      "cell_type": "markdown",
      "metadata": {},
      "source": [
        "# Data Loaders"
      ]
    },
    {
      "cell_type": "code",
      "execution_count": 5,
      "metadata": {},
      "outputs": [],
      "source": [
        "class TrajectoryDatasetTrain(Dataset):\n",
        "    def __init__(self, data, scale=10.0, augment=True):\n",
        "        \"\"\"\n",
        "        data: Shape (N, 50, 110, 6) Training data\n",
        "        scale: Scale for normalization (suggested to use 10.0 for Argoverse 2 data)\n",
        "        augment: Whether to apply data augmentation (only for training)\n",
        "        \"\"\"\n",
        "        self.data = data\n",
        "        self.scale = scale\n",
        "        self.augment = augment\n",
        "\n",
        "    def __len__(self):\n",
        "        return len(self.data)\n",
        "\n",
        "    def __getitem__(self, idx):\n",
        "        scene = self.data[idx]\n",
        "        # Getting 50 historical timestamps and 60 future timestamps\n",
        "        hist = scene[:, :50, :].copy()    # (agents=50, time_seq=50, 6)\n",
        "        future = torch.tensor(scene[0, 50:, 2:4].copy(), dtype=torch.float32)  # (60, 2)\n",
        "        \n",
        "        # Data augmentation(only for training)\n",
        "        if self.augment:\n",
        "            if np.random.rand() < 0.5:\n",
        "                theta = np.random.uniform(-np.pi, np.pi)\n",
        "                R = np.array([[np.cos(theta), -np.sin(theta)],\n",
        "                              [np.sin(theta),  np.cos(theta)]], dtype=np.float32)\n",
        "                # Rotate the historical trajectory and future trajectory\n",
        "                hist[..., :2] = hist[..., :2] @ R\n",
        "                hist[..., 2:4] = hist[..., 2:4] @ R\n",
        "                future = future @ R\n",
        "            if np.random.rand() < 0.5:\n",
        "                hist[..., 0] *= -1\n",
        "                hist[..., 2] *= -1\n",
        "                future[:, 0] *= -1\n",
        "\n",
        "        # Use the last timeframe of the historical trajectory as the origin\n",
        "        origin = hist[0, 49, :2].copy()  # (2,)\n",
        "        hist[..., :2] = hist[..., :2] - origin\n",
        "        # future = future - origin\n",
        "\n",
        "        # Normalize the historical trajectory and future trajectory\n",
        "        hist[..., :4] = hist[..., :4] / self.scale\n",
        "        future = future / self.scale\n",
        "\n",
        "        data_item = Data(\n",
        "            x=torch.tensor(hist, dtype=torch.float32),\n",
        "            y=future.type(torch.float32),\n",
        "            origin=torch.tensor(origin, dtype=torch.float32).unsqueeze(0), # (1,2)\n",
        "            scale=torch.tensor(self.scale, dtype=torch.float32), # scalar e.g. 7.0\n",
        "        )\n",
        "        \n",
        "        # print(f'x: {data_item.x.shape}')\n",
        "        # print(f'y: {data_item.y.shape}')\n",
        "\n",
        "        return data_item\n",
        "    \n",
        "\n",
        "class TrajectoryDatasetTest(Dataset):\n",
        "    def __init__(self, data, scale=10.0):\n",
        "        \"\"\"\n",
        "        data: Shape (N, 50, 110, 6) Testing data\n",
        "        scale: Scale for normalization (suggested to use 10.0 for Argoverse 2 data)\n",
        "        \"\"\"\n",
        "        self.data = data\n",
        "        self.scale = scale\n",
        "\n",
        "    def __len__(self):\n",
        "        return len(self.data)\n",
        "\n",
        "    def __getitem__(self, idx):\n",
        "        # Testing data only contains historical trajectory\n",
        "        scene = self.data[idx]  # (50, 50, 6)\n",
        "        hist = scene.copy()\n",
        "        \n",
        "        origin = hist[0, 49, :2].copy()\n",
        "        hist[..., :2] = hist[..., :2] - origin\n",
        "        hist[..., :4] = hist[..., :4] / self.scale\n",
        "\n",
        "        data_item = Data(\n",
        "            x=torch.tensor(hist, dtype=torch.float32),\n",
        "            origin=torch.tensor(origin, dtype=torch.float32).unsqueeze(0),\n",
        "            scale=torch.tensor(self.scale, dtype=torch.float32),\n",
        "        )\n",
        "        return data_item"
      ]
    },
    {
      "cell_type": "code",
      "execution_count": 6,
      "metadata": {},
      "outputs": [
        {
          "name": "stdout",
          "output_type": "stream",
          "text": [
            "Using Apple Silicon GPU\n"
          ]
        }
      ],
      "source": [
        "torch.manual_seed(251)\n",
        "np.random.seed(42)\n",
        "\n",
        "scale = 7.0\n",
        "\n",
        "N = len(train_data)\n",
        "val_size = int(0.1 * N)\n",
        "train_size = N - val_size\n",
        "\n",
        "train_dataset = TrajectoryDatasetTrain(train_data[:train_size], scale=scale, augment=True)\n",
        "val_dataset = TrajectoryDatasetTrain(train_data[train_size:], scale=scale, augment=False)\n",
        "\n",
        "train_dataloader = DataLoader(train_dataset, batch_size=32, shuffle=True, collate_fn=lambda x: Batch.from_data_list(x))\n",
        "val_dataloader = DataLoader(val_dataset, batch_size=32, shuffle=False, collate_fn=lambda x: Batch.from_data_list(x))\n",
        "\n",
        "# Set device for training speedup\n",
        "if torch.backends.mps.is_available():\n",
        "    device = torch.device('mps')\n",
        "    print(\"Using Apple Silicon GPU\")\n",
        "elif torch.cuda.is_available():\n",
        "    device = torch.device('cuda')\n",
        "    print(\"Using CUDA GPU\")\n",
        "else:\n",
        "    device = torch.device('cpu')"
      ]
    },
    {
      "cell_type": "markdown",
      "metadata": {},
      "source": [
        "# LSTM"
      ]
    },
    {
      "cell_type": "code",
      "execution_count": 7,
      "metadata": {},
      "outputs": [],
      "source": [
        "# class AutoRegressiveLSTM(nn.Module):\n",
        "#     def __init__(self, input_dim=5, hidden_dim=512, output_dim=2, num_layers=1, future_steps=60):\n",
        "#         super().__init__()\n",
        "#         self.hidden_dim = hidden_dim\n",
        "#         self.num_layers = num_layers\n",
        "#         self.future_steps = future_steps\n",
        "\n",
        "#         # Encoder: takes in past trajectory\n",
        "#         self.encoder = nn.LSTM(input_size=input_dim, hidden_size=hidden_dim, num_layers=num_layers, batch_first=True)\n",
        "\n",
        "#         # Decoder: predicts future positions one step at a time\n",
        "#         self.decoder = nn.LSTM(input_size=2, hidden_size=hidden_dim, num_layers=num_layers, batch_first=True)\n",
        "#         self.out = nn.Linear(hidden_dim, output_dim)\n",
        "\n",
        "#     def forward(self, data, forcing_ratio = 0.5):\n",
        "#     # def forward(self, data):\n",
        "#         x = data.x[..., :5]  # Use position + velocity\n",
        "#         x = x.reshape(-1, 50, 50, 5)[:, 0, :, :]  # (batch, 50, 5), ego only\n",
        "         \n",
        "#         batch_size = x.size(0)\n",
        "        \n",
        "#         if self.training:\n",
        "#             future = data.y.view(batch_size, 60, 2) # (batch, 60, 2)\n",
        "\n",
        "#         # Encode past\n",
        "#         _, (hidden, cell) = self.encoder(x)\n",
        "\n",
        "#         # Initialize decoder input with last observed position\n",
        "#         decoder_input = x[:, -1, :2].unsqueeze(1)  # (batch, 1, 2)\n",
        "        \n",
        "#         # print(\"decoder_input.shape - initial\", decoder_input.shape)  # should be (batch, 1, 2)\n",
        "\n",
        "#         outputs = []\n",
        "\n",
        "#         for t in range(self.future_steps):\n",
        "#             output, (hidden, cell) = self.decoder(decoder_input, (hidden, cell))\n",
        "#             pred = self.out(output)  # (batch, 1, 2)\n",
        "#             outputs.append(pred)\n",
        "\n",
        "#             # TODO: remove forcing ratio?\n",
        "#             if self.training and random.random() < forcing_ratio:\n",
        "#             # if self.training:\n",
        "#                 decoder_input = future[:, t].unsqueeze(1)  # ground truth\n",
        "#                 # print(\"decoder_input.shape - teacher forcing\", decoder_input.shape)  # should be (batch, 1, 2)\n",
        "#             else:\n",
        "#                 decoder_input = pred.detach()  # predicted output as next input\n",
        "#                 # print(\"decoder_input.shape - autoreg\", decoder_input.shape)  # should be (batch, 1, 2)\n",
        "\n",
        "#         outputs = torch.cat(outputs, dim=1)  # (batch, 60, 2)\n",
        "#         return outputs"
      ]
    },
    {
      "cell_type": "code",
      "execution_count": 8,
      "metadata": {},
      "outputs": [],
      "source": [
        "class AutoRegressiveLSTM(nn.Module):\n",
        "    def __init__(self, input_dim=5, hidden_dim=512, output_dim=2, num_layers=1, future_steps=60):\n",
        "        super().__init__()\n",
        "        self.hidden_dim = hidden_dim\n",
        "        self.num_layers = num_layers\n",
        "        self.future_steps = future_steps\n",
        "\n",
        "        # Separate encoder for ego and each neighbor agent\n",
        "        self.encoder = nn.LSTM(input_size=input_dim, hidden_size=hidden_dim, num_layers=num_layers, batch_first=True)\n",
        "        self.neighbor_encoder = nn.LSTM(input_size=input_dim, hidden_size=hidden_dim, num_layers=num_layers, batch_first=True)\n",
        "        # self.neighbor_encoder2 = nn.LSTM(input_size=input_dim, hidden_size=hidden_dim, num_layers=num_layers, batch_first=True)\n",
        "        # self.neighbor_encoder3 = nn.LSTM(input_size=input_dim, hidden_size=hidden_dim, num_layers=num_layers, batch_first=True)\n",
        "\n",
        "        # Decoder\n",
        "        self.decoder = nn.LSTM(input_size=2, hidden_size=hidden_dim * 2, num_layers=num_layers, batch_first=True)\n",
        "        self.out = nn.Linear(hidden_dim * 2, output_dim)\n",
        "\n",
        "    def forward(self, data, forcing_ratio=0.5):\n",
        "        x = data.x[..., :5]  # Only pos & vel\n",
        "        x = x.reshape(-1, 50, 50, 5)  # (batch, agents=50, time=50, features=5)\n",
        "        batch_size = x.size(0)\n",
        "        device = x.device\n",
        "\n",
        "        if self.training:\n",
        "            future = data.y.view(batch_size, 60, 2)\n",
        "\n",
        "        # ---- EGO TRAJECTORY ----\n",
        "        ego_traj = x[:, 0, :, :]  # (batch, 50, 5)\n",
        "\n",
        "        # ---- DISTANCES TO OTHER AGENTS ----\n",
        "        ego_pos = x[:, 0, 49, :2].unsqueeze(1)  # (batch, 1, 2)\n",
        "        agent_pos = x[:, :, 49, :2]  # (batch, 50, 2)\n",
        "        dists = torch.norm(agent_pos - ego_pos, dim=-1)  # (batch, 50)\n",
        "        dists[:, 0] = float('inf')  # mask out ego\n",
        "\n",
        "        # ---- SELECT 3 CLOSEST NEIGHBORS ----\n",
        "        _, neighbor_ids = torch.topk(dists, k=1, dim=1, largest=False)  # (batch, 3)\n",
        "\n",
        "        # ---- ENCODE EGO ----\n",
        "        _, (ego_hidden, ego_cell) = self.encoder(ego_traj)  # each: (num_layers, batch, hidden_dim)\n",
        "\n",
        "        # ---- ENCODE NEIGHBORS ----\n",
        "        neighbor_hidden_list = []\n",
        "        neighbor_cell_list = []\n",
        "\n",
        "        for i in range(1):\n",
        "            idx = neighbor_ids[:, i]  # (batch,)\n",
        "            neighbor_trajs = torch.stack([x[b, idx[b]] for b in range(batch_size)], dim=0)  # (batch, 50, 5)\n",
        "\n",
        "            _, (n_hidden, n_cell) = self.neighbor_encoder(neighbor_trajs)  # both: (num_layers, batch, hidden_dim)\n",
        "\n",
        "            neighbor_hidden_list.append(n_hidden)\n",
        "            neighbor_cell_list.append(n_cell)\n",
        "\n",
        "        # ---- CONCATENATE HIDDEN AND CELL STATES ----\n",
        "        hidden = torch.cat([ego_hidden] + neighbor_hidden_list, dim=2)  # (num_layers, batch, hidden_dim * 4)\n",
        "        cell   = torch.cat([ego_cell]   + neighbor_cell_list, dim=2)   # (num_layers, batch, hidden_dim * 4)\n",
        "\n",
        "        # ---- DECODER INIT ----\n",
        "        decoder_input = ego_traj[:, -1, :2].unsqueeze(1)  # (batch, 1, 2)\n",
        "\n",
        "        outputs = []\n",
        "\n",
        "        for t in range(self.future_steps):\n",
        "            output, (hidden, cell) = self.decoder(decoder_input, (hidden, cell))\n",
        "            pred = self.out(output)  # (batch, 1, 2)\n",
        "            outputs.append(pred)\n",
        "\n",
        "            if self.training and random.random() < forcing_ratio:\n",
        "                decoder_input = future[:, t].unsqueeze(1)\n",
        "            else:\n",
        "                decoder_input = pred.detach()\n",
        "\n",
        "        outputs = torch.cat(outputs, dim=1)  # (batch, 60, 2)\n",
        "        return outputs"
      ]
    },
    {
      "cell_type": "markdown",
      "metadata": {},
      "source": [
        "# Train"
      ]
    },
    {
      "cell_type": "code",
      "execution_count": 9,
      "metadata": {},
      "outputs": [],
      "source": [
        "def train_improved_model(model, train_dataloader, val_dataloader, \n",
        "                         device, criterion=nn.MSELoss(), \n",
        "                         lr=0.001, epochs=100, patience=15):\n",
        "    \"\"\"\n",
        "    Improved training function with better debugging and early stopping\n",
        "    \"\"\"\n",
        "    # Initialize optimizer with smaller learning rate\n",
        "    optimizer = torch.optim.Adam(model.parameters(), lr=lr)\n",
        "    \n",
        "    # Exponential decay scheduler\n",
        "    scheduler = torch.optim.lr_scheduler.ExponentialLR(optimizer, gamma=0.95)\n",
        "    \n",
        "    early_stopping_patience = patience\n",
        "    best_val_loss = float('inf')\n",
        "    no_improvement = 0\n",
        "    \n",
        "    # Save initial state for comparison\n",
        "    initial_state_dict = {k: v.clone() for k, v in model.state_dict().items()}\n",
        "    \n",
        "    for epoch in tqdm.tqdm(range(epochs), desc=\"Epoch\", unit=\"epoch\"):\n",
        "        # ---- Training ----\n",
        "        model.train()\n",
        "        train_loss = 0\n",
        "        num_train_batches = 0\n",
        "        forcing_ratio = max(0.0, 1.0 - epoch / 50)\n",
        "        \n",
        "        for batch in train_dataloader:\n",
        "            batch = batch.to(device)\n",
        "            pred = model(batch, forcing_ratio=forcing_ratio)\n",
        "            y = batch.y.view(batch.num_graphs, 60, 2)\n",
        "            \n",
        "            # Check for NaN predictions\n",
        "            if torch.isnan(pred).any():\n",
        "                print(f\"WARNING: NaN detected in predictions during training\")\n",
        "                continue\n",
        "                \n",
        "            loss = criterion(pred, y)\n",
        "            \n",
        "            # Check if loss is valid\n",
        "            if torch.isnan(loss) or torch.isinf(loss):\n",
        "                print(f\"WARNING: Invalid loss value: {loss.item()}\")\n",
        "                continue\n",
        "                \n",
        "            optimizer.zero_grad()\n",
        "            loss.backward()\n",
        "            \n",
        "            # More conservative gradient clipping\n",
        "            torch.nn.utils.clip_grad_norm_(model.parameters(), 1.0)\n",
        "            \n",
        "            optimizer.step()\n",
        "            train_loss += loss.item()\n",
        "            num_train_batches += 1\n",
        "        \n",
        "        # Skip epoch if no valid batches\n",
        "        if num_train_batches == 0:\n",
        "            print(\"WARNING: No valid training batches in this epoch\")\n",
        "            continue\n",
        "            \n",
        "        train_loss /= num_train_batches\n",
        "        \n",
        "        # ---- Validation ----\n",
        "        model.eval()\n",
        "        val_loss = 0\n",
        "        val_mae = 0\n",
        "        val_mse = 0\n",
        "        num_val_batches = 0\n",
        "        \n",
        "        # Sample predictions for debugging\n",
        "        sample_input = None\n",
        "        sample_pred = None\n",
        "        sample_target = None\n",
        "        \n",
        "        with torch.no_grad():\n",
        "            for batch_idx, batch in enumerate(val_dataloader):\n",
        "                batch = batch.to(device)\n",
        "                pred = model(batch)\n",
        "                y = batch.y.view(batch.num_graphs, 60, 2)\n",
        "                \n",
        "                # Store sample for debugging\n",
        "                if batch_idx == 0 and sample_input is None:\n",
        "                    sample_input = batch.x[0].cpu().numpy()\n",
        "                    sample_pred = pred[0].cpu().numpy()\n",
        "                    sample_target = y[0].cpu().numpy()\n",
        "                \n",
        "                # Skip invalid predictions\n",
        "                if torch.isnan(pred).any():\n",
        "                    print(f\"WARNING: NaN detected in predictions during validation\")\n",
        "                    continue\n",
        "                    \n",
        "                batch_loss = criterion(pred, y).item()\n",
        "                val_loss += batch_loss\n",
        "                \n",
        "                # Unnormalize for real-world metrics\n",
        "                # batch.scale turns scale from 7.0 or (1,) shape i.e. scalar to (B,) shape\n",
        "                # batch.origin turns origin from (1,2) shape to (B,2)\n",
        "                \n",
        "                # then .view(-1, 1, 1) turns scale from (B,) to (B, 1, 1)\n",
        "                # then .unsqueeze(1) turns origin from (B, 2) to (B, 1, 2)\n",
        "                # because pred and y have shapes (B, 60, 2) so these transformations make them compatible for the calculation\n",
        "                \n",
        "                # TODO: should scale?\n",
        "                pred_unnorm = pred * batch.scale.view(-1, 1, 1)\n",
        "                y_unnorm = y * batch.scale.view(-1, 1, 1)\n",
        "                \n",
        "                val_mae += nn.L1Loss()(pred_unnorm, y_unnorm).item()\n",
        "                val_mse += nn.MSELoss()(pred_unnorm, y_unnorm).item()\n",
        "                \n",
        "                num_val_batches += 1\n",
        "        \n",
        "        # Skip epoch if no valid validation batches\n",
        "        if num_val_batches == 0:\n",
        "            print(\"WARNING: No valid validation batches in this epoch\")\n",
        "            continue\n",
        "            \n",
        "        val_loss /= num_val_batches\n",
        "        val_mae /= num_val_batches\n",
        "        val_mse /= num_val_batches\n",
        "        \n",
        "        # Update learning rate\n",
        "        scheduler.step()\n",
        "        \n",
        "        # Print with more details\n",
        "        tqdm.tqdm.write(\n",
        "            f\"Epoch {epoch:03d} | LR {optimizer.param_groups[0]['lr']:.6f} | \"\n",
        "            f\"Train MSE {train_loss:.4f} | Val MSE (normalized) {val_loss:.4f} | \"\n",
        "            f\"Val MAE (true) {val_mae:.4f} | Val MSE (true) {val_mse:.4f}\"\n",
        "        )\n",
        "        \n",
        "        # Debug output - first 3 predictions vs targets\n",
        "        if epoch % 5 == 0:\n",
        "            tqdm.tqdm.write(f\"Sample pred first 3 steps: {sample_pred[:3]}\")\n",
        "            tqdm.tqdm.write(f\"Sample target first 3 steps: {sample_target[:3]}\")\n",
        "            \n",
        "            # Check if model weights are changing\n",
        "            if epoch > 0:\n",
        "                weight_change = False\n",
        "                for name, param in model.named_parameters():\n",
        "                    if param.requires_grad:\n",
        "                        initial_param = initial_state_dict[name]\n",
        "                        if not torch.allclose(param, initial_param, rtol=1e-4):\n",
        "                            weight_change = True\n",
        "                            break\n",
        "                if not weight_change:\n",
        "                    tqdm.tqdm.write(\"WARNING: Model weights barely changing!\")\n",
        "        \n",
        "        # Relaxed improvement criterion - consider any improvement\n",
        "        if val_loss < best_val_loss:\n",
        "            tqdm.tqdm.write(f\"Validation improved: {best_val_loss:.6f} -> {val_loss:.6f}\")\n",
        "            best_val_loss = val_loss\n",
        "            no_improvement = 0\n",
        "            torch.save(model.state_dict(), best_model)\n",
        "        else:\n",
        "            no_improvement += 1\n",
        "            if no_improvement >= early_stopping_patience:\n",
        "                print(f\"Early stopping after {epoch+1} epochs without improvement\")\n",
        "                break\n",
        "    \n",
        "    # Load best model before returning\n",
        "    model.load_state_dict(torch.load(best_model))\n",
        "    return model"
      ]
    },
    {
      "cell_type": "code",
      "execution_count": 10,
      "metadata": {},
      "outputs": [],
      "source": [
        "# Example usage\n",
        "def train_and_evaluate_model():\n",
        "    # Create model\n",
        "    model = AutoRegressiveLSTM()\n",
        "    model = model.to(device)\n",
        "    \n",
        "    # Train with improved function\n",
        "    train_improved_model(\n",
        "        model=model,\n",
        "        train_dataloader=train_dataloader,\n",
        "        val_dataloader=val_dataloader,\n",
        "        device=device,\n",
        "        # lr = 0.007,  # => 8.98, ps: 10.01\n",
        "        lr=0.005,  # Lower learning rate\n",
        "        patience=20,  # More patience\n",
        "        epochs=150\n",
        "    )\n",
        "    \n",
        "    # Evaluate\n",
        "    model.eval()\n",
        "    test_mse = 0\n",
        "    with torch.no_grad():\n",
        "        for batch in val_dataloader:\n",
        "            batch = batch.to(device)\n",
        "            pred = model(batch)\n",
        "            y = batch.y.view(batch.num_graphs, 60, 2)\n",
        "            \n",
        "            # Unnormalize\n",
        "            pred = pred * batch.scale.view(-1, 1, 1)\n",
        "            y = y * batch.scale.view(-1, 1, 1)\n",
        "            \n",
        "            test_mse += nn.MSELoss()(pred, y).item()\n",
        "    \n",
        "    test_mse /= len(val_dataloader)\n",
        "    print(f\"Val MSE: {test_mse:.4f}\")\n",
        "    \n",
        "    return model"
      ]
    },
    {
      "cell_type": "code",
      "execution_count": 11,
      "metadata": {},
      "outputs": [
        {
          "name": "stderr",
          "output_type": "stream",
          "text": [
            "Epoch:   0%|          | 0/150 [00:00<?, ?epoch/s]/var/folders/w3/lr66s56958q3881y1btpylth0000gn/T/ipykernel_99590/1407810273.py:30: DeprecationWarning: __array_wrap__ must accept context and return_scalar arguments (positionally) in the future. (Deprecated NumPy 2.0)\n",
            "  future = future @ R\n",
            "Epoch:   1%|          | 1/150 [00:29<1:13:15, 29.50s/epoch]"
          ]
        },
        {
          "name": "stdout",
          "output_type": "stream",
          "text": [
            "Epoch 000 | LR 0.004750 | Train MSE 0.0733 | Val MSE (normalized) 0.1755 | Val MAE (true) 1.9804 | Val MSE (true) 8.6010\n",
            "Sample pred first 3 steps: [[-0.02281219  0.00532903]\n",
            " [-0.01371871  0.003571  ]\n",
            " [-0.00165647 -0.00037266]]\n",
            "Sample target first 3 steps: [[-1.0263214e-05  5.1069769e-06]\n",
            " [-8.2099714e-06  2.6287930e-06]\n",
            " [ 1.4959690e-05 -1.9491419e-05]]\n",
            "Validation improved: inf -> 0.175531\n"
          ]
        },
        {
          "name": "stderr",
          "output_type": "stream",
          "text": [
            "Epoch:   1%|▏         | 2/150 [00:57<1:10:42, 28.66s/epoch]"
          ]
        },
        {
          "name": "stdout",
          "output_type": "stream",
          "text": [
            "Epoch 001 | LR 0.004513 | Train MSE 0.0041 | Val MSE (normalized) 0.4016 | Val MAE (true) 2.8381 | Val MSE (true) 19.6802\n"
          ]
        },
        {
          "name": "stderr",
          "output_type": "stream",
          "text": [
            "Epoch:   2%|▏         | 3/150 [01:25<1:09:53, 28.52s/epoch]"
          ]
        },
        {
          "name": "stdout",
          "output_type": "stream",
          "text": [
            "Epoch 002 | LR 0.004287 | Train MSE 0.0040 | Val MSE (normalized) 1.0439 | Val MAE (true) 5.3268 | Val MSE (true) 51.1517\n"
          ]
        },
        {
          "name": "stderr",
          "output_type": "stream",
          "text": [
            "Epoch:   3%|▎         | 4/150 [01:53<1:08:48, 28.28s/epoch]"
          ]
        },
        {
          "name": "stdout",
          "output_type": "stream",
          "text": [
            "Epoch 003 | LR 0.004073 | Train MSE 0.0040 | Val MSE (normalized) 0.4104 | Val MAE (true) 2.7449 | Val MSE (true) 20.1072\n"
          ]
        },
        {
          "name": "stderr",
          "output_type": "stream",
          "text": [
            "Epoch:   3%|▎         | 5/150 [02:21<1:07:50, 28.07s/epoch]"
          ]
        },
        {
          "name": "stdout",
          "output_type": "stream",
          "text": [
            "Epoch 004 | LR 0.003869 | Train MSE 0.0040 | Val MSE (normalized) 0.1126 | Val MAE (true) 1.5961 | Val MSE (true) 5.5165\n",
            "Validation improved: 0.175531 -> 0.112581\n"
          ]
        },
        {
          "name": "stderr",
          "output_type": "stream",
          "text": [
            "Epoch:   4%|▍         | 6/150 [02:49<1:07:30, 28.13s/epoch]"
          ]
        },
        {
          "name": "stdout",
          "output_type": "stream",
          "text": [
            "Epoch 005 | LR 0.003675 | Train MSE 0.0360 | Val MSE (normalized) 0.1832 | Val MAE (true) 2.2387 | Val MSE (true) 8.9762\n",
            "Sample pred first 3 steps: [[-0.21203573 -0.12548392]\n",
            " [-0.22041957 -0.11542933]\n",
            " [-0.22188875 -0.10979697]]\n",
            "Sample target first 3 steps: [[-1.0263214e-05  5.1069769e-06]\n",
            " [-8.2099714e-06  2.6287930e-06]\n",
            " [ 1.4959690e-05 -1.9491419e-05]]\n"
          ]
        },
        {
          "name": "stderr",
          "output_type": "stream",
          "text": [
            "Epoch:   5%|▍         | 7/150 [03:18<1:07:08, 28.17s/epoch]"
          ]
        },
        {
          "name": "stdout",
          "output_type": "stream",
          "text": [
            "Epoch 006 | LR 0.003492 | Train MSE 0.0048 | Val MSE (normalized) 0.1123 | Val MAE (true) 1.6247 | Val MSE (true) 5.5037\n",
            "Validation improved: 0.112581 -> 0.112319\n"
          ]
        },
        {
          "name": "stderr",
          "output_type": "stream",
          "text": [
            "Epoch:   5%|▌         | 8/150 [03:46<1:06:50, 28.25s/epoch]"
          ]
        },
        {
          "name": "stdout",
          "output_type": "stream",
          "text": [
            "Epoch 007 | LR 0.003317 | Train MSE 0.0042 | Val MSE (normalized) 0.0933 | Val MAE (true) 1.5396 | Val MSE (true) 4.5724\n",
            "Validation improved: 0.112319 -> 0.093313\n"
          ]
        },
        {
          "name": "stderr",
          "output_type": "stream",
          "text": [
            "Epoch:   6%|▌         | 9/150 [04:14<1:06:32, 28.31s/epoch]"
          ]
        },
        {
          "name": "stdout",
          "output_type": "stream",
          "text": [
            "Epoch 008 | LR 0.003151 | Train MSE 0.0040 | Val MSE (normalized) 0.1228 | Val MAE (true) 1.6212 | Val MSE (true) 6.0191\n"
          ]
        },
        {
          "name": "stderr",
          "output_type": "stream",
          "text": [
            "Epoch:   7%|▋         | 10/150 [04:42<1:05:48, 28.20s/epoch]"
          ]
        },
        {
          "name": "stdout",
          "output_type": "stream",
          "text": [
            "Epoch 009 | LR 0.002994 | Train MSE 0.0035 | Val MSE (normalized) 0.2840 | Val MAE (true) 2.7364 | Val MSE (true) 13.9176\n"
          ]
        },
        {
          "name": "stderr",
          "output_type": "stream",
          "text": [
            "Epoch:   7%|▋         | 11/150 [05:10<1:04:41, 27.92s/epoch]"
          ]
        },
        {
          "name": "stdout",
          "output_type": "stream",
          "text": [
            "Epoch 010 | LR 0.002844 | Train MSE 0.0026 | Val MSE (normalized) 0.2191 | Val MAE (true) 2.2871 | Val MSE (true) 10.7344\n",
            "Sample pred first 3 steps: [[0.03396042 0.03326222]\n",
            " [0.04123395 0.03001756]\n",
            " [0.0339615  0.03155021]]\n",
            "Sample target first 3 steps: [[-1.0263214e-05  5.1069769e-06]\n",
            " [-8.2099714e-06  2.6287930e-06]\n",
            " [ 1.4959690e-05 -1.9491419e-05]]\n"
          ]
        },
        {
          "name": "stderr",
          "output_type": "stream",
          "text": [
            "Epoch:   8%|▊         | 12/150 [05:39<1:05:01, 28.27s/epoch]"
          ]
        },
        {
          "name": "stdout",
          "output_type": "stream",
          "text": [
            "Epoch 011 | LR 0.002702 | Train MSE 0.0024 | Val MSE (normalized) 0.7776 | Val MAE (true) 4.7727 | Val MSE (true) 38.1010\n"
          ]
        },
        {
          "name": "stderr",
          "output_type": "stream",
          "text": [
            "Epoch:   9%|▊         | 13/150 [06:06<1:04:06, 28.08s/epoch]"
          ]
        },
        {
          "name": "stdout",
          "output_type": "stream",
          "text": [
            "Epoch 012 | LR 0.002567 | Train MSE 0.0022 | Val MSE (normalized) 0.2743 | Val MAE (true) 2.3973 | Val MSE (true) 13.4411\n"
          ]
        },
        {
          "name": "stderr",
          "output_type": "stream",
          "text": [
            "Epoch:   9%|▉         | 14/150 [06:34<1:03:32, 28.04s/epoch]"
          ]
        },
        {
          "name": "stdout",
          "output_type": "stream",
          "text": [
            "Epoch 013 | LR 0.002438 | Train MSE 0.0021 | Val MSE (normalized) 0.0981 | Val MAE (true) 1.4832 | Val MSE (true) 4.8071\n"
          ]
        },
        {
          "name": "stderr",
          "output_type": "stream",
          "text": [
            "Epoch:  10%|█         | 15/150 [07:02<1:02:46, 27.90s/epoch]"
          ]
        },
        {
          "name": "stdout",
          "output_type": "stream",
          "text": [
            "Epoch 014 | LR 0.002316 | Train MSE 0.0022 | Val MSE (normalized) 0.1021 | Val MAE (true) 1.4699 | Val MSE (true) 5.0037\n"
          ]
        },
        {
          "name": "stderr",
          "output_type": "stream",
          "text": [
            "Epoch:  11%|█         | 16/150 [07:31<1:03:02, 28.23s/epoch]"
          ]
        },
        {
          "name": "stdout",
          "output_type": "stream",
          "text": [
            "Epoch 015 | LR 0.002201 | Train MSE 0.0020 | Val MSE (normalized) 0.6403 | Val MAE (true) 3.8731 | Val MSE (true) 31.3749\n",
            "Sample pred first 3 steps: [[-0.0366898   0.00874915]\n",
            " [-0.02773838  0.01670848]\n",
            " [-0.01533841  0.03487716]]\n",
            "Sample target first 3 steps: [[-1.0263214e-05  5.1069769e-06]\n",
            " [-8.2099714e-06  2.6287930e-06]\n",
            " [ 1.4959690e-05 -1.9491419e-05]]\n"
          ]
        },
        {
          "name": "stderr",
          "output_type": "stream",
          "text": [
            "Epoch:  11%|█▏        | 17/150 [08:00<1:03:11, 28.51s/epoch]"
          ]
        },
        {
          "name": "stdout",
          "output_type": "stream",
          "text": [
            "Epoch 016 | LR 0.002091 | Train MSE 0.0021 | Val MSE (normalized) 0.1288 | Val MAE (true) 1.6619 | Val MSE (true) 6.3097\n"
          ]
        },
        {
          "name": "stderr",
          "output_type": "stream",
          "text": [
            "Epoch:  12%|█▏        | 18/150 [08:29<1:03:14, 28.74s/epoch]"
          ]
        },
        {
          "name": "stdout",
          "output_type": "stream",
          "text": [
            "Epoch 017 | LR 0.001986 | Train MSE 0.0020 | Val MSE (normalized) 0.1215 | Val MAE (true) 1.6142 | Val MSE (true) 5.9556\n"
          ]
        },
        {
          "name": "stderr",
          "output_type": "stream",
          "text": [
            "Epoch:  13%|█▎        | 19/150 [08:57<1:02:14, 28.50s/epoch]"
          ]
        },
        {
          "name": "stdout",
          "output_type": "stream",
          "text": [
            "Epoch 018 | LR 0.001887 | Train MSE 0.0020 | Val MSE (normalized) 0.1580 | Val MAE (true) 1.8911 | Val MSE (true) 7.7430\n"
          ]
        },
        {
          "name": "stderr",
          "output_type": "stream",
          "text": [
            "Epoch:  13%|█▎        | 20/150 [09:26<1:02:08, 28.68s/epoch]"
          ]
        },
        {
          "name": "stdout",
          "output_type": "stream",
          "text": [
            "Epoch 019 | LR 0.001792 | Train MSE 0.0020 | Val MSE (normalized) 0.2589 | Val MAE (true) 2.6133 | Val MSE (true) 12.6849\n"
          ]
        },
        {
          "name": "stderr",
          "output_type": "stream",
          "text": [
            "Epoch:  14%|█▍        | 21/150 [09:56<1:02:21, 29.00s/epoch]"
          ]
        },
        {
          "name": "stdout",
          "output_type": "stream",
          "text": [
            "Epoch 020 | LR 0.001703 | Train MSE 0.0021 | Val MSE (normalized) 0.4376 | Val MAE (true) 3.4430 | Val MSE (true) 21.4448\n",
            "Sample pred first 3 steps: [[0.01448789 0.03393508]\n",
            " [0.02642855 0.03064401]\n",
            " [0.03913999 0.02273187]]\n",
            "Sample target first 3 steps: [[-1.0263214e-05  5.1069769e-06]\n",
            " [-8.2099714e-06  2.6287930e-06]\n",
            " [ 1.4959690e-05 -1.9491419e-05]]\n"
          ]
        },
        {
          "name": "stderr",
          "output_type": "stream",
          "text": [
            "Epoch:  15%|█▍        | 22/150 [10:25<1:02:02, 29.08s/epoch]"
          ]
        },
        {
          "name": "stdout",
          "output_type": "stream",
          "text": [
            "Epoch 021 | LR 0.001618 | Train MSE 0.0019 | Val MSE (normalized) 0.6621 | Val MAE (true) 3.9984 | Val MSE (true) 32.4443\n"
          ]
        },
        {
          "name": "stderr",
          "output_type": "stream",
          "text": [
            "Epoch:  15%|█▌        | 23/150 [10:53<1:00:23, 28.53s/epoch]"
          ]
        },
        {
          "name": "stdout",
          "output_type": "stream",
          "text": [
            "Epoch 022 | LR 0.001537 | Train MSE 0.0021 | Val MSE (normalized) 0.3879 | Val MAE (true) 2.9162 | Val MSE (true) 19.0085\n"
          ]
        },
        {
          "name": "stderr",
          "output_type": "stream",
          "text": [
            "Epoch:  16%|█▌        | 24/150 [11:21<59:54, 28.52s/epoch]  "
          ]
        },
        {
          "name": "stdout",
          "output_type": "stream",
          "text": [
            "Epoch 023 | LR 0.001460 | Train MSE 0.0022 | Val MSE (normalized) 0.0892 | Val MAE (true) 1.4101 | Val MSE (true) 4.3717\n",
            "Validation improved: 0.093313 -> 0.089218\n"
          ]
        },
        {
          "name": "stderr",
          "output_type": "stream",
          "text": [
            "Epoch:  17%|█▋        | 25/150 [11:50<59:28, 28.55s/epoch]"
          ]
        },
        {
          "name": "stdout",
          "output_type": "stream",
          "text": [
            "Epoch 024 | LR 0.001387 | Train MSE 0.0020 | Val MSE (normalized) 0.3159 | Val MAE (true) 2.8489 | Val MSE (true) 15.4775\n"
          ]
        },
        {
          "name": "stderr",
          "output_type": "stream",
          "text": [
            "Epoch:  17%|█▋        | 26/150 [12:18<59:02, 28.57s/epoch]"
          ]
        },
        {
          "name": "stdout",
          "output_type": "stream",
          "text": [
            "Epoch 025 | LR 0.001318 | Train MSE 0.0020 | Val MSE (normalized) 0.1758 | Val MAE (true) 2.0053 | Val MSE (true) 8.6148\n",
            "Sample pred first 3 steps: [[ 0.00022808 -0.0125886 ]\n",
            " [-0.0083388  -0.02298066]\n",
            " [-0.01085678 -0.03139948]]\n",
            "Sample target first 3 steps: [[-1.0263214e-05  5.1069769e-06]\n",
            " [-8.2099714e-06  2.6287930e-06]\n",
            " [ 1.4959690e-05 -1.9491419e-05]]\n"
          ]
        },
        {
          "name": "stderr",
          "output_type": "stream",
          "text": [
            "Epoch:  18%|█▊        | 27/150 [12:47<58:48, 28.69s/epoch]"
          ]
        },
        {
          "name": "stdout",
          "output_type": "stream",
          "text": [
            "Epoch 026 | LR 0.001252 | Train MSE 0.0021 | Val MSE (normalized) 0.0947 | Val MAE (true) 1.4593 | Val MSE (true) 4.6406\n"
          ]
        },
        {
          "name": "stderr",
          "output_type": "stream",
          "text": [
            "Epoch:  19%|█▊        | 28/150 [13:15<58:00, 28.53s/epoch]"
          ]
        },
        {
          "name": "stdout",
          "output_type": "stream",
          "text": [
            "Epoch 027 | LR 0.001189 | Train MSE 0.0023 | Val MSE (normalized) 0.2478 | Val MAE (true) 2.5051 | Val MSE (true) 12.1411\n"
          ]
        },
        {
          "name": "stderr",
          "output_type": "stream",
          "text": [
            "Epoch:  19%|█▉        | 29/150 [13:45<57:57, 28.74s/epoch]"
          ]
        },
        {
          "name": "stdout",
          "output_type": "stream",
          "text": [
            "Epoch 028 | LR 0.001130 | Train MSE 0.0023 | Val MSE (normalized) 0.0910 | Val MAE (true) 1.4622 | Val MSE (true) 4.4594\n"
          ]
        },
        {
          "name": "stderr",
          "output_type": "stream",
          "text": [
            "Epoch:  20%|██        | 30/150 [14:13<57:16, 28.64s/epoch]"
          ]
        },
        {
          "name": "stdout",
          "output_type": "stream",
          "text": [
            "Epoch 029 | LR 0.001073 | Train MSE 0.0021 | Val MSE (normalized) 0.2007 | Val MAE (true) 2.1519 | Val MSE (true) 9.8337\n"
          ]
        },
        {
          "name": "stderr",
          "output_type": "stream",
          "text": [
            "Epoch:  21%|██        | 31/150 [14:43<57:41, 29.09s/epoch]"
          ]
        },
        {
          "name": "stdout",
          "output_type": "stream",
          "text": [
            "Epoch 030 | LR 0.001020 | Train MSE 0.0022 | Val MSE (normalized) 0.0744 | Val MAE (true) 1.2472 | Val MSE (true) 3.6452\n",
            "Sample pred first 3 steps: [[0.02248871 0.02067634]\n",
            " [0.02266704 0.01340483]\n",
            " [0.01704846 0.01995561]]\n",
            "Sample target first 3 steps: [[-1.0263214e-05  5.1069769e-06]\n",
            " [-8.2099714e-06  2.6287930e-06]\n",
            " [ 1.4959690e-05 -1.9491419e-05]]\n",
            "Validation improved: 0.089218 -> 0.074392\n"
          ]
        },
        {
          "name": "stderr",
          "output_type": "stream",
          "text": [
            "Epoch:  21%|██▏       | 32/150 [15:13<57:37, 29.30s/epoch]"
          ]
        },
        {
          "name": "stdout",
          "output_type": "stream",
          "text": [
            "Epoch 031 | LR 0.000969 | Train MSE 0.0027 | Val MSE (normalized) 0.1495 | Val MAE (true) 1.7773 | Val MSE (true) 7.3252\n"
          ]
        },
        {
          "name": "stderr",
          "output_type": "stream",
          "text": [
            "Epoch:  22%|██▏       | 33/150 [15:43<57:13, 29.35s/epoch]"
          ]
        },
        {
          "name": "stdout",
          "output_type": "stream",
          "text": [
            "Epoch 032 | LR 0.000920 | Train MSE 0.0023 | Val MSE (normalized) 0.1070 | Val MAE (true) 1.5307 | Val MSE (true) 5.2423\n"
          ]
        },
        {
          "name": "stderr",
          "output_type": "stream",
          "text": [
            "Epoch:  23%|██▎       | 34/150 [16:11<56:03, 29.00s/epoch]"
          ]
        },
        {
          "name": "stdout",
          "output_type": "stream",
          "text": [
            "Epoch 033 | LR 0.000874 | Train MSE 0.0024 | Val MSE (normalized) 0.1188 | Val MAE (true) 1.6713 | Val MSE (true) 5.8225\n"
          ]
        },
        {
          "name": "stderr",
          "output_type": "stream",
          "text": [
            "Epoch:  23%|██▎       | 35/150 [16:39<55:09, 28.78s/epoch]"
          ]
        },
        {
          "name": "stdout",
          "output_type": "stream",
          "text": [
            "Epoch 034 | LR 0.000830 | Train MSE 0.0029 | Val MSE (normalized) 0.1889 | Val MAE (true) 2.1158 | Val MSE (true) 9.2574\n"
          ]
        },
        {
          "name": "stderr",
          "output_type": "stream",
          "text": [
            "Epoch:  24%|██▍       | 36/150 [17:06<53:47, 28.31s/epoch]"
          ]
        },
        {
          "name": "stdout",
          "output_type": "stream",
          "text": [
            "Epoch 035 | LR 0.000789 | Train MSE 0.0032 | Val MSE (normalized) 0.1006 | Val MAE (true) 1.5333 | Val MSE (true) 4.9298\n",
            "Sample pred first 3 steps: [[ 0.00583795 -0.00879774]\n",
            " [ 0.00835568 -0.00320637]\n",
            " [ 0.00550868 -0.00614661]]\n",
            "Sample target first 3 steps: [[-1.0263214e-05  5.1069769e-06]\n",
            " [-8.2099714e-06  2.6287930e-06]\n",
            " [ 1.4959690e-05 -1.9491419e-05]]\n"
          ]
        },
        {
          "name": "stderr",
          "output_type": "stream",
          "text": [
            "Epoch:  25%|██▍       | 37/150 [17:34<53:01, 28.15s/epoch]"
          ]
        },
        {
          "name": "stdout",
          "output_type": "stream",
          "text": [
            "Epoch 036 | LR 0.000749 | Train MSE 0.0026 | Val MSE (normalized) 0.2026 | Val MAE (true) 2.0116 | Val MSE (true) 9.9267\n"
          ]
        },
        {
          "name": "stderr",
          "output_type": "stream",
          "text": [
            "Epoch:  25%|██▌       | 38/150 [18:01<52:05, 27.91s/epoch]"
          ]
        },
        {
          "name": "stdout",
          "output_type": "stream",
          "text": [
            "Epoch 037 | LR 0.000712 | Train MSE 0.0028 | Val MSE (normalized) 0.0521 | Val MAE (true) 0.9613 | Val MSE (true) 2.5539\n",
            "Validation improved: 0.074392 -> 0.052121\n"
          ]
        },
        {
          "name": "stderr",
          "output_type": "stream",
          "text": [
            "Epoch:  26%|██▌       | 39/150 [18:29<51:34, 27.88s/epoch]"
          ]
        },
        {
          "name": "stdout",
          "output_type": "stream",
          "text": [
            "Epoch 038 | LR 0.000676 | Train MSE 0.0032 | Val MSE (normalized) 0.1961 | Val MAE (true) 2.2379 | Val MSE (true) 9.6082\n"
          ]
        },
        {
          "name": "stderr",
          "output_type": "stream",
          "text": [
            "Epoch:  27%|██▋       | 40/150 [18:57<50:55, 27.78s/epoch]"
          ]
        },
        {
          "name": "stdout",
          "output_type": "stream",
          "text": [
            "Epoch 039 | LR 0.000643 | Train MSE 0.0038 | Val MSE (normalized) 0.0890 | Val MAE (true) 1.4337 | Val MSE (true) 4.3624\n"
          ]
        },
        {
          "name": "stderr",
          "output_type": "stream",
          "text": [
            "Epoch:  27%|██▋       | 41/150 [19:24<50:27, 27.78s/epoch]"
          ]
        },
        {
          "name": "stdout",
          "output_type": "stream",
          "text": [
            "Epoch 040 | LR 0.000610 | Train MSE 0.0033 | Val MSE (normalized) 0.0952 | Val MAE (true) 1.5081 | Val MSE (true) 4.6666\n",
            "Sample pred first 3 steps: [[0.00532233 0.00613956]\n",
            " [0.01068797 0.00187729]\n",
            " [0.01608642 0.00481224]]\n",
            "Sample target first 3 steps: [[-1.0263214e-05  5.1069769e-06]\n",
            " [-8.2099714e-06  2.6287930e-06]\n",
            " [ 1.4959690e-05 -1.9491419e-05]]\n"
          ]
        },
        {
          "name": "stderr",
          "output_type": "stream",
          "text": [
            "Epoch:  28%|██▊       | 42/150 [19:53<50:10, 27.87s/epoch]"
          ]
        },
        {
          "name": "stdout",
          "output_type": "stream",
          "text": [
            "Epoch 041 | LR 0.000580 | Train MSE 0.0060 | Val MSE (normalized) 0.0839 | Val MAE (true) 1.3036 | Val MSE (true) 4.1097\n"
          ]
        },
        {
          "name": "stderr",
          "output_type": "stream",
          "text": [
            "Epoch:  29%|██▊       | 43/150 [20:20<49:25, 27.72s/epoch]"
          ]
        },
        {
          "name": "stdout",
          "output_type": "stream",
          "text": [
            "Epoch 042 | LR 0.000551 | Train MSE 0.0044 | Val MSE (normalized) 0.1604 | Val MAE (true) 1.8791 | Val MSE (true) 7.8607\n"
          ]
        },
        {
          "name": "stderr",
          "output_type": "stream",
          "text": [
            "Epoch:  29%|██▉       | 44/150 [20:48<49:03, 27.77s/epoch]"
          ]
        },
        {
          "name": "stdout",
          "output_type": "stream",
          "text": [
            "Epoch 043 | LR 0.000523 | Train MSE 0.0115 | Val MSE (normalized) 0.0779 | Val MAE (true) 1.3178 | Val MSE (true) 3.8195\n"
          ]
        },
        {
          "name": "stderr",
          "output_type": "stream",
          "text": [
            "Epoch:  30%|███       | 45/150 [21:15<48:20, 27.62s/epoch]"
          ]
        },
        {
          "name": "stdout",
          "output_type": "stream",
          "text": [
            "Epoch 044 | LR 0.000497 | Train MSE 0.0068 | Val MSE (normalized) 0.0947 | Val MAE (true) 1.3654 | Val MSE (true) 4.6390\n"
          ]
        },
        {
          "name": "stderr",
          "output_type": "stream",
          "text": [
            "Epoch:  31%|███       | 46/150 [21:43<47:54, 27.64s/epoch]"
          ]
        },
        {
          "name": "stdout",
          "output_type": "stream",
          "text": [
            "Epoch 045 | LR 0.000472 | Train MSE 0.0181 | Val MSE (normalized) 0.0618 | Val MAE (true) 1.0797 | Val MSE (true) 3.0264\n",
            "Sample pred first 3 steps: [[ 0.00961442 -0.00217176]\n",
            " [ 0.0129535   0.0009498 ]\n",
            " [ 0.0128065   0.00703873]]\n",
            "Sample target first 3 steps: [[-1.0263214e-05  5.1069769e-06]\n",
            " [-8.2099714e-06  2.6287930e-06]\n",
            " [ 1.4959690e-05 -1.9491419e-05]]\n"
          ]
        },
        {
          "name": "stderr",
          "output_type": "stream",
          "text": [
            "Epoch:  31%|███▏      | 47/150 [22:12<48:02, 27.98s/epoch]"
          ]
        },
        {
          "name": "stdout",
          "output_type": "stream",
          "text": [
            "Epoch 046 | LR 0.000449 | Train MSE 0.0132 | Val MSE (normalized) 0.0753 | Val MAE (true) 1.2220 | Val MSE (true) 3.6880\n"
          ]
        },
        {
          "name": "stderr",
          "output_type": "stream",
          "text": [
            "Epoch:  32%|███▏      | 48/150 [22:42<48:40, 28.63s/epoch]"
          ]
        },
        {
          "name": "stdout",
          "output_type": "stream",
          "text": [
            "Epoch 047 | LR 0.000426 | Train MSE 0.0241 | Val MSE (normalized) 0.0959 | Val MAE (true) 1.4540 | Val MSE (true) 4.7012\n"
          ]
        },
        {
          "name": "stderr",
          "output_type": "stream",
          "text": [
            "Epoch:  33%|███▎      | 49/150 [23:09<47:37, 28.29s/epoch]"
          ]
        },
        {
          "name": "stdout",
          "output_type": "stream",
          "text": [
            "Epoch 048 | LR 0.000405 | Train MSE 0.0308 | Val MSE (normalized) 0.0728 | Val MAE (true) 1.2107 | Val MSE (true) 3.5669\n"
          ]
        },
        {
          "name": "stderr",
          "output_type": "stream",
          "text": [
            "Epoch:  33%|███▎      | 50/150 [23:37<46:51, 28.11s/epoch]"
          ]
        },
        {
          "name": "stdout",
          "output_type": "stream",
          "text": [
            "Epoch 049 | LR 0.000385 | Train MSE 0.0454 | Val MSE (normalized) 0.0530 | Val MAE (true) 0.9095 | Val MSE (true) 2.5959\n"
          ]
        },
        {
          "name": "stderr",
          "output_type": "stream",
          "text": [
            "Epoch:  34%|███▍      | 51/150 [24:04<46:04, 27.93s/epoch]"
          ]
        },
        {
          "name": "stdout",
          "output_type": "stream",
          "text": [
            "Epoch 050 | LR 0.000365 | Train MSE 0.0614 | Val MSE (normalized) 0.0582 | Val MAE (true) 1.0868 | Val MSE (true) 2.8500\n",
            "Sample pred first 3 steps: [[0.01282464 0.01711261]\n",
            " [0.00871079 0.02439272]\n",
            " [0.01141141 0.02706172]]\n",
            "Sample target first 3 steps: [[-1.0263214e-05  5.1069769e-06]\n",
            " [-8.2099714e-06  2.6287930e-06]\n",
            " [ 1.4959690e-05 -1.9491419e-05]]\n"
          ]
        },
        {
          "name": "stderr",
          "output_type": "stream",
          "text": [
            "Epoch:  35%|███▍      | 52/150 [24:32<45:27, 27.83s/epoch]"
          ]
        },
        {
          "name": "stdout",
          "output_type": "stream",
          "text": [
            "Epoch 051 | LR 0.000347 | Train MSE 0.0588 | Val MSE (normalized) 0.0557 | Val MAE (true) 0.9991 | Val MSE (true) 2.7314\n"
          ]
        },
        {
          "name": "stderr",
          "output_type": "stream",
          "text": [
            "Epoch:  35%|███▌      | 53/150 [25:00<44:54, 27.78s/epoch]"
          ]
        },
        {
          "name": "stdout",
          "output_type": "stream",
          "text": [
            "Epoch 052 | LR 0.000330 | Train MSE 0.0536 | Val MSE (normalized) 0.0481 | Val MAE (true) 0.8863 | Val MSE (true) 2.3561\n",
            "Validation improved: 0.052121 -> 0.048083\n"
          ]
        },
        {
          "name": "stderr",
          "output_type": "stream",
          "text": [
            "Epoch:  36%|███▌      | 54/150 [25:27<44:28, 27.80s/epoch]"
          ]
        },
        {
          "name": "stdout",
          "output_type": "stream",
          "text": [
            "Epoch 053 | LR 0.000313 | Train MSE 0.0528 | Val MSE (normalized) 0.0554 | Val MAE (true) 1.0924 | Val MSE (true) 2.7158\n"
          ]
        },
        {
          "name": "stderr",
          "output_type": "stream",
          "text": [
            "Epoch:  37%|███▋      | 55/150 [25:56<44:19, 28.00s/epoch]"
          ]
        },
        {
          "name": "stdout",
          "output_type": "stream",
          "text": [
            "Epoch 054 | LR 0.000298 | Train MSE 0.0500 | Val MSE (normalized) 0.0502 | Val MAE (true) 0.9769 | Val MSE (true) 2.4592\n"
          ]
        },
        {
          "name": "stderr",
          "output_type": "stream",
          "text": [
            "Epoch:  37%|███▋      | 56/150 [26:28<46:00, 29.37s/epoch]"
          ]
        },
        {
          "name": "stdout",
          "output_type": "stream",
          "text": [
            "Epoch 055 | LR 0.000283 | Train MSE 0.0484 | Val MSE (normalized) 0.0445 | Val MAE (true) 0.8759 | Val MSE (true) 2.1801\n",
            "Sample pred first 3 steps: [[-0.00271113 -0.03608289]\n",
            " [ 0.00406322 -0.04721684]\n",
            " [ 0.0036332  -0.04800595]]\n",
            "Sample target first 3 steps: [[-1.0263214e-05  5.1069769e-06]\n",
            " [-8.2099714e-06  2.6287930e-06]\n",
            " [ 1.4959690e-05 -1.9491419e-05]]\n",
            "Validation improved: 0.048083 -> 0.044491\n"
          ]
        },
        {
          "name": "stderr",
          "output_type": "stream",
          "text": [
            "Epoch:  38%|███▊      | 57/150 [27:04<48:12, 31.10s/epoch]"
          ]
        },
        {
          "name": "stdout",
          "output_type": "stream",
          "text": [
            "Epoch 056 | LR 0.000269 | Train MSE 0.0480 | Val MSE (normalized) 0.0482 | Val MAE (true) 0.9475 | Val MSE (true) 2.3642\n"
          ]
        },
        {
          "name": "stderr",
          "output_type": "stream",
          "text": [
            "Epoch:  39%|███▊      | 58/150 [27:37<48:55, 31.91s/epoch]"
          ]
        },
        {
          "name": "stdout",
          "output_type": "stream",
          "text": [
            "Epoch 057 | LR 0.000255 | Train MSE 0.0463 | Val MSE (normalized) 0.0410 | Val MAE (true) 0.8019 | Val MSE (true) 2.0088\n",
            "Validation improved: 0.044491 -> 0.040996\n"
          ]
        },
        {
          "name": "stderr",
          "output_type": "stream",
          "text": [
            "Epoch:  39%|███▉      | 59/150 [28:12<49:27, 32.61s/epoch]"
          ]
        },
        {
          "name": "stdout",
          "output_type": "stream",
          "text": [
            "Epoch 058 | LR 0.000242 | Train MSE 0.0463 | Val MSE (normalized) 0.0444 | Val MAE (true) 0.8742 | Val MSE (true) 2.1740\n"
          ]
        },
        {
          "name": "stderr",
          "output_type": "stream",
          "text": [
            "Epoch:  40%|████      | 60/150 [28:46<49:42, 33.14s/epoch]"
          ]
        },
        {
          "name": "stdout",
          "output_type": "stream",
          "text": [
            "Epoch 059 | LR 0.000230 | Train MSE 0.0459 | Val MSE (normalized) 0.0422 | Val MAE (true) 0.8183 | Val MSE (true) 2.0680\n"
          ]
        },
        {
          "name": "stderr",
          "output_type": "stream",
          "text": [
            "Epoch:  41%|████      | 61/150 [29:21<49:47, 33.57s/epoch]"
          ]
        },
        {
          "name": "stdout",
          "output_type": "stream",
          "text": [
            "Epoch 060 | LR 0.000219 | Train MSE 0.0449 | Val MSE (normalized) 0.0410 | Val MAE (true) 0.7958 | Val MSE (true) 2.0101\n",
            "Sample pred first 3 steps: [[-0.00533427  0.0097316 ]\n",
            " [-0.00934868  0.01212978]\n",
            " [-0.0133912   0.01471621]]\n",
            "Sample target first 3 steps: [[-1.0263214e-05  5.1069769e-06]\n",
            " [-8.2099714e-06  2.6287930e-06]\n",
            " [ 1.4959690e-05 -1.9491419e-05]]\n"
          ]
        },
        {
          "name": "stderr",
          "output_type": "stream",
          "text": [
            "Epoch:  41%|████▏     | 62/150 [29:55<49:47, 33.95s/epoch]"
          ]
        },
        {
          "name": "stdout",
          "output_type": "stream",
          "text": [
            "Epoch 061 | LR 0.000208 | Train MSE 0.0447 | Val MSE (normalized) 0.0404 | Val MAE (true) 0.8004 | Val MSE (true) 1.9802\n",
            "Validation improved: 0.040996 -> 0.040411\n"
          ]
        },
        {
          "name": "stderr",
          "output_type": "stream",
          "text": [
            "Epoch:  42%|████▏     | 63/150 [30:30<49:33, 34.18s/epoch]"
          ]
        },
        {
          "name": "stdout",
          "output_type": "stream",
          "text": [
            "Epoch 062 | LR 0.000197 | Train MSE 0.0446 | Val MSE (normalized) 0.0438 | Val MAE (true) 0.8849 | Val MSE (true) 2.1452\n"
          ]
        },
        {
          "name": "stderr",
          "output_type": "stream",
          "text": [
            "Epoch:  43%|████▎     | 64/150 [31:05<49:27, 34.50s/epoch]"
          ]
        },
        {
          "name": "stdout",
          "output_type": "stream",
          "text": [
            "Epoch 063 | LR 0.000188 | Train MSE 0.0440 | Val MSE (normalized) 0.0414 | Val MAE (true) 0.8348 | Val MSE (true) 2.0262\n"
          ]
        },
        {
          "name": "stderr",
          "output_type": "stream",
          "text": [
            "Epoch:  43%|████▎     | 65/150 [31:42<49:43, 35.10s/epoch]"
          ]
        },
        {
          "name": "stdout",
          "output_type": "stream",
          "text": [
            "Epoch 064 | LR 0.000178 | Train MSE 0.0432 | Val MSE (normalized) 0.0411 | Val MAE (true) 0.8384 | Val MSE (true) 2.0116\n"
          ]
        },
        {
          "name": "stderr",
          "output_type": "stream",
          "text": [
            "Epoch:  44%|████▍     | 66/150 [32:15<48:15, 34.48s/epoch]"
          ]
        },
        {
          "name": "stdout",
          "output_type": "stream",
          "text": [
            "Epoch 065 | LR 0.000169 | Train MSE 0.0431 | Val MSE (normalized) 0.0412 | Val MAE (true) 0.8289 | Val MSE (true) 2.0201\n",
            "Sample pred first 3 steps: [[-0.02048032 -0.01226503]\n",
            " [-0.02549942 -0.01480421]\n",
            " [-0.02886111 -0.01401773]]\n",
            "Sample target first 3 steps: [[-1.0263214e-05  5.1069769e-06]\n",
            " [-8.2099714e-06  2.6287930e-06]\n",
            " [ 1.4959690e-05 -1.9491419e-05]]\n"
          ]
        },
        {
          "name": "stderr",
          "output_type": "stream",
          "text": [
            "Epoch:  45%|████▍     | 67/150 [32:49<47:26, 34.29s/epoch]"
          ]
        },
        {
          "name": "stdout",
          "output_type": "stream",
          "text": [
            "Epoch 066 | LR 0.000161 | Train MSE 0.0427 | Val MSE (normalized) 0.0396 | Val MAE (true) 0.7570 | Val MSE (true) 1.9424\n",
            "Validation improved: 0.040411 -> 0.039642\n"
          ]
        },
        {
          "name": "stderr",
          "output_type": "stream",
          "text": [
            "Epoch:  45%|████▌     | 68/150 [33:24<47:10, 34.52s/epoch]"
          ]
        },
        {
          "name": "stdout",
          "output_type": "stream",
          "text": [
            "Epoch 067 | LR 0.000153 | Train MSE 0.0426 | Val MSE (normalized) 0.0406 | Val MAE (true) 0.8049 | Val MSE (true) 1.9912\n"
          ]
        },
        {
          "name": "stderr",
          "output_type": "stream",
          "text": [
            "Epoch:  46%|████▌     | 69/150 [33:57<46:09, 34.20s/epoch]"
          ]
        },
        {
          "name": "stdout",
          "output_type": "stream",
          "text": [
            "Epoch 068 | LR 0.000145 | Train MSE 0.0417 | Val MSE (normalized) 0.0405 | Val MAE (true) 0.8283 | Val MSE (true) 1.9865\n"
          ]
        },
        {
          "name": "stderr",
          "output_type": "stream",
          "text": [
            "Epoch:  47%|████▋     | 70/150 [34:30<44:56, 33.71s/epoch]"
          ]
        },
        {
          "name": "stdout",
          "output_type": "stream",
          "text": [
            "Epoch 069 | LR 0.000138 | Train MSE 0.0418 | Val MSE (normalized) 0.0412 | Val MAE (true) 0.8504 | Val MSE (true) 2.0178\n"
          ]
        },
        {
          "name": "stderr",
          "output_type": "stream",
          "text": [
            "Epoch:  47%|████▋     | 71/150 [35:02<43:34, 33.09s/epoch]"
          ]
        },
        {
          "name": "stdout",
          "output_type": "stream",
          "text": [
            "Epoch 070 | LR 0.000131 | Train MSE 0.0419 | Val MSE (normalized) 0.0407 | Val MAE (true) 0.8431 | Val MSE (true) 1.9943\n",
            "Sample pred first 3 steps: [[ 0.00758889  0.01079812]\n",
            " [ 0.0019186   0.01455997]\n",
            " [-0.00405942  0.01897155]]\n",
            "Sample target first 3 steps: [[-1.0263214e-05  5.1069769e-06]\n",
            " [-8.2099714e-06  2.6287930e-06]\n",
            " [ 1.4959690e-05 -1.9491419e-05]]\n"
          ]
        },
        {
          "name": "stderr",
          "output_type": "stream",
          "text": [
            "Epoch:  48%|████▊     | 72/150 [35:35<43:18, 33.31s/epoch]"
          ]
        },
        {
          "name": "stdout",
          "output_type": "stream",
          "text": [
            "Epoch 071 | LR 0.000124 | Train MSE 0.0415 | Val MSE (normalized) 0.0384 | Val MAE (true) 0.7545 | Val MSE (true) 1.8793\n",
            "Validation improved: 0.039642 -> 0.038353\n"
          ]
        },
        {
          "name": "stderr",
          "output_type": "stream",
          "text": [
            "Epoch:  49%|████▊     | 73/150 [36:10<43:15, 33.70s/epoch]"
          ]
        },
        {
          "name": "stdout",
          "output_type": "stream",
          "text": [
            "Epoch 072 | LR 0.000118 | Train MSE 0.0416 | Val MSE (normalized) 0.0393 | Val MAE (true) 0.7922 | Val MSE (true) 1.9242\n"
          ]
        },
        {
          "name": "stderr",
          "output_type": "stream",
          "text": [
            "Epoch:  49%|████▉     | 74/150 [36:43<42:18, 33.40s/epoch]"
          ]
        },
        {
          "name": "stdout",
          "output_type": "stream",
          "text": [
            "Epoch 073 | LR 0.000112 | Train MSE 0.0410 | Val MSE (normalized) 0.0396 | Val MAE (true) 0.8181 | Val MSE (true) 1.9398\n"
          ]
        },
        {
          "name": "stderr",
          "output_type": "stream",
          "text": [
            "Epoch:  50%|█████     | 75/150 [37:15<41:31, 33.22s/epoch]"
          ]
        },
        {
          "name": "stdout",
          "output_type": "stream",
          "text": [
            "Epoch 074 | LR 0.000107 | Train MSE 0.0410 | Val MSE (normalized) 0.0407 | Val MAE (true) 0.8391 | Val MSE (true) 1.9935\n"
          ]
        },
        {
          "name": "stderr",
          "output_type": "stream",
          "text": [
            "Epoch:  51%|█████     | 76/150 [37:48<40:41, 33.00s/epoch]"
          ]
        },
        {
          "name": "stdout",
          "output_type": "stream",
          "text": [
            "Epoch 075 | LR 0.000101 | Train MSE 0.0414 | Val MSE (normalized) 0.0385 | Val MAE (true) 0.7749 | Val MSE (true) 1.8885\n",
            "Sample pred first 3 steps: [[ 0.00188205 -0.00619928]\n",
            " [ 0.00083    -0.005347  ]\n",
            " [ 0.00344983 -0.00679486]]\n",
            "Sample target first 3 steps: [[-1.0263214e-05  5.1069769e-06]\n",
            " [-8.2099714e-06  2.6287930e-06]\n",
            " [ 1.4959690e-05 -1.9491419e-05]]\n"
          ]
        },
        {
          "name": "stderr",
          "output_type": "stream",
          "text": [
            "Epoch:  51%|█████▏    | 77/150 [38:21<40:01, 32.89s/epoch]"
          ]
        },
        {
          "name": "stdout",
          "output_type": "stream",
          "text": [
            "Epoch 076 | LR 0.000096 | Train MSE 0.0409 | Val MSE (normalized) 0.0380 | Val MAE (true) 0.7455 | Val MSE (true) 1.8602\n",
            "Validation improved: 0.038353 -> 0.037963\n"
          ]
        },
        {
          "name": "stderr",
          "output_type": "stream",
          "text": [
            "Epoch:  52%|█████▏    | 78/150 [38:53<39:16, 32.73s/epoch]"
          ]
        },
        {
          "name": "stdout",
          "output_type": "stream",
          "text": [
            "Epoch 077 | LR 0.000091 | Train MSE 0.0404 | Val MSE (normalized) 0.0400 | Val MAE (true) 0.8302 | Val MSE (true) 1.9614\n"
          ]
        },
        {
          "name": "stderr",
          "output_type": "stream",
          "text": [
            "Epoch:  53%|█████▎    | 79/150 [39:26<38:47, 32.79s/epoch]"
          ]
        },
        {
          "name": "stdout",
          "output_type": "stream",
          "text": [
            "Epoch 078 | LR 0.000087 | Train MSE 0.0403 | Val MSE (normalized) 0.0383 | Val MAE (true) 0.7508 | Val MSE (true) 1.8772\n"
          ]
        },
        {
          "name": "stderr",
          "output_type": "stream",
          "text": [
            "Epoch:  53%|█████▎    | 80/150 [39:58<38:05, 32.65s/epoch]"
          ]
        },
        {
          "name": "stdout",
          "output_type": "stream",
          "text": [
            "Epoch 079 | LR 0.000083 | Train MSE 0.0405 | Val MSE (normalized) 0.0382 | Val MAE (true) 0.7499 | Val MSE (true) 1.8717\n"
          ]
        },
        {
          "name": "stderr",
          "output_type": "stream",
          "text": [
            "Epoch:  54%|█████▍    | 81/150 [40:32<37:49, 32.90s/epoch]"
          ]
        },
        {
          "name": "stdout",
          "output_type": "stream",
          "text": [
            "Epoch 080 | LR 0.000078 | Train MSE 0.0403 | Val MSE (normalized) 0.0381 | Val MAE (true) 0.7556 | Val MSE (true) 1.8677\n",
            "Sample pred first 3 steps: [[ 0.00272113  0.00212849]\n",
            " [-0.00140819  0.00067968]\n",
            " [-0.00239319  0.00282134]]\n",
            "Sample target first 3 steps: [[-1.0263214e-05  5.1069769e-06]\n",
            " [-8.2099714e-06  2.6287930e-06]\n",
            " [ 1.4959690e-05 -1.9491419e-05]]\n"
          ]
        },
        {
          "name": "stderr",
          "output_type": "stream",
          "text": [
            "Epoch:  55%|█████▍    | 82/150 [41:05<37:24, 33.01s/epoch]"
          ]
        },
        {
          "name": "stdout",
          "output_type": "stream",
          "text": [
            "Epoch 081 | LR 0.000075 | Train MSE 0.0396 | Val MSE (normalized) 0.0377 | Val MAE (true) 0.7428 | Val MSE (true) 1.8490\n",
            "Validation improved: 0.037963 -> 0.037734\n"
          ]
        },
        {
          "name": "stderr",
          "output_type": "stream",
          "text": [
            "Epoch:  55%|█████▌    | 83/150 [41:38<37:00, 33.14s/epoch]"
          ]
        },
        {
          "name": "stdout",
          "output_type": "stream",
          "text": [
            "Epoch 082 | LR 0.000071 | Train MSE 0.0400 | Val MSE (normalized) 0.0378 | Val MAE (true) 0.7493 | Val MSE (true) 1.8513\n"
          ]
        },
        {
          "name": "stderr",
          "output_type": "stream",
          "text": [
            "Epoch:  56%|█████▌    | 84/150 [42:13<36:46, 33.44s/epoch]"
          ]
        },
        {
          "name": "stdout",
          "output_type": "stream",
          "text": [
            "Epoch 083 | LR 0.000067 | Train MSE 0.0397 | Val MSE (normalized) 0.0383 | Val MAE (true) 0.7694 | Val MSE (true) 1.8778\n"
          ]
        },
        {
          "name": "stderr",
          "output_type": "stream",
          "text": [
            "Epoch:  57%|█████▋    | 85/150 [42:47<36:28, 33.67s/epoch]"
          ]
        },
        {
          "name": "stdout",
          "output_type": "stream",
          "text": [
            "Epoch 084 | LR 0.000064 | Train MSE 0.0397 | Val MSE (normalized) 0.0380 | Val MAE (true) 0.7566 | Val MSE (true) 1.8625\n"
          ]
        },
        {
          "name": "stderr",
          "output_type": "stream",
          "text": [
            "Epoch:  57%|█████▋    | 86/150 [43:19<35:35, 33.36s/epoch]"
          ]
        },
        {
          "name": "stdout",
          "output_type": "stream",
          "text": [
            "Epoch 085 | LR 0.000061 | Train MSE 0.0397 | Val MSE (normalized) 0.0380 | Val MAE (true) 0.7595 | Val MSE (true) 1.8598\n",
            "Sample pred first 3 steps: [[-0.00392634 -0.00872676]\n",
            " [-0.00918092 -0.00806653]\n",
            " [-0.0098181  -0.00771053]]\n",
            "Sample target first 3 steps: [[-1.0263214e-05  5.1069769e-06]\n",
            " [-8.2099714e-06  2.6287930e-06]\n",
            " [ 1.4959690e-05 -1.9491419e-05]]\n"
          ]
        },
        {
          "name": "stderr",
          "output_type": "stream",
          "text": [
            "Epoch:  58%|█████▊    | 87/150 [43:53<34:57, 33.30s/epoch]"
          ]
        },
        {
          "name": "stdout",
          "output_type": "stream",
          "text": [
            "Epoch 086 | LR 0.000058 | Train MSE 0.0396 | Val MSE (normalized) 0.0374 | Val MAE (true) 0.7501 | Val MSE (true) 1.8346\n",
            "Validation improved: 0.037734 -> 0.037442\n"
          ]
        },
        {
          "name": "stderr",
          "output_type": "stream",
          "text": [
            "Epoch:  59%|█████▊    | 88/150 [44:25<34:06, 33.00s/epoch]"
          ]
        },
        {
          "name": "stdout",
          "output_type": "stream",
          "text": [
            "Epoch 087 | LR 0.000055 | Train MSE 0.0397 | Val MSE (normalized) 0.0375 | Val MAE (true) 0.7463 | Val MSE (true) 1.8383\n"
          ]
        },
        {
          "name": "stderr",
          "output_type": "stream",
          "text": [
            "Epoch:  59%|█████▉    | 89/150 [44:54<32:28, 31.95s/epoch]"
          ]
        },
        {
          "name": "stdout",
          "output_type": "stream",
          "text": [
            "Epoch 088 | LR 0.000052 | Train MSE 0.0393 | Val MSE (normalized) 0.0388 | Val MAE (true) 0.7787 | Val MSE (true) 1.8992\n"
          ]
        },
        {
          "name": "stderr",
          "output_type": "stream",
          "text": [
            "Epoch:  60%|██████    | 90/150 [45:23<30:51, 30.86s/epoch]"
          ]
        },
        {
          "name": "stdout",
          "output_type": "stream",
          "text": [
            "Epoch 089 | LR 0.000049 | Train MSE 0.0392 | Val MSE (normalized) 0.0372 | Val MAE (true) 0.7409 | Val MSE (true) 1.8228\n",
            "Validation improved: 0.037442 -> 0.037200\n"
          ]
        },
        {
          "name": "stderr",
          "output_type": "stream",
          "text": [
            "Epoch:  61%|██████    | 91/150 [45:52<29:46, 30.28s/epoch]"
          ]
        },
        {
          "name": "stdout",
          "output_type": "stream",
          "text": [
            "Epoch 090 | LR 0.000047 | Train MSE 0.0392 | Val MSE (normalized) 0.0370 | Val MAE (true) 0.7329 | Val MSE (true) 1.8125\n",
            "Sample pred first 3 steps: [[0.00227911 0.00251922]\n",
            " [0.00130009 0.00650038]\n",
            " [0.00284601 0.00829089]]\n",
            "Sample target first 3 steps: [[-1.0263214e-05  5.1069769e-06]\n",
            " [-8.2099714e-06  2.6287930e-06]\n",
            " [ 1.4959690e-05 -1.9491419e-05]]\n",
            "Validation improved: 0.037200 -> 0.036989\n"
          ]
        },
        {
          "name": "stderr",
          "output_type": "stream",
          "text": [
            "Epoch:  61%|██████▏   | 92/150 [46:19<28:31, 29.51s/epoch]"
          ]
        },
        {
          "name": "stdout",
          "output_type": "stream",
          "text": [
            "Epoch 091 | LR 0.000045 | Train MSE 0.0392 | Val MSE (normalized) 0.0374 | Val MAE (true) 0.7408 | Val MSE (true) 1.8316\n"
          ]
        },
        {
          "name": "stderr",
          "output_type": "stream",
          "text": [
            "Epoch:  62%|██████▏   | 93/150 [46:47<27:30, 28.95s/epoch]"
          ]
        },
        {
          "name": "stdout",
          "output_type": "stream",
          "text": [
            "Epoch 092 | LR 0.000042 | Train MSE 0.0391 | Val MSE (normalized) 0.0379 | Val MAE (true) 0.7701 | Val MSE (true) 1.8590\n"
          ]
        },
        {
          "name": "stderr",
          "output_type": "stream",
          "text": [
            "Epoch:  63%|██████▎   | 94/150 [47:14<26:27, 28.35s/epoch]"
          ]
        },
        {
          "name": "stdout",
          "output_type": "stream",
          "text": [
            "Epoch 093 | LR 0.000040 | Train MSE 0.0393 | Val MSE (normalized) 0.0377 | Val MAE (true) 0.7595 | Val MSE (true) 1.8475\n"
          ]
        },
        {
          "name": "stderr",
          "output_type": "stream",
          "text": [
            "Epoch:  63%|██████▎   | 95/150 [47:41<25:39, 27.99s/epoch]"
          ]
        },
        {
          "name": "stdout",
          "output_type": "stream",
          "text": [
            "Epoch 094 | LR 0.000038 | Train MSE 0.0392 | Val MSE (normalized) 0.0374 | Val MAE (true) 0.7490 | Val MSE (true) 1.8339\n"
          ]
        },
        {
          "name": "stderr",
          "output_type": "stream",
          "text": [
            "Epoch:  64%|██████▍   | 96/150 [48:09<25:04, 27.85s/epoch]"
          ]
        },
        {
          "name": "stdout",
          "output_type": "stream",
          "text": [
            "Epoch 095 | LR 0.000036 | Train MSE 0.0389 | Val MSE (normalized) 0.0373 | Val MAE (true) 0.7455 | Val MSE (true) 1.8294\n",
            "Sample pred first 3 steps: [[ 0.00297495  0.00147374]\n",
            " [ 0.00022474  0.00502054]\n",
            " [-0.00039883  0.00761702]]\n",
            "Sample target first 3 steps: [[-1.0263214e-05  5.1069769e-06]\n",
            " [-8.2099714e-06  2.6287930e-06]\n",
            " [ 1.4959690e-05 -1.9491419e-05]]\n"
          ]
        },
        {
          "name": "stderr",
          "output_type": "stream",
          "text": [
            "Epoch:  65%|██████▍   | 97/150 [48:38<24:53, 28.18s/epoch]"
          ]
        },
        {
          "name": "stdout",
          "output_type": "stream",
          "text": [
            "Epoch 096 | LR 0.000035 | Train MSE 0.0391 | Val MSE (normalized) 0.0370 | Val MAE (true) 0.7312 | Val MSE (true) 1.8133\n"
          ]
        },
        {
          "name": "stderr",
          "output_type": "stream",
          "text": [
            "Epoch:  65%|██████▌   | 98/150 [49:06<24:25, 28.18s/epoch]"
          ]
        },
        {
          "name": "stdout",
          "output_type": "stream",
          "text": [
            "Epoch 097 | LR 0.000033 | Train MSE 0.0388 | Val MSE (normalized) 0.0368 | Val MAE (true) 0.7241 | Val MSE (true) 1.8017\n",
            "Validation improved: 0.036989 -> 0.036770\n"
          ]
        },
        {
          "name": "stderr",
          "output_type": "stream",
          "text": [
            "Epoch:  66%|██████▌   | 99/150 [49:35<24:10, 28.44s/epoch]"
          ]
        },
        {
          "name": "stdout",
          "output_type": "stream",
          "text": [
            "Epoch 098 | LR 0.000031 | Train MSE 0.0387 | Val MSE (normalized) 0.0369 | Val MAE (true) 0.7285 | Val MSE (true) 1.8076\n"
          ]
        },
        {
          "name": "stderr",
          "output_type": "stream",
          "text": [
            "Epoch:  67%|██████▋   | 100/150 [50:04<23:48, 28.56s/epoch]"
          ]
        },
        {
          "name": "stdout",
          "output_type": "stream",
          "text": [
            "Epoch 099 | LR 0.000030 | Train MSE 0.0388 | Val MSE (normalized) 0.0376 | Val MAE (true) 0.7578 | Val MSE (true) 1.8402\n"
          ]
        },
        {
          "name": "stderr",
          "output_type": "stream",
          "text": [
            "Epoch:  67%|██████▋   | 101/150 [50:32<23:24, 28.67s/epoch]"
          ]
        },
        {
          "name": "stdout",
          "output_type": "stream",
          "text": [
            "Epoch 100 | LR 0.000028 | Train MSE 0.0389 | Val MSE (normalized) 0.0374 | Val MAE (true) 0.7502 | Val MSE (true) 1.8332\n",
            "Sample pred first 3 steps: [[-0.00066077 -0.00089195]\n",
            " [-0.00213556  0.00181964]\n",
            " [-0.00315096  0.00382325]]\n",
            "Sample target first 3 steps: [[-1.0263214e-05  5.1069769e-06]\n",
            " [-8.2099714e-06  2.6287930e-06]\n",
            " [ 1.4959690e-05 -1.9491419e-05]]\n"
          ]
        },
        {
          "name": "stderr",
          "output_type": "stream",
          "text": [
            "Epoch:  68%|██████▊   | 102/150 [51:00<22:45, 28.45s/epoch]"
          ]
        },
        {
          "name": "stdout",
          "output_type": "stream",
          "text": [
            "Epoch 101 | LR 0.000027 | Train MSE 0.0387 | Val MSE (normalized) 0.0372 | Val MAE (true) 0.7441 | Val MSE (true) 1.8213\n"
          ]
        },
        {
          "name": "stderr",
          "output_type": "stream",
          "text": [
            "Epoch:  69%|██████▊   | 103/150 [51:30<22:26, 28.64s/epoch]"
          ]
        },
        {
          "name": "stdout",
          "output_type": "stream",
          "text": [
            "Epoch 102 | LR 0.000025 | Train MSE 0.0386 | Val MSE (normalized) 0.0372 | Val MAE (true) 0.7516 | Val MSE (true) 1.8223\n"
          ]
        },
        {
          "name": "stderr",
          "output_type": "stream",
          "text": [
            "Epoch:  69%|██████▉   | 104/150 [52:00<22:26, 29.28s/epoch]"
          ]
        },
        {
          "name": "stdout",
          "output_type": "stream",
          "text": [
            "Epoch 103 | LR 0.000024 | Train MSE 0.0387 | Val MSE (normalized) 0.0368 | Val MAE (true) 0.7279 | Val MSE (true) 1.8041\n"
          ]
        },
        {
          "name": "stderr",
          "output_type": "stream",
          "text": [
            "Epoch:  70%|███████   | 105/150 [52:36<23:24, 31.21s/epoch]"
          ]
        },
        {
          "name": "stdout",
          "output_type": "stream",
          "text": [
            "Epoch 104 | LR 0.000023 | Train MSE 0.0387 | Val MSE (normalized) 0.0373 | Val MAE (true) 0.7533 | Val MSE (true) 1.8298\n"
          ]
        },
        {
          "name": "stderr",
          "output_type": "stream",
          "text": [
            "Epoch:  71%|███████   | 106/150 [53:10<23:33, 32.12s/epoch]"
          ]
        },
        {
          "name": "stdout",
          "output_type": "stream",
          "text": [
            "Epoch 105 | LR 0.000022 | Train MSE 0.0384 | Val MSE (normalized) 0.0370 | Val MAE (true) 0.7292 | Val MSE (true) 1.8109\n",
            "Sample pred first 3 steps: [[-0.00087212 -0.00071221]\n",
            " [-0.00252446  0.00049068]\n",
            " [-0.00199954  0.0001014 ]]\n",
            "Sample target first 3 steps: [[-1.0263214e-05  5.1069769e-06]\n",
            " [-8.2099714e-06  2.6287930e-06]\n",
            " [ 1.4959690e-05 -1.9491419e-05]]\n"
          ]
        },
        {
          "name": "stderr",
          "output_type": "stream",
          "text": [
            "Epoch:  71%|███████▏  | 107/150 [53:45<23:34, 32.90s/epoch]"
          ]
        },
        {
          "name": "stdout",
          "output_type": "stream",
          "text": [
            "Epoch 106 | LR 0.000021 | Train MSE 0.0385 | Val MSE (normalized) 0.0366 | Val MAE (true) 0.7198 | Val MSE (true) 1.7949\n",
            "Validation improved: 0.036770 -> 0.036632\n"
          ]
        },
        {
          "name": "stderr",
          "output_type": "stream",
          "text": [
            "Epoch:  72%|███████▏  | 108/150 [54:19<23:13, 33.18s/epoch]"
          ]
        },
        {
          "name": "stdout",
          "output_type": "stream",
          "text": [
            "Epoch 107 | LR 0.000020 | Train MSE 0.0387 | Val MSE (normalized) 0.0372 | Val MAE (true) 0.7476 | Val MSE (true) 1.8252\n"
          ]
        },
        {
          "name": "stderr",
          "output_type": "stream",
          "text": [
            "Epoch:  73%|███████▎  | 109/150 [54:53<22:54, 33.53s/epoch]"
          ]
        },
        {
          "name": "stdout",
          "output_type": "stream",
          "text": [
            "Epoch 108 | LR 0.000019 | Train MSE 0.0384 | Val MSE (normalized) 0.0377 | Val MAE (true) 0.7743 | Val MSE (true) 1.8470\n"
          ]
        },
        {
          "name": "stderr",
          "output_type": "stream",
          "text": [
            "Epoch:  73%|███████▎  | 110/150 [55:28<22:31, 33.79s/epoch]"
          ]
        },
        {
          "name": "stdout",
          "output_type": "stream",
          "text": [
            "Epoch 109 | LR 0.000018 | Train MSE 0.0385 | Val MSE (normalized) 0.0368 | Val MAE (true) 0.7270 | Val MSE (true) 1.8044\n"
          ]
        },
        {
          "name": "stderr",
          "output_type": "stream",
          "text": [
            "Epoch:  74%|███████▍  | 111/150 [56:02<22:04, 33.96s/epoch]"
          ]
        },
        {
          "name": "stdout",
          "output_type": "stream",
          "text": [
            "Epoch 110 | LR 0.000017 | Train MSE 0.0383 | Val MSE (normalized) 0.0368 | Val MAE (true) 0.7303 | Val MSE (true) 1.8035\n",
            "Sample pred first 3 steps: [[ 0.00014737  0.00092978]\n",
            " [-0.0007458   0.00298679]\n",
            " [ 0.00136559  0.00434751]]\n",
            "Sample target first 3 steps: [[-1.0263214e-05  5.1069769e-06]\n",
            " [-8.2099714e-06  2.6287930e-06]\n",
            " [ 1.4959690e-05 -1.9491419e-05]]\n"
          ]
        },
        {
          "name": "stderr",
          "output_type": "stream",
          "text": [
            "Epoch:  75%|███████▍  | 112/150 [56:36<21:33, 34.05s/epoch]"
          ]
        },
        {
          "name": "stdout",
          "output_type": "stream",
          "text": [
            "Epoch 111 | LR 0.000016 | Train MSE 0.0383 | Val MSE (normalized) 0.0368 | Val MAE (true) 0.7306 | Val MSE (true) 1.8047\n"
          ]
        },
        {
          "name": "stderr",
          "output_type": "stream",
          "text": [
            "Epoch:  75%|███████▌  | 113/150 [57:09<20:49, 33.76s/epoch]"
          ]
        },
        {
          "name": "stdout",
          "output_type": "stream",
          "text": [
            "Epoch 112 | LR 0.000015 | Train MSE 0.0384 | Val MSE (normalized) 0.0368 | Val MAE (true) 0.7330 | Val MSE (true) 1.8032\n"
          ]
        },
        {
          "name": "stderr",
          "output_type": "stream",
          "text": [
            "Epoch:  76%|███████▌  | 114/150 [57:44<20:21, 33.92s/epoch]"
          ]
        },
        {
          "name": "stdout",
          "output_type": "stream",
          "text": [
            "Epoch 113 | LR 0.000014 | Train MSE 0.0384 | Val MSE (normalized) 0.0365 | Val MAE (true) 0.7199 | Val MSE (true) 1.7899\n",
            "Validation improved: 0.036632 -> 0.036528\n"
          ]
        },
        {
          "name": "stderr",
          "output_type": "stream",
          "text": [
            "Epoch:  77%|███████▋  | 115/150 [58:18<19:54, 34.13s/epoch]"
          ]
        },
        {
          "name": "stdout",
          "output_type": "stream",
          "text": [
            "Epoch 114 | LR 0.000014 | Train MSE 0.0385 | Val MSE (normalized) 0.0367 | Val MAE (true) 0.7284 | Val MSE (true) 1.8003\n"
          ]
        },
        {
          "name": "stderr",
          "output_type": "stream",
          "text": [
            "Epoch:  77%|███████▋  | 116/150 [58:52<19:17, 34.03s/epoch]"
          ]
        },
        {
          "name": "stdout",
          "output_type": "stream",
          "text": [
            "Epoch 115 | LR 0.000013 | Train MSE 0.0385 | Val MSE (normalized) 0.0366 | Val MAE (true) 0.7216 | Val MSE (true) 1.7941\n",
            "Sample pred first 3 steps: [[0.00228163 0.00314437]\n",
            " [0.0015779  0.00520415]\n",
            " [0.00374852 0.00552875]]\n",
            "Sample target first 3 steps: [[-1.0263214e-05  5.1069769e-06]\n",
            " [-8.2099714e-06  2.6287930e-06]\n",
            " [ 1.4959690e-05 -1.9491419e-05]]\n"
          ]
        },
        {
          "name": "stderr",
          "output_type": "stream",
          "text": [
            "Epoch:  78%|███████▊  | 117/150 [59:26<18:42, 34.03s/epoch]"
          ]
        },
        {
          "name": "stdout",
          "output_type": "stream",
          "text": [
            "Epoch 116 | LR 0.000012 | Train MSE 0.0383 | Val MSE (normalized) 0.0365 | Val MAE (true) 0.7214 | Val MSE (true) 1.7887\n",
            "Validation improved: 0.036528 -> 0.036505\n"
          ]
        },
        {
          "name": "stderr",
          "output_type": "stream",
          "text": [
            "Epoch:  79%|███████▊  | 118/150 [59:59<17:57, 33.68s/epoch]"
          ]
        },
        {
          "name": "stdout",
          "output_type": "stream",
          "text": [
            "Epoch 117 | LR 0.000012 | Train MSE 0.0384 | Val MSE (normalized) 0.0372 | Val MAE (true) 0.7534 | Val MSE (true) 1.8222\n"
          ]
        },
        {
          "name": "stderr",
          "output_type": "stream",
          "text": [
            "Epoch:  79%|███████▉  | 119/150 [1:00:32<17:20, 33.55s/epoch]"
          ]
        },
        {
          "name": "stdout",
          "output_type": "stream",
          "text": [
            "Epoch 118 | LR 0.000011 | Train MSE 0.0384 | Val MSE (normalized) 0.0366 | Val MAE (true) 0.7191 | Val MSE (true) 1.7927\n"
          ]
        },
        {
          "name": "stderr",
          "output_type": "stream",
          "text": [
            "Epoch:  80%|████████  | 120/150 [1:01:05<16:40, 33.34s/epoch]"
          ]
        },
        {
          "name": "stdout",
          "output_type": "stream",
          "text": [
            "Epoch 119 | LR 0.000011 | Train MSE 0.0383 | Val MSE (normalized) 0.0366 | Val MAE (true) 0.7271 | Val MSE (true) 1.7951\n"
          ]
        },
        {
          "name": "stderr",
          "output_type": "stream",
          "text": [
            "Epoch:  81%|████████  | 121/150 [1:01:41<16:28, 34.09s/epoch]"
          ]
        },
        {
          "name": "stdout",
          "output_type": "stream",
          "text": [
            "Epoch 120 | LR 0.000010 | Train MSE 0.0383 | Val MSE (normalized) 0.0367 | Val MAE (true) 0.7228 | Val MSE (true) 1.7967\n",
            "Sample pred first 3 steps: [[ 0.00276877 -0.00012735]\n",
            " [ 0.00253712  0.00149249]\n",
            " [ 0.00450233  0.001662  ]]\n",
            "Sample target first 3 steps: [[-1.0263214e-05  5.1069769e-06]\n",
            " [-8.2099714e-06  2.6287930e-06]\n",
            " [ 1.4959690e-05 -1.9491419e-05]]\n"
          ]
        },
        {
          "name": "stderr",
          "output_type": "stream",
          "text": [
            "Epoch:  81%|████████▏ | 122/150 [1:02:15<15:55, 34.13s/epoch]"
          ]
        },
        {
          "name": "stdout",
          "output_type": "stream",
          "text": [
            "Epoch 121 | LR 0.000010 | Train MSE 0.0382 | Val MSE (normalized) 0.0367 | Val MAE (true) 0.7244 | Val MSE (true) 1.7968\n"
          ]
        },
        {
          "name": "stderr",
          "output_type": "stream",
          "text": [
            "Epoch:  82%|████████▏ | 123/150 [1:02:48<15:08, 33.66s/epoch]"
          ]
        },
        {
          "name": "stdout",
          "output_type": "stream",
          "text": [
            "Epoch 122 | LR 0.000009 | Train MSE 0.0382 | Val MSE (normalized) 0.0369 | Val MAE (true) 0.7357 | Val MSE (true) 1.8092\n"
          ]
        },
        {
          "name": "stderr",
          "output_type": "stream",
          "text": [
            "Epoch:  83%|████████▎ | 124/150 [1:03:19<14:20, 33.09s/epoch]"
          ]
        },
        {
          "name": "stdout",
          "output_type": "stream",
          "text": [
            "Epoch 123 | LR 0.000009 | Train MSE 0.0383 | Val MSE (normalized) 0.0367 | Val MAE (true) 0.7286 | Val MSE (true) 1.7996\n"
          ]
        },
        {
          "name": "stderr",
          "output_type": "stream",
          "text": [
            "Epoch:  83%|████████▎ | 125/150 [1:03:51<13:38, 32.73s/epoch]"
          ]
        },
        {
          "name": "stdout",
          "output_type": "stream",
          "text": [
            "Epoch 124 | LR 0.000008 | Train MSE 0.0382 | Val MSE (normalized) 0.0367 | Val MAE (true) 0.7250 | Val MSE (true) 1.7972\n"
          ]
        },
        {
          "name": "stderr",
          "output_type": "stream",
          "text": [
            "Epoch:  84%|████████▍ | 126/150 [1:04:25<13:12, 33.03s/epoch]"
          ]
        },
        {
          "name": "stdout",
          "output_type": "stream",
          "text": [
            "Epoch 125 | LR 0.000008 | Train MSE 0.0384 | Val MSE (normalized) 0.0365 | Val MAE (true) 0.7199 | Val MSE (true) 1.7909\n",
            "Sample pred first 3 steps: [[0.0009917  0.00082538]\n",
            " [0.00017893 0.00141023]\n",
            " [0.00138348 0.00171825]]\n",
            "Sample target first 3 steps: [[-1.0263214e-05  5.1069769e-06]\n",
            " [-8.2099714e-06  2.6287930e-06]\n",
            " [ 1.4959690e-05 -1.9491419e-05]]\n"
          ]
        },
        {
          "name": "stderr",
          "output_type": "stream",
          "text": [
            "Epoch:  85%|████████▍ | 127/150 [1:05:00<12:50, 33.52s/epoch]"
          ]
        },
        {
          "name": "stdout",
          "output_type": "stream",
          "text": [
            "Epoch 126 | LR 0.000007 | Train MSE 0.0383 | Val MSE (normalized) 0.0367 | Val MAE (true) 0.7237 | Val MSE (true) 1.7988\n"
          ]
        },
        {
          "name": "stderr",
          "output_type": "stream",
          "text": [
            "Epoch:  85%|████████▌ | 128/150 [1:05:34<12:22, 33.74s/epoch]"
          ]
        },
        {
          "name": "stdout",
          "output_type": "stream",
          "text": [
            "Epoch 127 | LR 0.000007 | Train MSE 0.0379 | Val MSE (normalized) 0.0367 | Val MAE (true) 0.7272 | Val MSE (true) 1.8001\n"
          ]
        },
        {
          "name": "stderr",
          "output_type": "stream",
          "text": [
            "Epoch:  86%|████████▌ | 129/150 [1:06:08<11:53, 33.96s/epoch]"
          ]
        },
        {
          "name": "stdout",
          "output_type": "stream",
          "text": [
            "Epoch 128 | LR 0.000007 | Train MSE 0.0383 | Val MSE (normalized) 0.0366 | Val MAE (true) 0.7192 | Val MSE (true) 1.7926\n"
          ]
        },
        {
          "name": "stderr",
          "output_type": "stream",
          "text": [
            "Epoch:  87%|████████▋ | 130/150 [1:06:43<11:20, 34.04s/epoch]"
          ]
        },
        {
          "name": "stdout",
          "output_type": "stream",
          "text": [
            "Epoch 129 | LR 0.000006 | Train MSE 0.0383 | Val MSE (normalized) 0.0367 | Val MAE (true) 0.7264 | Val MSE (true) 1.7984\n"
          ]
        },
        {
          "name": "stderr",
          "output_type": "stream",
          "text": [
            "Epoch:  87%|████████▋ | 131/150 [1:07:17<10:50, 34.23s/epoch]"
          ]
        },
        {
          "name": "stdout",
          "output_type": "stream",
          "text": [
            "Epoch 130 | LR 0.000006 | Train MSE 0.0379 | Val MSE (normalized) 0.0367 | Val MAE (true) 0.7215 | Val MSE (true) 1.7966\n",
            "Sample pred first 3 steps: [[0.00120933 0.00024201]\n",
            " [0.00055698 0.00169439]\n",
            " [0.00134251 0.00196059]]\n",
            "Sample target first 3 steps: [[-1.0263214e-05  5.1069769e-06]\n",
            " [-8.2099714e-06  2.6287930e-06]\n",
            " [ 1.4959690e-05 -1.9491419e-05]]\n"
          ]
        },
        {
          "name": "stderr",
          "output_type": "stream",
          "text": [
            "Epoch:  88%|████████▊ | 132/150 [1:07:50<10:09, 33.86s/epoch]"
          ]
        },
        {
          "name": "stdout",
          "output_type": "stream",
          "text": [
            "Epoch 131 | LR 0.000006 | Train MSE 0.0381 | Val MSE (normalized) 0.0366 | Val MAE (true) 0.7186 | Val MSE (true) 1.7926\n"
          ]
        },
        {
          "name": "stderr",
          "output_type": "stream",
          "text": [
            "Epoch:  89%|████████▊ | 133/150 [1:08:25<09:38, 34.03s/epoch]"
          ]
        },
        {
          "name": "stdout",
          "output_type": "stream",
          "text": [
            "Epoch 132 | LR 0.000005 | Train MSE 0.0381 | Val MSE (normalized) 0.0367 | Val MAE (true) 0.7271 | Val MSE (true) 1.7982\n"
          ]
        },
        {
          "name": "stderr",
          "output_type": "stream",
          "text": [
            "Epoch:  89%|████████▉ | 134/150 [1:08:59<09:06, 34.15s/epoch]"
          ]
        },
        {
          "name": "stdout",
          "output_type": "stream",
          "text": [
            "Epoch 133 | LR 0.000005 | Train MSE 0.0382 | Val MSE (normalized) 0.0366 | Val MAE (true) 0.7186 | Val MSE (true) 1.7915\n"
          ]
        },
        {
          "name": "stderr",
          "output_type": "stream",
          "text": [
            "Epoch:  90%|█████████ | 135/150 [1:09:34<08:35, 34.37s/epoch]"
          ]
        },
        {
          "name": "stdout",
          "output_type": "stream",
          "text": [
            "Epoch 134 | LR 0.000005 | Train MSE 0.0381 | Val MSE (normalized) 0.0366 | Val MAE (true) 0.7265 | Val MSE (true) 1.7945\n"
          ]
        },
        {
          "name": "stderr",
          "output_type": "stream",
          "text": [
            "Epoch:  91%|█████████ | 136/150 [1:10:08<08:00, 34.32s/epoch]"
          ]
        },
        {
          "name": "stdout",
          "output_type": "stream",
          "text": [
            "Epoch 135 | LR 0.000005 | Train MSE 0.0380 | Val MSE (normalized) 0.0366 | Val MAE (true) 0.7204 | Val MSE (true) 1.7934\n",
            "Sample pred first 3 steps: [[0.00094081 0.00184835]\n",
            " [0.00031041 0.00394678]\n",
            " [0.00172125 0.00500164]]\n",
            "Sample target first 3 steps: [[-1.0263214e-05  5.1069769e-06]\n",
            " [-8.2099714e-06  2.6287930e-06]\n",
            " [ 1.4959690e-05 -1.9491419e-05]]\n"
          ]
        },
        {
          "name": "stderr",
          "output_type": "stream",
          "text": [
            "Epoch:  91%|█████████ | 136/150 [1:10:40<07:16, 31.18s/epoch]\n"
          ]
        },
        {
          "name": "stdout",
          "output_type": "stream",
          "text": [
            "Epoch 136 | LR 0.000004 | Train MSE 0.0380 | Val MSE (normalized) 0.0366 | Val MAE (true) 0.7263 | Val MSE (true) 1.7927\n",
            "Early stopping after 137 epochs without improvement\n",
            "Val MSE: 1.7887\n"
          ]
        },
        {
          "data": {
            "text/plain": [
              "AutoRegressiveLSTM(\n",
              "  (encoder): LSTM(5, 512, batch_first=True)\n",
              "  (neighbor_encoder): LSTM(5, 512, batch_first=True)\n",
              "  (decoder): LSTM(2, 1024, batch_first=True)\n",
              "  (out): Linear(in_features=1024, out_features=2, bias=True)\n",
              ")"
            ]
          },
          "execution_count": 11,
          "metadata": {},
          "output_type": "execute_result"
        }
      ],
      "source": [
        "# closest 1 neighbor not 3\n",
        "train_and_evaluate_model()"
      ]
    },
    {
      "cell_type": "markdown",
      "metadata": {},
      "source": [
        "# Final Pred"
      ]
    },
    {
      "cell_type": "code",
      "execution_count": 13,
      "metadata": {},
      "outputs": [],
      "source": [
        "test_dataset = TrajectoryDatasetTest(test_data, scale=scale)\n",
        "test_loader = DataLoader(test_dataset, batch_size=32, shuffle=False,\n",
        "                         collate_fn=lambda xs: Batch.from_data_list(xs))\n",
        "\n",
        "best_model2 = torch.load(best_model)\n",
        "model = AutoRegressiveLSTM().to(device)\n",
        "# optimizer = optim.Adam(model.parameters(), lr=1e-3, weight_decay=1e-4)\n",
        "# scheduler = optim.lr_scheduler.StepLR(optimizer, step_size=20, gamma=0.25) # You can try different schedulers\n",
        "# criterion = nn.MSELoss()\n",
        "\n",
        "model.load_state_dict(best_model2)\n",
        "model.eval()\n",
        "\n",
        "pred_list = []\n",
        "with torch.no_grad():\n",
        "    for batch in test_loader:\n",
        "        batch = batch.to(device)\n",
        "        pred_vel_norm = model(batch)\n",
        "        \n",
        "        pred_vel = pred_vel_norm * batch.scale.view(-1,1,1) # (B, 60, 2)\n",
        "        \n",
        "        # Get origin in meters (position at t=49 for ego)\n",
        "        # origin = batch.origin  # (B, 1, 2)\n",
        "        origin = batch.origin.unsqueeze(1)  # Ensure shape is (B, 1, 2)\n",
        "        \n",
        "        # Integrate velocity to get position over 60 steps\n",
        "        dt = 0.1  # seconds per step\n",
        "        pred_pos = [origin]  # list of (B, 1, 2)\n",
        "        \n",
        "        for t in range(60):\n",
        "            next_pos = pred_pos[-1] + pred_vel[:, t:t+1, :] * dt  # (B, 1, 2)\n",
        "            pred_pos.append(next_pos)\n",
        "        \n",
        "        # Concatenate positions across time steps\n",
        "        pred_xy = torch.cat(pred_pos[1:], dim=1)  # skip initial origin, get (B, 60, 2)\n",
        "\n",
        "        pred_list.append(pred_xy.cpu().numpy())\n",
        "        \n",
        "        # pred_list.append(pred.cpu().numpy())\n",
        "pred_list = np.concatenate(pred_list, axis=0)  # (N,60,2)\n",
        "pred_output = pred_list.reshape(-1, 2)  # (N*60, 2)\n",
        "output_df = pd.DataFrame(pred_output, columns=['x', 'y'])\n",
        "output_df.index.name = 'index'\n",
        "output_df.to_csv('submission_lstm_simple_auto23.csv', index=True)"
      ]
    }
  ],
  "metadata": {
    "colab": {
      "name": "data-loading-and-submission-preperation",
      "provenance": []
    },
    "kaggle": {
      "accelerator": "none",
      "dataSources": [],
      "dockerImageVersionId": 30918,
      "isGpuEnabled": false,
      "isInternetEnabled": false,
      "language": "python",
      "sourceType": "notebook"
    },
    "kernelspec": {
      "display_name": "Python 3",
      "language": "python",
      "name": "python3"
    },
    "language_info": {
      "codemirror_mode": {
        "name": "ipython",
        "version": 3
      },
      "file_extension": ".py",
      "mimetype": "text/x-python",
      "name": "python",
      "nbconvert_exporter": "python",
      "pygments_lexer": "ipython3",
      "version": "3.9.6"
    },
    "papermill": {
      "default_parameters": {},
      "duration": 27.524611,
      "end_time": "2025-04-01T17:39:42.223757",
      "environment_variables": {},
      "exception": null,
      "input_path": "__notebook__.ipynb",
      "output_path": "__notebook__.ipynb",
      "parameters": {},
      "start_time": "2025-04-01T17:39:14.699146",
      "version": "2.6.0"
    }
  },
  "nbformat": 4,
  "nbformat_minor": 0
}
