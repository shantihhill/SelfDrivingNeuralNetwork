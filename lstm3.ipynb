{
  "cells": [
    {
      "cell_type": "markdown",
      "metadata": {
        "id": "-n-C_P-zs-pY"
      },
      "source": [
        "# LSTM - vanilla"
      ]
    },
    {
      "cell_type": "code",
      "execution_count": 45,
      "metadata": {},
      "outputs": [],
      "source": [
        "best_model = \"best_model11.pt\""
      ]
    },
    {
      "cell_type": "markdown",
      "metadata": {},
      "source": [
        "# Setup"
      ]
    },
    {
      "cell_type": "code",
      "execution_count": 46,
      "metadata": {},
      "outputs": [
        {
          "name": "stdout",
          "output_type": "stream",
          "text": [
            "Using Apple Silicon GPU\n"
          ]
        }
      ],
      "source": [
        "import torch \n",
        "\n",
        "# Set device for training speedup\n",
        "if torch.backends.mps.is_available():\n",
        "    device = torch.device('mps')\n",
        "    print(\"Using Apple Silicon GPU\")\n",
        "elif torch.cuda.is_available():\n",
        "    device = torch.device('cuda')\n",
        "    print(\"Using CUDA GPU\")\n",
        "else:\n",
        "    device = torch.device('cpu')"
      ]
    },
    {
      "cell_type": "markdown",
      "metadata": {},
      "source": [
        "# Load and analyze data"
      ]
    },
    {
      "cell_type": "code",
      "execution_count": 47,
      "metadata": {
        "_cell_guid": "b1076dfc-b9ad-4769-8c92-a6c4dae69d19",
        "_uuid": "8f2839f25d086af736a60e9eeb907d3b93b6e0e5",
        "execution": {
          "iopub.execute_input": "2025-04-01T17:39:17.728787Z",
          "iopub.status.busy": "2025-04-01T17:39:17.728324Z",
          "iopub.status.idle": "2025-04-01T17:39:18.875979Z",
          "shell.execute_reply": "2025-04-01T17:39:18.874618Z"
        },
        "id": "F4_wHjhZs-pa",
        "papermill": {
          "duration": 1.154057,
          "end_time": "2025-04-01T17:39:18.878059",
          "exception": false,
          "start_time": "2025-04-01T17:39:17.724002",
          "status": "completed"
        },
        "tags": []
      },
      "outputs": [],
      "source": [
        "import os\n",
        "\n",
        "import numpy as np\n",
        "import pandas as pd\n",
        "import matplotlib.pyplot as plt\n",
        "import random\n",
        "\n",
        "import torch\n",
        "import torch.nn as nn\n",
        "import torch.optim as optim\n",
        "from torch.utils.data import Dataset, DataLoader\n",
        "from torch_geometric.data import Data, Batch\n",
        "import tqdm"
      ]
    },
    {
      "cell_type": "code",
      "execution_count": 48,
      "metadata": {
        "execution": {
          "iopub.execute_input": "2025-04-01T17:39:18.890746Z",
          "iopub.status.busy": "2025-04-01T17:39:18.890075Z",
          "iopub.status.idle": "2025-04-01T17:39:40.968717Z",
          "shell.execute_reply": "2025-04-01T17:39:40.967158Z"
        },
        "id": "09texa_os-pc",
        "papermill": {
          "duration": 22.084222,
          "end_time": "2025-04-01T17:39:40.970631",
          "exception": false,
          "start_time": "2025-04-01T17:39:18.886409",
          "status": "completed"
        },
        "tags": []
      },
      "outputs": [
        {
          "name": "stdout",
          "output_type": "stream",
          "text": [
            "train_data's shape (10000, 50, 110, 6)\n",
            "test_data's shape (2100, 50, 50, 6)\n"
          ]
        }
      ],
      "source": [
        "train_file = np.load('./cse-251-b-2025/train.npz')\n",
        "\n",
        "train_data = train_file['data']\n",
        "print(\"train_data's shape\", train_data.shape)\n",
        "test_file = np.load('./cse-251-b-2025/test_input.npz')\n",
        "\n",
        "test_data = test_file['data']\n",
        "print(\"test_data's shape\", test_data.shape)"
      ]
    },
    {
      "cell_type": "code",
      "execution_count": 49,
      "metadata": {
        "execution": {
          "iopub.execute_input": "2025-04-01T17:39:40.97884Z",
          "iopub.status.busy": "2025-04-01T17:39:40.978362Z",
          "iopub.status.idle": "2025-04-01T17:39:41.323077Z",
          "shell.execute_reply": "2025-04-01T17:39:41.321787Z"
        },
        "id": "ckJbGP_ds-pc",
        "papermill": {
          "duration": 0.351374,
          "end_time": "2025-04-01T17:39:41.325147",
          "exception": false,
          "start_time": "2025-04-01T17:39:40.973773",
          "status": "completed"
        },
        "tags": []
      },
      "outputs": [
        {
          "data": {
            "image/png": "[encoded data removed]",
            "text/plain": [
              "<Figure size 640x480 with 1 Axes>"
            ]
          },
          "metadata": {},
          "output_type": "display_data"
        }
      ],
      "source": [
        "# plot one\n",
        "import matplotlib.pyplot as plt\n",
        "\n",
        "data_matrix = train_data[0]\n",
        "\n",
        "for i in range(data_matrix.shape[0]):\n",
        "    xs = data_matrix[i, :, 0]\n",
        "    ys = data_matrix[i, :, 1]\n",
        "    # trim all zeros\n",
        "    xs = xs[xs != 0]\n",
        "    ys = ys[ys != 0]\n",
        "    # plot each line going from transparent to full\n",
        "    plt.plot(xs, ys)\n",
        "\n",
        "plt.show()"
      ]
    },
    {
      "cell_type": "code",
      "execution_count": 50,
      "metadata": {},
      "outputs": [
        {
          "name": "stdout",
          "output_type": "stream",
          "text": [
            "(10000, 50, 110, 6)\n",
            "[ 338.59322192 -672.21574762   -5.32538052    1.61518358    2.84662927\n",
            "    0.        ]\n"
          ]
        }
      ],
      "source": [
        "print(train_data.shape)\n",
        "print(train_data[0, 0, 0, :])\n",
        "# print(count(train_data[:, :, 0, 5])"
      ]
    },
    {
      "cell_type": "code",
      "execution_count": 51,
      "metadata": {},
      "outputs": [
        {
          "name": "stdout",
          "output_type": "stream",
          "text": [
            "Vehicle Type Distribution:\n",
            "==================================================\n",
            "vehicle        : 50,078,615 (91.05%)\n",
            "pedestrian     : 1,836,973 (3.34%)\n",
            "motorcyclist   : 61,317 (0.11%)\n",
            "cyclist        : 181,504 (0.33%)\n",
            "bus            : 313,890 (0.57%)\n",
            "static         : 1,126,469 (2.05%)\n",
            "background     : 794,206 (1.44%)\n",
            "construction   : 314,377 (0.57%)\n",
            "riderless_bicycle: 278,357 (0.51%)\n",
            "unknown        : 14,292 (0.03%)\n",
            "==================================================\n",
            "Total entries: 55,000,000\n"
          ]
        }
      ],
      "source": [
        "from collections import Counter\n",
        "\n",
        "# Object type mapping\n",
        "object_types = [\n",
        "    'vehicle', 'pedestrian', 'motorcyclist', 'cyclist', 'bus', \n",
        "    'static', 'background', 'construction', 'riderless_bicycle', 'unknown'\n",
        "]\n",
        "\n",
        "# Extract object_type column (index 5 in the last dimension)\n",
        "object_type_data = train_data[:, :, :, 5]\n",
        "\n",
        "# Flatten the array to get all object type values\n",
        "all_object_types = object_type_data.flatten()\n",
        "\n",
        "# Count occurrences\n",
        "type_counts = Counter(all_object_types)\n",
        "\n",
        "# Calculate total entries\n",
        "total_entries = len(all_object_types)\n",
        "\n",
        "# Create results dictionary\n",
        "results = {}\n",
        "\n",
        "print(\"Vehicle Type Distribution:\")\n",
        "print(\"=\" * 50)\n",
        "\n",
        "for i, type_name in enumerate(object_types):\n",
        "    count = type_counts.get(i, 0)  # Get count for index i, default to 0\n",
        "    percentage = (count / total_entries) * 100 if total_entries > 0 else 0\n",
        "    \n",
        "    results[type_name] = {\n",
        "        'count': count,\n",
        "        'percentage': percentage\n",
        "    }\n",
        "    \n",
        "    print(f\"{type_name:15}: {count:,} ({percentage:.2f}%)\")\n",
        "\n",
        "print(\"=\" * 50)\n",
        "print(f\"Total entries: {total_entries:,}\")"
      ]
    },
    {
      "cell_type": "markdown",
      "metadata": {},
      "source": [
        "# Data Loaders"
      ]
    },
    {
      "cell_type": "code",
      "execution_count": 52,
      "metadata": {},
      "outputs": [],
      "source": [
        "class TrajectoryDatasetTrain(Dataset):\n",
        "    def __init__(self, data, scale=10.0, augment=True):\n",
        "        \"\"\"\n",
        "        data: Shape (N, 50, 110, 6) Training data\n",
        "        scale: Scale for normalization (suggested to use 10.0 for Argoverse 2 data)\n",
        "        augment: Whether to apply data augmentation (only for training)\n",
        "        \"\"\"\n",
        "        self.data = data\n",
        "        self.scale = scale\n",
        "        self.augment = augment\n",
        "\n",
        "    def __len__(self):\n",
        "        return len(self.data)\n",
        "\n",
        "    def __getitem__(self, idx):\n",
        "        scene = self.data[idx]\n",
        "        # Getting 50 historical timestamps and 60 future timestamps\n",
        "        hist = scene[:, :50, :].copy()    # (agents=50, time_seq=50, 6)\n",
        "        future = torch.tensor(scene[0, 50:, :2].copy(), dtype=torch.float32)  # (60, 2)\n",
        "        \n",
        "        # Data augmentation(only for training)\n",
        "        if self.augment:\n",
        "            if np.random.rand() < 0.5:\n",
        "                theta = np.random.uniform(-np.pi, np.pi)\n",
        "                R = np.array([[np.cos(theta), -np.sin(theta)],\n",
        "                              [np.sin(theta),  np.cos(theta)]], dtype=np.float32)\n",
        "                # Rotate the historical trajectory and future trajectory\n",
        "                hist[..., :2] = hist[..., :2] @ R\n",
        "                hist[..., 2:4] = hist[..., 2:4] @ R\n",
        "                future = future @ R\n",
        "            if np.random.rand() < 0.5:\n",
        "                hist[..., 0] *= -1\n",
        "                hist[..., 2] *= -1\n",
        "                future[:, 0] *= -1\n",
        "\n",
        "        # Use the last timeframe of the historical trajectory as the origin\n",
        "        origin = hist[0, 49, :2].copy()  # (2,)\n",
        "        hist[..., :2] = hist[..., :2] - origin\n",
        "        future = future - origin\n",
        "\n",
        "        # Normalize the historical trajectory and future trajectory\n",
        "        hist[..., :4] = hist[..., :4] / self.scale\n",
        "        future = future / self.scale\n",
        "\n",
        "        data_item = Data(\n",
        "            x=torch.tensor(hist, dtype=torch.float32),\n",
        "            y=future.type(torch.float32),\n",
        "            origin=torch.tensor(origin, dtype=torch.float32).unsqueeze(0),\n",
        "            scale=torch.tensor(self.scale, dtype=torch.float32),\n",
        "        )\n",
        "\n",
        "        return data_item\n",
        "    \n",
        "\n",
        "class TrajectoryDatasetTest(Dataset):\n",
        "    def __init__(self, data, scale=10.0):\n",
        "        \"\"\"\n",
        "        data: Shape (N, 50, 110, 6) Testing data\n",
        "        scale: Scale for normalization (suggested to use 10.0 for Argoverse 2 data)\n",
        "        \"\"\"\n",
        "        self.data = data\n",
        "        self.scale = scale\n",
        "\n",
        "    def __len__(self):\n",
        "        return len(self.data)\n",
        "\n",
        "    def __getitem__(self, idx):\n",
        "        # Testing data only contains historical trajectory\n",
        "        scene = self.data[idx]  # (50, 50, 6)\n",
        "        hist = scene.copy()\n",
        "        \n",
        "        origin = hist[0, 49, :2].copy()\n",
        "        hist[..., :2] = hist[..., :2] - origin\n",
        "        hist[..., :4] = hist[..., :4] / self.scale\n",
        "\n",
        "        data_item = Data(\n",
        "            x=torch.tensor(hist, dtype=torch.float32),\n",
        "            origin=torch.tensor(origin, dtype=torch.float32).unsqueeze(0),\n",
        "            scale=torch.tensor(self.scale, dtype=torch.float32),\n",
        "        )\n",
        "        return data_item"
      ]
    },
    {
      "cell_type": "code",
      "execution_count": 53,
      "metadata": {},
      "outputs": [],
      "source": [
        "class TrajectoryDatasetTrain(Dataset):\n",
        "    def __init__(self, data):\n",
        "        \"\"\"\n",
        "        data: Shape (N, 50, 110, 6) Training data\n",
        "        scale: Scale for normalization (suggested to use 10.0 for Argoverse 2 data)\n",
        "        augment: Whether to apply data augmentation (only for training)\n",
        "        \"\"\"\n",
        "        self.data = data\n",
        "\n",
        "    def __len__(self):\n",
        "        return len(self.data)\n",
        "\n",
        "    def __getitem__(self, idx):\n",
        "        scene = self.data[idx]\n",
        "        # Getting 50 historical timestamps and 60 future timestamps\n",
        "        hist = scene.copy()    # (agents=50, time_seq=110, 6)\n",
        "        print(f'hist: {hist.shape}')\n",
        "        # future = torch.tensor(scene[0, 50:, :2].copy(), dtype=torch.float32)  # (60, 2)\n",
        "        \n",
        "        # Data augmentation(only for training)\n",
        "        if self.augment:\n",
        "            if np.random.rand() < 0.5:\n",
        "                theta = np.random.uniform(-np.pi, np.pi)\n",
        "                R = np.array([[np.cos(theta), -np.sin(theta)],\n",
        "                              [np.sin(theta),  np.cos(theta)]], dtype=np.float32)\n",
        "                # Rotate the historical trajectory and future trajectory\n",
        "                hist[..., :2] = hist[..., :2] @ R\n",
        "                hist[..., 2:4] = hist[..., 2:4] @ R\n",
        "                # future = future @ R\n",
        "            if np.random.rand() < 0.5:\n",
        "                hist[..., 0] *= -1\n",
        "                hist[..., 2] *= -1\n",
        "                # future[:, 0] *= -1\n",
        "\n",
        "        # TODO: should i change the origin?\n",
        "        # Use the last timeframe of the historical trajectory as the origin\n",
        "        origin = hist[0, 49, :2].copy()  # (2,)\n",
        "        hist[..., :2] = hist[..., :2] - origin\n",
        "        # future = future - origin\n",
        "\n",
        "        # Normalize the historical trajectory and future trajectory\n",
        "        hist[..., :4] = hist[..., :4] / self.scale\n",
        "        # future = future / self.scale\n",
        "        \n",
        "        # Split into x and y\n",
        "        \n",
        "\n",
        "        data_item = Data(\n",
        "            x=torch.tensor(hist, dtype=torch.float32),      # Input: (50, 110, 6)\n",
        "            # y=future.type(torch.float32),                   # Target: (60, 2)\n",
        "            # origin=torch.tensor(origin, dtype=torch.float32).unsqueeze(0),  # (1, 2)\n",
        "            # scale=torch.tensor(self.scale, dtype=torch.float32),            # Scalar\n",
        "        )\n",
        "        print(f'data_item.x: {data_item.x.shape}')\n",
        "\n",
        "        return data_item\n",
        "    \n",
        "\n",
        "class TrajectoryDatasetTest(Dataset):\n",
        "    def __init__(self, data, scale=10.0):\n",
        "        \"\"\"\n",
        "        data: Shape (N, 50, 110, 6) Testing data\n",
        "        scale: Scale for normalization (suggested to use 10.0 for Argoverse 2 data)\n",
        "        \"\"\"\n",
        "        self.data = data\n",
        "        self.scale = scale\n",
        "\n",
        "    def __len__(self):\n",
        "        return len(self.data)\n",
        "\n",
        "    def __getitem__(self, idx):\n",
        "        # Testing data only contains historical trajectory\n",
        "        scene = self.data[idx]  # (50, 50, 6)\n",
        "        hist = scene.copy()\n",
        "        \n",
        "        origin = hist[0, 49, :2].copy()\n",
        "        hist[..., :2] = hist[..., :2] - origin\n",
        "        hist[..., :4] = hist[..., :4] / self.scale\n",
        "\n",
        "        data_item = Data(\n",
        "            x=torch.tensor(hist, dtype=torch.float32),\n",
        "            origin=torch.tensor(origin, dtype=torch.float32).unsqueeze(0),\n",
        "            scale=torch.tensor(self.scale, dtype=torch.float32),\n",
        "        )\n",
        "        return data_item"
      ]
    },
    {
      "cell_type": "markdown",
      "metadata": {},
      "source": [
        "# Scale, Normalize, Augment, Create train and test data sequences, Create data loaders"
      ]
    },
    {
      "cell_type": "code",
      "execution_count": 54,
      "metadata": {},
      "outputs": [],
      "source": [
        "# too slow\n",
        "def createInputsAndLabels(train_data, sequence_len, stride = 1):\n",
        "    input_seqs = []\n",
        "    target_seqs = []\n",
        "    \n",
        "    number_of_scenes = train_data.shape[0]\n",
        "    print(f'number_of_scenes: {number_of_scenes}')\n",
        "    time_steps_per_scene = train_data.shape[2]\n",
        "    print(f'time_steps_per_scene: {time_steps_per_scene}')\n",
        "    \n",
        "    for i in range(number_of_scenes):\n",
        "        for j in range(sequence_len, time_steps_per_scene, stride):\n",
        "            input_seq = train_data[i, :, j-sequence_len: j, :]\n",
        "            target_seq = train_data[i, 0, j-sequence_len+1: j+1, :2]\n",
        "            \n",
        "            input_seqs.append(input_seq)\n",
        "            target_seqs.append(target_seq)\n",
        "    \n",
        "    print(f'1 input_seq: {input_seqs[0].shape}')\n",
        "    print(f'1 target_seq: {target_seqs[0].shape}')\n",
        "    \n",
        "    # input_seqs = torch.tensor(input_seqs).to(device)\n",
        "    # target_seqs = torch.tensor(target_seqs).to(device)\n",
        "    print(f'all input_seqs: {input_seqs.shape}')\n",
        "    print(f'all target_seqs: {target_seqs.shape}')\n",
        "    \n",
        "    return input_seqs, target_seqs"
      ]
    },
    {
      "cell_type": "code",
      "execution_count": 79,
      "metadata": {},
      "outputs": [],
      "source": [
        "# preallocate memory => faster\n",
        "def createInputsAndLabels_vectorized(train_data, sequence_len, stride=1, augment=True, scale=10.0):\n",
        "    \"\"\"\n",
        "    Vectorized version of createInputsAndLabels for better performance.\n",
        "    \n",
        "    Args:\n",
        "        train_data: numpy array or tensor of shape (num_scenes, channels, time_steps, features)\n",
        "        sequence_len: length of input sequences\n",
        "        stride: step size for sliding window\n",
        "    \n",
        "    Returns:\n",
        "        input_seqs: tensor of input sequences\n",
        "        target_seqs: tensor of target sequences\n",
        "    \"\"\"\n",
        "    # Convert to tensor if it's a numpy array\n",
        "    if isinstance(train_data, np.ndarray):\n",
        "        train_data = torch.from_numpy(train_data).float()\n",
        "    \n",
        "    number_of_scenes, objects, time_steps_per_scene, features = train_data.shape\n",
        "    print(f'number_of_scenes: {number_of_scenes}')\n",
        "    print(f'time_steps_per_scene: {time_steps_per_scene}')\n",
        "    \n",
        "    # Calculate number of sequences per scene\n",
        "    valid_starts = torch.arange(sequence_len, time_steps_per_scene, stride)\n",
        "    num_seqs_per_scene = len(valid_starts)\n",
        "    total_sequences = number_of_scenes * num_seqs_per_scene\n",
        "    \n",
        "    if total_sequences == 0:\n",
        "        print(\"Warning: No valid sequences found!\")\n",
        "        return torch.empty(0), torch.empty(0)\n",
        "    \n",
        "    # Pre-allocate output tensors - handle device properly\n",
        "    # device = train_data.device if hasattr(train_data, 'device') else 'cpu'\n",
        "    input_seqs = torch.zeros(total_sequences, objects, sequence_len, features, \n",
        "                           dtype=train_data.dtype)\n",
        "    # TODO: should output be a sequence?\n",
        "    target_seqs = torch.zeros(total_sequences, 2, \n",
        "                            dtype=train_data.dtype)\n",
        "    origins = torch.zeros((total_sequences, 2), dtype=train_data.dtype, device=device)\n",
        "    \n",
        "    # Vectorized extraction using advanced indexing\n",
        "    seq_idx = 0\n",
        "    for scene_idx in range(number_of_scenes):\n",
        "        # scale, normalize, augment\n",
        "        scene = train_data[scene_idx]\n",
        "        # Getting 50 historical timestamps and 60 future timestamps\n",
        "        # hist = scene.copy()\n",
        "        if augment:\n",
        "            if np.random.rand() < 0.5:\n",
        "                theta = np.random.uniform(-np.pi, np.pi)\n",
        "                R = np.array([[np.cos(theta), -np.sin(theta)],\n",
        "                              [np.sin(theta),  np.cos(theta)]], dtype=np.float32)\n",
        "                # Rotate the historical trajectory and future trajectory\n",
        "                scene[..., :2] = scene[..., :2] @ R\n",
        "                scene[..., 2:4] = scene[..., 2:4] @ R\n",
        "                # future = future @ R\n",
        "            if np.random.rand() < 0.5:\n",
        "                scene[..., 0] *= -1\n",
        "                scene[..., 2] *= -1\n",
        "                # future[:, 0] *= -1\n",
        "\n",
        "        # TODO: should i change the origin?\n",
        "        # Use the last timeframe of the historical trajectory as the origin\n",
        "        origin = scene[0, 49, :2]  # (2,)\n",
        "        scene[..., :2] = scene[..., :2] - origin\n",
        "        # future = future - origin\n",
        "\n",
        "        # Normalize the historical trajectory and future trajectory\n",
        "        scene[..., :4] = scene[..., :4] / scale\n",
        "        \n",
        "        # print(f'hist: {scene.shape}')\n",
        "        \n",
        "        for j in valid_starts:\n",
        "            # Extract input sequence: [j-sequence_len:j]\n",
        "            input_seqs[seq_idx] = scene[:, j-sequence_len:j, :]\n",
        "            \n",
        "            # Extract target sequence: [j-sequence_len+1:j+1, :2] from channel 0\n",
        "            target_seqs[seq_idx] = scene[0, j, :2]\n",
        "            \n",
        "            origins[seq_idx] = origin\n",
        "            \n",
        "            seq_idx += 1\n",
        "    \n",
        "    # Move to specified device if needed (from your original code)\n",
        "    # if 'device' in globals():\n",
        "    # input_seqs = input_seqs.to(device)\n",
        "    # target_seqs = target_seqs.to(device)\n",
        "    \n",
        "    print(f'1 input_seq: {input_seqs[0].shape}')\n",
        "    print(f'1 target_seq: {target_seqs[0].shape}')\n",
        "    print(f'all input_seqs: {input_seqs.shape}')\n",
        "    print(f'all target_seqs: {target_seqs.shape}')\n",
        "    \n",
        "    return input_seqs, target_seqs, origins"
      ]
    },
    {
      "cell_type": "code",
      "execution_count": 56,
      "metadata": {},
      "outputs": [],
      "source": [
        "# # fully vectorized => fastet but makes device freeze\n",
        "# def createInputsAndLabels_fully_vectorized(train_data, sequence_len, stride=1):\n",
        "#     \"\"\"\n",
        "#     Fully vectorized version using unfold for maximum performance.\n",
        "    \n",
        "#     Args:\n",
        "#         train_data: numpy array or tensor of shape (num_scenes, channels, time_steps, features)\n",
        "#         sequence_len: length of input sequences\n",
        "#         stride: step size for sliding window\n",
        "    \n",
        "#     Returns:\n",
        "#         input_seqs: tensor of input sequences\n",
        "#         target_seqs: tensor of target sequences\n",
        "#     \"\"\"\n",
        "#     # Convert to tensor if it's a numpy array\n",
        "#     if isinstance(train_data, np.ndarray):\n",
        "#         train_data = torch.from_numpy(train_data).float()\n",
        "    \n",
        "#     number_of_scenes, objects, time_steps_per_scene, features = train_data.shape\n",
        "#     print(f'number_of_scenes: {number_of_scenes}')\n",
        "#     print(f'time_steps_per_scene: {time_steps_per_scene}')\n",
        "    \n",
        "#     # Check if we have enough timesteps\n",
        "#     if time_steps_per_scene < sequence_len + 1:\n",
        "#         print(\"Warning: Not enough timesteps for the given sequence length!\")\n",
        "#         return torch.empty(0), torch.empty(0)\n",
        "    \n",
        "#     # Use unfold to create sliding windows efficiently\n",
        "#     # unfold(dimension, size, step) creates sliding windows\n",
        "#     unfolded = train_data.unfold(2, sequence_len + 1, stride)  # +1 to get target as well\n",
        "#     # Shape: (num_scenes, objects, num_windows, features, sequence_len + 1)\n",
        "    \n",
        "#     # Remove windows that don't have enough future steps\n",
        "#     if unfolded.size(2) == 0:\n",
        "#         print(\"Warning: No valid sequences found!\")\n",
        "#         return torch.empty(0), torch.empty(0)\n",
        "    \n",
        "#     # Reshape to combine scenes and windows\n",
        "#     num_windows = unfolded.size(2)\n",
        "#     total_sequences = number_of_scenes * num_windows\n",
        "    \n",
        "#     # Extract input sequences (first sequence_len timesteps)\n",
        "#     input_seqs = unfolded[:, :, :, :, :sequence_len].permute(0, 2, 1, 4, 3)\n",
        "#     input_seqs = input_seqs.reshape(total_sequences, objects, sequence_len, features)\n",
        "    \n",
        "#     # Extract target sequences (last sequence_len timesteps, channel 0, first 2 features)\n",
        "#     target_seqs = unfolded[:, 0, :, :2, 1:].permute(0, 2, 3, 1)\n",
        "#     target_seqs = target_seqs.reshape(total_sequences, sequence_len, 2)\n",
        "    \n",
        "#     # Move to specified device if needed (from your original code)\n",
        "#     if 'device' in globals():\n",
        "#         input_seqs = input_seqs.to(device)\n",
        "#         target_seqs = target_seqs.to(device)\n",
        "    \n",
        "#     print(f'1 input_seq: {input_seqs[0].shape}')\n",
        "#     print(f'1 target_seq: {target_seqs[0].shape}')\n",
        "#     print(f'all input_seqs: {input_seqs.shape}')\n",
        "#     print(f'all target_seqs: {target_seqs.shape}')\n",
        "    \n",
        "#     return input_seqs, target_seqs"
      ]
    },
    {
      "cell_type": "code",
      "execution_count": 80,
      "metadata": {},
      "outputs": [],
      "source": [
        "#  TODO: modify these\n",
        "torch.manual_seed(251)\n",
        "np.random.seed(42)\n",
        "\n",
        "batch_size = 1000\n",
        "sequence_len = 5\n",
        "stride = 1\n",
        "scale = 7.0\n",
        "\n",
        "N = len(train_data)\n",
        "val_size = int(0.1 * N)\n",
        "train_size = N - val_size"
      ]
    },
    {
      "cell_type": "code",
      "execution_count": 82,
      "metadata": {},
      "outputs": [
        {
          "name": "stdout",
          "output_type": "stream",
          "text": [
            "number_of_scenes: 9000\n",
            "time_steps_per_scene: 110\n"
          ]
        },
        {
          "name": "stderr",
          "output_type": "stream",
          "text": [
            "/var/folders/w3/lr66s56958q3881y1btpylth0000gn/T/ipykernel_33351/1745041611.py:54: DeprecationWarning: __array_wrap__ must accept context and return_scalar arguments (positionally) in the future. (Deprecated NumPy 2.0)\n",
            "  scene[..., :2] = scene[..., :2] @ R\n",
            "/var/folders/w3/lr66s56958q3881y1btpylth0000gn/T/ipykernel_33351/1745041611.py:55: DeprecationWarning: __array_wrap__ must accept context and return_scalar arguments (positionally) in the future. (Deprecated NumPy 2.0)\n",
            "  scene[..., 2:4] = scene[..., 2:4] @ R\n"
          ]
        },
        {
          "name": "stdout",
          "output_type": "stream",
          "text": [
            "1 input_seq: torch.Size([50, 5, 6])\n",
            "1 target_seq: torch.Size([2])\n",
            "all input_seqs: torch.Size([945000, 50, 5, 6])\n",
            "all target_seqs: torch.Size([945000, 2])\n",
            "number_of_scenes: 1000\n",
            "time_steps_per_scene: 110\n",
            "1 input_seq: torch.Size([50, 5, 6])\n",
            "1 target_seq: torch.Size([2])\n",
            "all input_seqs: torch.Size([105000, 50, 5, 6])\n",
            "all target_seqs: torch.Size([105000, 2])\n"
          ]
        }
      ],
      "source": [
        "# (train_data, sequence_len, stride=1, augment=True, scale=10.0):\n",
        "train_input_seqs, train_target_seqs, train_origins = createInputsAndLabels_vectorized(train_data[:train_size], sequence_len, stride, augment=True, scale=scale)\n",
        "val_input_seqs, val_target_seqs, val_origins = createInputsAndLabels_vectorized(train_data[train_size:], sequence_len, stride, augment=False, scale=scale)\n",
        "\n",
        "train_dataset = torch.utils.data.TensorDataset(train_input_seqs, train_target_seqs, train_origins)\n",
        "val_dataset = torch.utils.data.TensorDataset(val_input_seqs, val_target_seqs, val_origins)\n",
        "\n",
        "# Data loaders\n",
        "train_dataloader = DataLoader(train_dataset, batch_size=batch_size, shuffle=True)\n",
        "val_dataloader = DataLoader(val_dataset, batch_size=batch_size, shuffle=False)\n",
        "# train_dataloader = DataLoader(train_dataset, batch_size=batch_size, shuffle=True, collate_fn=lambda x: Batch.from_data_list(x))\n",
        "# val_dataloader = DataLoader(val_dataset, batch_size=batch_size, shuffle=False, collate_fn=lambda x: Batch.from_data_list(x))"
      ]
    },
    {
      "cell_type": "code",
      "execution_count": 89,
      "metadata": {},
      "outputs": [
        {
          "name": "stdout",
          "output_type": "stream",
          "text": [
            "train_input_seqs: torch.Size([945000, 50, 5, 6])\n",
            "train_target_seqs: torch.Size([945000, 2])\n",
            "train_target_seqs: torch.Size([945000, 2])\n",
            "val_input_seqs: torch.Size([105000, 50, 5, 6])\n",
            "val_input_seqs: torch.Size([105000, 50, 5, 6])\n",
            "val_input_seqs: torch.Size([105000, 2])\n",
            "tensor([[0., 0.],\n",
            "        [0., 0.],\n",
            "        [0., 0.],\n",
            "        ...,\n",
            "        [0., 0.],\n",
            "        [0., 0.],\n",
            "        [0., 0.]], device='mps:0')\n",
            "tensor([[0., 0.],\n",
            "        [0., 0.],\n",
            "        [0., 0.],\n",
            "        ...,\n",
            "        [0., 0.],\n",
            "        [0., 0.],\n",
            "        [0., 0.]], device='mps:0')\n"
          ]
        }
      ],
      "source": [
        "print(f'train_input_seqs: {train_input_seqs.shape}')\n",
        "print(f'train_target_seqs: {train_target_seqs.shape}')\n",
        "print(f'train_target_seqs: {train_origins.shape}')\n",
        "print(f'val_input_seqs: {val_input_seqs.shape}')\n",
        "print(f'val_input_seqs: {val_input_seqs.shape}')\n",
        "print(f'val_input_seqs: {val_origins.shape}')\n",
        "\n",
        "print(train_origins[10:])\n",
        "print(val_origins[10:])"
      ]
    },
    {
      "cell_type": "code",
      "execution_count": 59,
      "metadata": {},
      "outputs": [],
      "source": [
        "# test_input_seqs, val_target_seqs = createInputsAndLabels_vectorized(train_data[train_size:], sequence_len, stride, augment=False, scale=scale)\n",
        "\n",
        "# test_dataset = TrajectoryDatasetTest(test_data, scale=scale)\n",
        "# test_loader = DataLoader(test_dataset, batch_size=32, shuffle=False,\n",
        "#                          collate_fn=lambda xs: Batch.from_data_list(xs))"
      ]
    },
    {
      "cell_type": "markdown",
      "metadata": {},
      "source": [
        "# LSTM"
      ]
    },
    {
      "cell_type": "code",
      "execution_count": 60,
      "metadata": {},
      "outputs": [],
      "source": [
        "# Example of basic model that should work\n",
        "class SimpleLSTM(nn.Module):\n",
        "    # TODO: make input dim 5?\n",
        "    # TODO: add more layers?\n",
        "    def __init__(self, input_dim=6, hidden_dim=512, output_dim=2, num_layers=1):\n",
        "        super(SimpleLSTM, self).__init__()\n",
        "        self.hidden_size = hidden_dim\n",
        "        self.num_layers = num_layers\n",
        "        # self.lstm = nn.LSTM(input_dim, hidden_dim, batch_first=True)\n",
        "        self.lstm = nn.LSTM(input_size=input_dim, hidden_size=hidden_dim, num_layers=num_layers, batch_first=True)\n",
        "        \n",
        "        # Add multi-layer prediction head for better results\n",
        "        self.fc1 = nn.Linear(hidden_dim, hidden_dim)\n",
        "        self.dropout = nn.Dropout(0.1)  # Add dropout for regularization\n",
        "        self.relu = nn.ReLU()\n",
        "        self.fc2 = nn.Linear(hidden_dim, output_dim)\n",
        "        \n",
        "        # TODO: different initialization method?\n",
        "        # Initialize weights properly\n",
        "        for name, param in self.named_parameters():\n",
        "            if 'weight' in name:\n",
        "                nn.init.xavier_normal_(param)\n",
        "            elif 'bias' in name:\n",
        "                nn.init.constant_(param, 0.0)\n",
        "        \n",
        "    # TODO: add hidden dimension?\n",
        "    def forward(self, x, hidden_state = None):\n",
        "        # x = data.x\n",
        "        # TODO: did the data loader batch it?\n",
        "        # x = x.reshape(-1, 50, sequence_len, 6)  # (batch_size, num_agents, seq_len, input_dim)\n",
        "        # print(f'forward function - x shape: {x.shape}')\n",
        "        x = x[:, 0, :, :]  # Only consider ego agent (index 0)\n",
        "        # print(f'forward function - x shape ego only: {x.shape}')\n",
        "        \n",
        "        batch_size = x.size(0)\n",
        "\n",
        "        if not hidden_state:\n",
        "            h0, cell0 = self.__initialize_hidden_and_cell(batch_size)\n",
        "            hidden_state = (h0, cell0)\n",
        "        \n",
        "        # Process through LSTM\n",
        "        lstm_out, hidden_state = self.lstm(x, hidden_state)\n",
        "        \n",
        "        # lst_out shape: (batch_size, sequence_len, hidden_dim)\n",
        "        \n",
        "        # print(f'forward function - lstm out should be (batch_size, sequence_len, hidden_dim): {lstm_out.shape}')\n",
        "        # Select output of the final time step from LSTM (last hidden state that is a summary of all those before it)\n",
        "        features = lstm_out[:, -1, :]\n",
        "        # features shape: (batch_size, hidden_dim)\n",
        "        # print(f'forward function - features should be (batch_size, hidden_dim): {features.shape}')\n",
        "        \n",
        "        # Process through prediction head\n",
        "        features = self.relu(self.fc1(features))\n",
        "        features = self.dropout(features)\n",
        "        out = self.fc2(features)\n",
        "        \n",
        "        # print(f'forward function - out: {out.shape}')\n",
        "        \n",
        "        # Reshape to (batch_size, 60, 2)\n",
        "        return out.view(-1, 2)\n",
        "    \n",
        "    def __initialize_hidden_and_cell(self, batch_size):\n",
        "        h0 = torch.zeros(self.num_layers, batch_size, self.hidden_size).to(device)\n",
        "        cell0 = torch.zeros(self.num_layers, batch_size, self.hidden_size).to(device)\n",
        "        return h0, cell0"
      ]
    },
    {
      "cell_type": "code",
      "execution_count": 61,
      "metadata": {},
      "outputs": [],
      "source": [
        "# class VehicleOnlyLSTM(nn.Module):\n",
        "#     def __init__(self, input_dim=5, hidden_dim=512, output_dim=60*2):  # input_dim=5 (excluding object_type)\n",
        "#         super(VehicleOnlyLSTM, self).__init__()\n",
        "#         self.input_dim = input_dim\n",
        "#         self.hidden_dim = hidden_dim\n",
        "        \n",
        "#         # Single LSTM for processing vehicle trajectories\n",
        "#         self.lstm = nn.LSTM(input_dim, hidden_dim, batch_first=True)\n",
        "        \n",
        "#         # Prediction head\n",
        "#         self.fc1 = nn.Linear(hidden_dim, hidden_dim)\n",
        "#         self.dropout = nn.Dropout(0.1)\n",
        "#         self.relu = nn.ReLU()\n",
        "#         self.fc2 = nn.Linear(hidden_dim, output_dim)\n",
        "        \n",
        "#         # Initialize weights properly\n",
        "#         for name, param in self.named_parameters():\n",
        "#             if 'weight' in name:\n",
        "#                 nn.init.xavier_normal_(param)\n",
        "#             elif 'bias' in name:\n",
        "#                 nn.init.constant_(param, 0.0)\n",
        "    \n",
        "#     def get_vehicle_data(self, x):\n",
        "#         \"\"\"\n",
        "#         Extract all vehicles (object_type == 0) and concatenate their trajectories\n",
        "        \n",
        "#         Args:\n",
        "#             x: tensor of shape (batch_size, num_agents, seq_len, input_dim)\n",
        "            \n",
        "#         Returns:\n",
        "#             vehicle_trajectories: tensor of shape (total_vehicles, seq_len, input_dim-1)\n",
        "#             batch_indices: tensor indicating which batch each vehicle belongs to\n",
        "#         \"\"\"\n",
        "#         batch_size, num_agents, seq_len, _ = x.shape\n",
        "        \n",
        "#         # Extract object_type (last dimension, index 5)\n",
        "#         object_types = x[:, :, :, 5]  # (batch_size, num_agents, seq_len)\n",
        "        \n",
        "#         # Create mask for vehicles (object_type == 0)\n",
        "#         # Check if any timestep in the trajectory has object_type == 0\n",
        "#         vehicle_mask = (object_types == 0).any(dim=2)  # (batch_size, num_agents)\n",
        "        \n",
        "#         # Collect all vehicle trajectories\n",
        "#         vehicle_trajectories = []\n",
        "#         batch_indices = []\n",
        "        \n",
        "#         for batch_idx in range(batch_size):\n",
        "#             # Get indices of vehicles in this batch\n",
        "#             vehicle_indices = torch.where(vehicle_mask[batch_idx])[0]\n",
        "            \n",
        "#             if len(vehicle_indices) > 0:\n",
        "#                 # Extract vehicle data (excluding object_type dimension)\n",
        "#                 batch_vehicles = x[batch_idx, vehicle_indices, :, :5]  # (num_vehicles, seq_len, 5)\n",
        "#                 vehicle_trajectories.append(batch_vehicles)\n",
        "                \n",
        "#                 # Track which batch each vehicle belongs to\n",
        "#                 batch_indices.extend([batch_idx] * len(vehicle_indices))\n",
        "        \n",
        "#         if len(vehicle_trajectories) > 0:\n",
        "#             # Concatenate all vehicles\n",
        "#             all_vehicles = torch.cat(vehicle_trajectories, dim=0)  # (total_vehicles, seq_len, 5)\n",
        "#             batch_indices = torch.tensor(batch_indices, device=x.device, dtype=torch.long)\n",
        "#         else:\n",
        "#             # No vehicles found - create dummy data\n",
        "#             all_vehicles = torch.zeros(1, seq_len, 5, device=x.device, dtype=x.dtype)\n",
        "#             batch_indices = torch.zeros(1, device=x.device, dtype=torch.long)\n",
        "        \n",
        "#         return all_vehicles, batch_indices\n",
        "    \n",
        "#     def forward(self, data):\n",
        "#         x = data.x\n",
        "#         x = x.reshape(-1, 50, 50, 6)  # (batch_size, num_agents, seq_len, input_dim)\n",
        "#         batch_size = x.shape[0]\n",
        "        \n",
        "#         # Extract all vehicle trajectories\n",
        "#         vehicle_trajectories, batch_indices = self.get_vehicle_data(x)  # (total_vehicles, seq_len, 5)\n",
        "        \n",
        "#         # Process all vehicles through single LSTM\n",
        "#         lstm_out, _ = self.lstm(vehicle_trajectories)  # (total_vehicles, seq_len, hidden_dim)\n",
        "        \n",
        "#         # Extract final hidden state for each vehicle\n",
        "#         vehicle_features = lstm_out[:, -1, :]  # (total_vehicles, hidden_dim)\n",
        "        \n",
        "#         # Aggregate features by batch using average pooling\n",
        "#         output_features = torch.zeros(batch_size, self.hidden_dim, device=x.device, dtype=x.dtype)\n",
        "        \n",
        "#         for batch_idx in range(batch_size):\n",
        "#             # Find vehicles belonging to this batch\n",
        "#             mask = (batch_indices == batch_idx)\n",
        "#             if mask.any():\n",
        "#                 # Average the features of all vehicles in this batch\n",
        "#                 batch_vehicle_features = vehicle_features[mask]  # (num_vehicles_in_batch, hidden_dim)\n",
        "#                 output_features[batch_idx] = batch_vehicle_features.mean(dim=0)\n",
        "        \n",
        "#         # Process through prediction head\n",
        "#         features = self.relu(self.fc1(output_features))\n",
        "#         features = self.dropout(features)\n",
        "#         out = self.fc2(features)\n",
        "        \n",
        "#         # Reshape to (batch_size, 60, 2)\n",
        "#         return out.view(-1, 60, 2)"
      ]
    },
    {
      "cell_type": "markdown",
      "metadata": {},
      "source": [
        "# Train"
      ]
    },
    {
      "cell_type": "code",
      "execution_count": 121,
      "metadata": {},
      "outputs": [],
      "source": [
        "from tqdm import tqdm\n",
        "\n",
        "def train_improved_model(model, train_dataloader, val_dataloader, \n",
        "                         device, criterion=nn.MSELoss(), \n",
        "                         lr=0.001, epochs=100, patience=15):\n",
        "    \"\"\"\n",
        "    Improved training function with better debugging and early stopping\n",
        "    \"\"\"\n",
        "    # Initialize optimizer with smaller learning rate\n",
        "    optimizer = torch.optim.Adam(model.parameters(), lr=lr)\n",
        "    \n",
        "    # Exponential decay scheduler\n",
        "    scheduler = torch.optim.lr_scheduler.ExponentialLR(optimizer, gamma=0.95)\n",
        "    \n",
        "    early_stopping_patience = patience\n",
        "    best_val_loss = float('inf')\n",
        "    no_improvement = 0\n",
        "    \n",
        "    # Save initial state for comparison\n",
        "    initial_state_dict = {k: v.clone() for k, v in model.state_dict().items()}\n",
        "    \n",
        "    for epoch in tqdm(range(epochs), desc=\"Epoch\", unit=\"epoch\"):\n",
        "        # ---- Training ----\n",
        "        model.train()\n",
        "        n = 0\n",
        "        running_loss = 0\n",
        "        \n",
        "        # print(f'train_dataloader: {train_dataloader.shape}')\n",
        "        # print(f'train_dataloader: {type(train_dataloader)}')\n",
        "        # print(f'val_dataloader: {val_dataloader.shape}')\n",
        "        # print(f'val_dataloader: {type(val_dataloader)}')\n",
        "        \n",
        "        # for inputs, targets, origin in tqdm(train_dataloader, desc=f\"Epoch {epoch:03d} Batches\", leave=False):\n",
        "        for batch_idx, (inputs, targets, origins) in enumerate(train_dataloader):\n",
        "            # print(f'batch: {batch_idx}')\n",
        "            inputs = inputs.to(device)\n",
        "            targets = targets.to(device)\n",
        "            origins = origins.to(device)\n",
        "            \n",
        "            # inputs = batch.x\n",
        "            # targets = batch.y\n",
        "            \n",
        "            # print(f'training fn - inputs: {inputs.shape}')\n",
        "            # print(f'training fn - targets: {targets.shape}')\n",
        "            \n",
        "            hidden_state = None\n",
        "            optimizer.zero_grad()\n",
        "            \n",
        "            pred = model(inputs, hidden_state)\n",
        "            # print(f'pred shape: {pred.shape}')\n",
        "            \n",
        "            y = targets\n",
        "            # print(f'y shape: {y.shape}')\n",
        "            \n",
        "            # Check for NaN predictions\n",
        "            if torch.isnan(pred).any():\n",
        "                print(f\"WARNING: NaN detected in predictions during training\")\n",
        "                continue\n",
        "                \n",
        "            loss = criterion(pred, y)\n",
        "            running_loss += loss.item()\n",
        "            n += 1\n",
        "            \n",
        "            # Check if loss is valid\n",
        "            if torch.isnan(loss) or torch.isinf(loss):\n",
        "                print(f\"WARNING: Invalid loss value: {loss.item()}\")\n",
        "                continue\n",
        "                \n",
        "            loss.backward()\n",
        "            \n",
        "            # TODO: remove?\n",
        "            # More conservative gradient clipping\n",
        "            torch.nn.utils.clip_grad_norm_(model.parameters(), 1.0)\n",
        "            \n",
        "            optimizer.step()\n",
        "        \n",
        "        # Skip epoch if no valid batches\n",
        "        if n == 0:\n",
        "            print(\"WARNING: No valid training batches in this epoch\")\n",
        "            continue\n",
        "            \n",
        "        avg_loss = running_loss / n\n",
        "        \n",
        "        # ---- Validation ----\n",
        "        model.eval()\n",
        "        val_loss = 0\n",
        "        val_mae = 0\n",
        "        val_mse = 0\n",
        "        num_val_batches = 0\n",
        "        \n",
        "        # Sample predictions for debugging\n",
        "        sample_input = None\n",
        "        sample_pred = None\n",
        "        sample_target = None\n",
        "        \n",
        "        # TODO: add for validation\n",
        "        with torch.no_grad():\n",
        "            for batchidx, (inputs, targets, origins) in enumerate(val_dataloader):\n",
        "                inputs = inputs.to(device)\n",
        "                targets = targets.to(device)\n",
        "                origins = origins.to(device)\n",
        "                # print(f'training - origin: {origins}')\n",
        "                \n",
        "                # print(f\"pred[0]: {pred[0]}\")\n",
        "                # print(f\"origins[0]: {origins[0]}\")\n",
        "                # print(f\"unnorm pred[0]: {(pred[0] * scale + origins[0])}\")\n",
        "\n",
        "                hidden_state = None\n",
        "                pred = model(inputs, hidden_state)\n",
        "                y = targets\n",
        "                \n",
        "                # Store sample for debugging\n",
        "                if batchidx == 0 and sample_input is None:\n",
        "                    sample_input = inputs[0]\n",
        "                    sample_pred = pred[0].cpu().numpy()\n",
        "                    sample_target = y[0].cpu().numpy()\n",
        "                \n",
        "                # Skip invalid predictions\n",
        "                if torch.isnan(pred).any():\n",
        "                    print(f\"WARNING: NaN detected in predictions during validation\")\n",
        "                    continue\n",
        "                    \n",
        "                batch_loss = criterion(pred, y).item()\n",
        "                val_loss += batch_loss\n",
        "                \n",
        "                # Unnormalize for real-world metrics\n",
        "                pred_unnorm = pred * scale + origins\n",
        "                y_unnorm = y * scale + origins\n",
        "                \n",
        "                val_mae += nn.L1Loss()(pred_unnorm, y_unnorm).item()\n",
        "                val_mse += nn.MSELoss()(pred_unnorm, y_unnorm).item()\n",
        "                \n",
        "                num_val_batches += 1\n",
        "        \n",
        "        # Skip epoch if no valid validation batches\n",
        "        if num_val_batches == 0:\n",
        "            print(\"WARNING: No valid validation batches in this epoch\")\n",
        "            continue\n",
        "            \n",
        "        val_loss /= num_val_batches\n",
        "        val_mae /= num_val_batches\n",
        "        val_mse /= num_val_batches\n",
        "        \n",
        "        # Update learning rate\n",
        "        scheduler.step()\n",
        "        \n",
        "        # Print with more details\n",
        "        tqdm.write(\n",
        "            f\"Epoch {epoch:03d} | LR {optimizer.param_groups[0]['lr']:.6f} | \"\n",
        "            f\"Train MSE {running_loss:.4f} | Val Loss {val_loss:.4f} | \"\n",
        "            f\"Val MAE {val_mae:.4f} | Val MSE {val_mse:.4f}\"\n",
        "        )\n",
        "        \n",
        "        \n",
        "        # # TODO: add later for checking\n",
        "        # # Debug output - first 3 predictions vs targets\n",
        "        # # if epoch % 5 == 0:\n",
        "        # #     tqdm.write(f\"Sample pred first 3 steps: {sample_pred[:3]}\")\n",
        "        # #     tqdm.write(f\"Sample target first 3 steps: {sample_target[:3]}\")\n",
        "            \n",
        "        # #     # Check if model weights are changing\n",
        "        # #     if epoch > 0:\n",
        "        # #         weight_change = False\n",
        "        # #         for name, param in model.named_parameters():\n",
        "        # #             if param.requires_grad:\n",
        "        # #                 initial_param = initial_state_dict[name]\n",
        "        # #                 if not torch.allclose(param, initial_param, rtol=1e-4):\n",
        "        # #                     weight_change = True\n",
        "        # #                     break\n",
        "        # #         if not weight_change:\n",
        "        # #             tqdm.write(\"WARNING: Model weights barely changing!\")\n",
        "        \n",
        "        # Relaxed improvement criterion - consider any improvement\n",
        "        if val_loss < best_val_loss:\n",
        "            tqdm.write(f\"Validation improved: {best_val_loss:.6f} -> {val_loss:.6f}\")\n",
        "            best_val_loss = val_loss\n",
        "            no_improvement = 0\n",
        "            torch.save(model.state_dict(), best_model)\n",
        "        else:\n",
        "            no_improvement += 1\n",
        "            if no_improvement >= early_stopping_patience:\n",
        "                print(f\"Early stopping after {epoch+1} epochs without improvement\")\n",
        "                break\n",
        "    \n",
        "    # Load best model before returning\n",
        "    model.load_state_dict(torch.load(best_model))\n",
        "    return model"
      ]
    },
    {
      "cell_type": "code",
      "execution_count": 122,
      "metadata": {},
      "outputs": [],
      "source": [
        "# Example usage\n",
        "def train_and_evaluate_model():\n",
        "    # Create model\n",
        "    model = SimpleLSTM(input_dim=6, hidden_dim=512)\n",
        "    model = model.to(device)\n",
        "    \n",
        "    # Train with improved function\n",
        "    train_improved_model(\n",
        "        model=model,\n",
        "        train_dataloader=train_dataloader,\n",
        "        val_dataloader=val_dataloader,\n",
        "        device=device,\n",
        "        # lr = 0.007 => 9.07\n",
        "        # lr = 0.01 => 9.18\n",
        "        lr=0.007,  # Lower learning rate\n",
        "        patience=20,  # More patience\n",
        "        epochs=100\n",
        "    )\n",
        "    \n",
        "    # Evaluate\n",
        "    model.eval()\n",
        "    test_mse = 0\n",
        "    with torch.no_grad():\n",
        "        for (inputs, targets, origins) in val_dataloader:\n",
        "            inputs = inputs.to(device)\n",
        "            targets = targets.to(device)\n",
        "            origins = origins.to(device)\n",
        "            \n",
        "            pred = model(inputs)\n",
        "            y = targets\n",
        "            \n",
        "            # Unnormalize\n",
        "            pred = pred * scale + origins\n",
        "            y = y * scale + origins\n",
        "            \n",
        "            test_mse += nn.MSELoss()(pred, y).item()\n",
        "    \n",
        "    test_mse /= len(val_dataloader)\n",
        "    print(f\"Val MSE: {test_mse:.4f}\")\n",
        "    \n",
        "    return model"
      ]
    },
    {
      "cell_type": "code",
      "execution_count": null,
      "metadata": {},
      "outputs": [
        {
          "name": "stderr",
          "output_type": "stream",
          "text": [
            "Epoch:   1%|          | 1/100 [00:27<46:01, 27.89s/epoch]"
          ]
        },
        {
          "name": "stdout",
          "output_type": "stream",
          "text": [
            "Epoch 000 | LR 0.006650 | Train MSE 55.0111 | Val Loss 0.0025 | Val MAE 0.1968 | Val MSE 0.1209\n",
            "Validation improved: inf -> 0.002467\n"
          ]
        },
        {
          "name": "stderr",
          "output_type": "stream",
          "text": [
            "Epoch:   2%|▏         | 2/100 [00:55<45:34, 27.91s/epoch]"
          ]
        },
        {
          "name": "stdout",
          "output_type": "stream",
          "text": [
            "Epoch 001 | LR 0.006317 | Train MSE 6.0344 | Val Loss 0.0010 | Val MAE 0.1404 | Val MSE 0.0513\n",
            "Validation improved: 0.002467 -> 0.001047\n"
          ]
        },
        {
          "name": "stderr",
          "output_type": "stream",
          "text": [
            "Epoch:   3%|▎         | 3/100 [01:24<45:40, 28.25s/epoch]"
          ]
        },
        {
          "name": "stdout",
          "output_type": "stream",
          "text": [
            "Epoch 002 | LR 0.006002 | Train MSE 5.6607 | Val Loss 0.0012 | Val MAE 0.1413 | Val MSE 0.0592\n"
          ]
        },
        {
          "name": "stderr",
          "output_type": "stream",
          "text": [
            "Epoch:   4%|▍         | 4/100 [01:54<46:18, 28.94s/epoch]"
          ]
        },
        {
          "name": "stdout",
          "output_type": "stream",
          "text": [
            "Epoch 003 | LR 0.005702 | Train MSE 5.6867 | Val Loss 0.0009 | Val MAE 0.1334 | Val MSE 0.0430\n",
            "Validation improved: 0.001047 -> 0.000878\n"
          ]
        },
        {
          "name": "stderr",
          "output_type": "stream",
          "text": [
            "Epoch:   5%|▌         | 5/100 [02:24<46:27, 29.34s/epoch]"
          ]
        },
        {
          "name": "stdout",
          "output_type": "stream",
          "text": [
            "Epoch 004 | LR 0.005416 | Train MSE 5.4270 | Val Loss 0.0012 | Val MAE 0.1562 | Val MSE 0.0576\n"
          ]
        },
        {
          "name": "stderr",
          "output_type": "stream",
          "text": [
            "Epoch:   6%|▌         | 6/100 [02:56<47:13, 30.14s/epoch]"
          ]
        },
        {
          "name": "stdout",
          "output_type": "stream",
          "text": [
            "Epoch 005 | LR 0.005146 | Train MSE 5.2774 | Val Loss 0.0021 | Val MAE 0.1736 | Val MSE 0.1023\n"
          ]
        },
        {
          "name": "stderr",
          "output_type": "stream",
          "text": [
            "Epoch:   7%|▋         | 7/100 [03:25<46:17, 29.86s/epoch]"
          ]
        },
        {
          "name": "stdout",
          "output_type": "stream",
          "text": [
            "Epoch 006 | LR 0.004888 | Train MSE 5.2969 | Val Loss 0.0012 | Val MAE 0.1566 | Val MSE 0.0564\n"
          ]
        },
        {
          "name": "stderr",
          "output_type": "stream",
          "text": [
            "Epoch:   8%|▊         | 8/100 [03:56<46:32, 30.36s/epoch]"
          ]
        },
        {
          "name": "stdout",
          "output_type": "stream",
          "text": [
            "Epoch 007 | LR 0.004644 | Train MSE 5.1388 | Val Loss 0.0018 | Val MAE 0.1640 | Val MSE 0.0898\n"
          ]
        },
        {
          "name": "stderr",
          "output_type": "stream",
          "text": [
            "Epoch:   9%|▉         | 9/100 [04:24<44:45, 29.51s/epoch]"
          ]
        },
        {
          "name": "stdout",
          "output_type": "stream",
          "text": [
            "Epoch 008 | LR 0.004412 | Train MSE 5.1349 | Val Loss 0.0009 | Val MAE 0.1382 | Val MSE 0.0452\n"
          ]
        },
        {
          "name": "stderr",
          "output_type": "stream",
          "text": [
            "Epoch:  10%|█         | 10/100 [04:53<43:48, 29.21s/epoch]"
          ]
        },
        {
          "name": "stdout",
          "output_type": "stream",
          "text": [
            "Epoch 009 | LR 0.004191 | Train MSE 5.0532 | Val Loss 0.0006 | Val MAE 0.1101 | Val MSE 0.0318\n",
            "Validation improved: 0.000878 -> 0.000650\n"
          ]
        },
        {
          "name": "stderr",
          "output_type": "stream",
          "text": [
            "Epoch:  11%|█         | 11/100 [05:21<42:53, 28.92s/epoch]"
          ]
        },
        {
          "name": "stdout",
          "output_type": "stream",
          "text": [
            "Epoch 010 | LR 0.003982 | Train MSE 5.0238 | Val Loss 0.0008 | Val MAE 0.1294 | Val MSE 0.0402\n"
          ]
        },
        {
          "name": "stderr",
          "output_type": "stream",
          "text": [
            "Epoch:  12%|█▏        | 12/100 [05:48<41:27, 28.27s/epoch]"
          ]
        },
        {
          "name": "stdout",
          "output_type": "stream",
          "text": [
            "Epoch 011 | LR 0.003783 | Train MSE 4.9702 | Val Loss 0.0014 | Val MAE 0.1977 | Val MSE 0.0699\n"
          ]
        },
        {
          "name": "stderr",
          "output_type": "stream",
          "text": [
            "Epoch:  13%|█▎        | 13/100 [06:14<40:19, 27.81s/epoch]"
          ]
        },
        {
          "name": "stdout",
          "output_type": "stream",
          "text": [
            "Epoch 012 | LR 0.003593 | Train MSE 4.8604 | Val Loss 0.0007 | Val MAE 0.1214 | Val MSE 0.0359\n"
          ]
        },
        {
          "name": "stderr",
          "output_type": "stream",
          "text": [
            "Epoch:  14%|█▍        | 14/100 [06:44<40:45, 28.43s/epoch]"
          ]
        },
        {
          "name": "stdout",
          "output_type": "stream",
          "text": [
            "Epoch 013 | LR 0.003414 | Train MSE 4.8872 | Val Loss 0.0006 | Val MAE 0.1121 | Val MSE 0.0304\n",
            "Validation improved: 0.000650 -> 0.000620\n"
          ]
        },
        {
          "name": "stderr",
          "output_type": "stream",
          "text": [
            "Epoch:  15%|█▌        | 15/100 [07:15<41:23, 29.22s/epoch]"
          ]
        },
        {
          "name": "stdout",
          "output_type": "stream",
          "text": [
            "Epoch 014 | LR 0.003243 | Train MSE 4.7927 | Val Loss 0.0005 | Val MAE 0.1033 | Val MSE 0.0256\n",
            "Validation improved: 0.000620 -> 0.000522\n"
          ]
        },
        {
          "name": "stderr",
          "output_type": "stream",
          "text": [
            "Epoch:  16%|█▌        | 16/100 [07:44<40:39, 29.04s/epoch]"
          ]
        },
        {
          "name": "stdout",
          "output_type": "stream",
          "text": [
            "Epoch 015 | LR 0.003081 | Train MSE 4.7616 | Val Loss 0.0004 | Val MAE 0.1034 | Val MSE 0.0217\n",
            "Validation improved: 0.000522 -> 0.000442\n"
          ]
        },
        {
          "name": "stderr",
          "output_type": "stream",
          "text": [
            "Epoch:  17%|█▋        | 17/100 [08:13<40:04, 28.97s/epoch]"
          ]
        },
        {
          "name": "stdout",
          "output_type": "stream",
          "text": [
            "Epoch 016 | LR 0.002927 | Train MSE 4.7626 | Val Loss 0.0005 | Val MAE 0.1013 | Val MSE 0.0226\n"
          ]
        },
        {
          "name": "stderr",
          "output_type": "stream",
          "text": [
            "Epoch:  18%|█▊        | 18/100 [08:43<39:58, 29.25s/epoch]"
          ]
        },
        {
          "name": "stdout",
          "output_type": "stream",
          "text": [
            "Epoch 017 | LR 0.002781 | Train MSE 4.7254 | Val Loss 0.0002 | Val MAE 0.0699 | Val MSE 0.0117\n",
            "Validation improved: 0.000442 -> 0.000238\n"
          ]
        },
        {
          "name": "stderr",
          "output_type": "stream",
          "text": [
            "Epoch:  19%|█▉        | 19/100 [09:10<38:54, 28.82s/epoch]"
          ]
        },
        {
          "name": "stdout",
          "output_type": "stream",
          "text": [
            "Epoch 018 | LR 0.002641 | Train MSE 4.7003 | Val Loss 0.0009 | Val MAE 0.1493 | Val MSE 0.0461\n"
          ]
        },
        {
          "name": "stderr",
          "output_type": "stream",
          "text": [
            "Epoch:  20%|██        | 20/100 [09:40<38:39, 29.00s/epoch]"
          ]
        },
        {
          "name": "stdout",
          "output_type": "stream",
          "text": [
            "Epoch 019 | LR 0.002509 | Train MSE 4.6520 | Val Loss 0.0002 | Val MAE 0.0788 | Val MSE 0.0114\n",
            "Validation improved: 0.000238 -> 0.000232\n"
          ]
        }
      ],
      "source": [
        "train_and_evaluate_model()\n",
        "\n",
        "# sample = next(iter(train_dataloader))\n",
        "\n",
        "# print(f\"Type of sample: {type(sample)}\")\n",
        "\n",
        "# if isinstance(sample, tuple):\n",
        "#     print(f\"Sample is a tuple with {len(sample)} elements\")\n",
        "#     for i, item in enumerate(sample):\n",
        "#         print(f\" - Element {i}: type={type(item)}\")\n",
        "#         if isinstance(item, torch.Tensor):\n",
        "#             print(f\"   shape={item.shape}\")\n",
        "#         elif hasattr(item, '__dict__'):\n",
        "#             print(f\"   keys={item.__dict__.keys()}\")\n",
        "# elif hasattr(sample, '__dict__'):\n",
        "#     print(f\"Sample has attributes: {sample.__dict__.keys()}\")\n",
        "# else:\n",
        "#     print(\"Sample is of unknown structure.\")\n"
      ]
    },
    {
      "cell_type": "markdown",
      "metadata": {},
      "source": [
        "# Final Pred"
      ]
    },
    {
      "cell_type": "code",
      "execution_count": 11,
      "metadata": {},
      "outputs": [],
      "source": [
        "test_dataset = TrajectoryDatasetTest(test_data, scale=scale)\n",
        "test_loader = DataLoader(test_dataset, batch_size=32, shuffle=False,\n",
        "                         collate_fn=lambda xs: Batch.from_data_list(xs))\n",
        "\n",
        "best_model2 = torch.load(best_model)\n",
        "model = SimpleLSTM().to(device)\n",
        "# optimizer = optim.Adam(model.parameters(), lr=1e-3, weight_decay=1e-4)\n",
        "# scheduler = optim.lr_scheduler.StepLR(optimizer, step_size=20, gamma=0.25) # You can try different schedulers\n",
        "# criterion = nn.MSELoss()\n",
        "\n",
        "model.load_state_dict(best_model2)\n",
        "model.eval()\n",
        "\n",
        "pred_list = []\n",
        "with torch.no_grad():\n",
        "    for batch in test_loader:\n",
        "        batch = batch.to(device)\n",
        "        pred_norm = model(batch)\n",
        "        \n",
        "        # Reshape the prediction to (N, 60, 2)\n",
        "        pred = pred_norm * batch.scale.view(-1,1,1) + batch.origin.unsqueeze(1)\n",
        "        pred_list.append(pred.cpu().numpy())\n",
        "pred_list = np.concatenate(pred_list, axis=0)  # (N,60,2)\n",
        "pred_output = pred_list.reshape(-1, 2)  # (N*60, 2)\n",
        "output_df = pd.DataFrame(pred_output, columns=['x', 'y'])\n",
        "output_df.index.name = 'index'\n",
        "output_df.to_csv('submission_lstm_simple_auto12.csv', index=True)"
      ]
    }
  ],
  "metadata": {
    "colab": {
      "name": "data-loading-and-submission-preperation",
      "provenance": []
    },
    "kaggle": {
      "accelerator": "none",
      "dataSources": [],
      "dockerImageVersionId": 30918,
      "isGpuEnabled": false,
      "isInternetEnabled": false,
      "language": "python",
      "sourceType": "notebook"
    },
    "kernelspec": {
      "display_name": "Python 3",
      "language": "python",
      "name": "python3"
    },
    "language_info": {
      "codemirror_mode": {
        "name": "ipython",
        "version": 3
      },
      "file_extension": ".py",
      "mimetype": "text/x-python",
      "name": "python",
      "nbconvert_exporter": "python",
      "pygments_lexer": "ipython3",
      "version": "3.9.6"
    },
    "papermill": {
      "default_parameters": {},
      "duration": 27.524611,
      "end_time": "2025-04-01T17:39:42.223757",
      "environment_variables": {},
      "exception": null,
      "input_path": "__notebook__.ipynb",
      "output_path": "__notebook__.ipynb",
      "parameters": {},
      "start_time": "2025-04-01T17:39:14.699146",
      "version": "2.6.0"
    }
  },
  "nbformat": 4,
  "nbformat_minor": 0
}
