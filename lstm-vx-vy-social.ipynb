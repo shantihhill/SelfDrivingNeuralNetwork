{
  "cells": [
    {
      "cell_type": "markdown",
      "metadata": {
        "id": "-n-C_P-zs-pY"
      },
      "source": [
        "# LSTM - vanilla"
      ]
    },
    {
      "cell_type": "code",
      "execution_count": 12,
      "metadata": {},
      "outputs": [],
      "source": [
        "best_model = \"best_model0.pt\""
      ]
    },
    {
      "cell_type": "markdown",
      "metadata": {},
      "source": [
        "## Load and prepare data"
      ]
    },
    {
      "cell_type": "code",
      "execution_count": 13,
      "metadata": {
        "_cell_guid": "b1076dfc-b9ad-4769-8c92-a6c4dae69d19",
        "_uuid": "8f2839f25d086af736a60e9eeb907d3b93b6e0e5",
        "execution": {
          "iopub.execute_input": "2025-04-01T17:39:17.728787Z",
          "iopub.status.busy": "2025-04-01T17:39:17.728324Z",
          "iopub.status.idle": "2025-04-01T17:39:18.875979Z",
          "shell.execute_reply": "2025-04-01T17:39:18.874618Z"
        },
        "id": "F4_wHjhZs-pa",
        "papermill": {
          "duration": 1.154057,
          "end_time": "2025-04-01T17:39:18.878059",
          "exception": false,
          "start_time": "2025-04-01T17:39:17.724002",
          "status": "completed"
        },
        "tags": []
      },
      "outputs": [],
      "source": [
        "import os\n",
        "\n",
        "import numpy as np\n",
        "import pandas as pd\n",
        "import matplotlib.pyplot as plt\n",
        "import random\n",
        "\n",
        "import torch\n",
        "import torch.nn as nn\n",
        "import torch.optim as optim\n",
        "from torch.utils.data import Dataset, DataLoader\n",
        "from torch_geometric.data import Data, Batch\n",
        "import tqdm"
      ]
    },
    {
      "cell_type": "code",
      "execution_count": 14,
      "metadata": {
        "execution": {
          "iopub.execute_input": "2025-04-01T17:39:18.890746Z",
          "iopub.status.busy": "2025-04-01T17:39:18.890075Z",
          "iopub.status.idle": "2025-04-01T17:39:40.968717Z",
          "shell.execute_reply": "2025-04-01T17:39:40.967158Z"
        },
        "id": "09texa_os-pc",
        "papermill": {
          "duration": 22.084222,
          "end_time": "2025-04-01T17:39:40.970631",
          "exception": false,
          "start_time": "2025-04-01T17:39:18.886409",
          "status": "completed"
        },
        "tags": []
      },
      "outputs": [
        {
          "name": "stdout",
          "output_type": "stream",
          "text": [
            "train_data's shape (10000, 50, 110, 6)\n",
            "test_data's shape (2100, 50, 50, 6)\n"
          ]
        }
      ],
      "source": [
        "train_file = np.load('./cse-251-b-2025/train.npz')\n",
        "\n",
        "train_data = train_file['data']\n",
        "print(\"train_data's shape\", train_data.shape)\n",
        "test_file = np.load('./cse-251-b-2025/test_input.npz')\n",
        "\n",
        "test_data = test_file['data']\n",
        "print(\"test_data's shape\", test_data.shape)"
      ]
    },
    {
      "cell_type": "code",
      "execution_count": 15,
      "metadata": {
        "execution": {
          "iopub.execute_input": "2025-04-01T17:39:40.97884Z",
          "iopub.status.busy": "2025-04-01T17:39:40.978362Z",
          "iopub.status.idle": "2025-04-01T17:39:41.323077Z",
          "shell.execute_reply": "2025-04-01T17:39:41.321787Z"
        },
        "id": "ckJbGP_ds-pc",
        "papermill": {
          "duration": 0.351374,
          "end_time": "2025-04-01T17:39:41.325147",
          "exception": false,
          "start_time": "2025-04-01T17:39:40.973773",
          "status": "completed"
        },
        "tags": []
      },
      "outputs": [
        {
          "data": {
            "image/png": "[encoded data removed]",
            "text/plain": [
              "<Figure size 640x480 with 1 Axes>"
            ]
          },
          "metadata": {},
          "output_type": "display_data"
        }
      ],
      "source": [
        "# plot one\n",
        "import matplotlib.pyplot as plt\n",
        "\n",
        "data_matrix = train_data[0]\n",
        "\n",
        "for i in range(data_matrix.shape[0]):\n",
        "    xs = data_matrix[i, :, 0]\n",
        "    ys = data_matrix[i, :, 1]\n",
        "    # trim all zeros\n",
        "    xs = xs[xs != 0]\n",
        "    ys = ys[ys != 0]\n",
        "    # plot each line going from transparent to full\n",
        "    plt.plot(xs, ys)\n",
        "\n",
        "plt.show()"
      ]
    },
    {
      "cell_type": "markdown",
      "metadata": {},
      "source": [
        "# Data Loaders"
      ]
    },
    {
      "cell_type": "code",
      "execution_count": 16,
      "metadata": {},
      "outputs": [],
      "source": [
        "class TrajectoryDatasetTrain(Dataset):\n",
        "    def __init__(self, data, scale=10.0, augment=True):\n",
        "        \"\"\"\n",
        "        data: Shape (N, 50, 110, 6) Training data\n",
        "        scale: Scale for normalization (suggested to use 10.0 for Argoverse 2 data)\n",
        "        augment: Whether to apply data augmentation (only for training)\n",
        "        \"\"\"\n",
        "        self.data = data\n",
        "        self.scale = scale\n",
        "        self.augment = augment\n",
        "\n",
        "    def __len__(self):\n",
        "        return len(self.data)\n",
        "\n",
        "    def __getitem__(self, idx):\n",
        "        scene = self.data[idx]\n",
        "        # Getting 50 historical timestamps and 60 future timestamps\n",
        "        hist = scene[:, :50, :].copy()    # (agents=50, time_seq=50, 6)\n",
        "        future = torch.tensor(scene[0, 50:, 2:4].copy(), dtype=torch.float32)  # (60, 2)\n",
        "        \n",
        "        # Data augmentation(only for training)\n",
        "        if self.augment:\n",
        "            if np.random.rand() < 0.5:\n",
        "                theta = np.random.uniform(-np.pi, np.pi)\n",
        "                R = np.array([[np.cos(theta), -np.sin(theta)],\n",
        "                              [np.sin(theta),  np.cos(theta)]], dtype=np.float32)\n",
        "                # Rotate the historical trajectory and future trajectory\n",
        "                hist[..., :2] = hist[..., :2] @ R\n",
        "                hist[..., 2:4] = hist[..., 2:4] @ R\n",
        "                future = future @ R\n",
        "            if np.random.rand() < 0.5:\n",
        "                hist[..., 0] *= -1\n",
        "                hist[..., 2] *= -1\n",
        "                future[:, 0] *= -1\n",
        "\n",
        "        # Use the last timeframe of the historical trajectory as the origin\n",
        "        origin = hist[0, 49, :2].copy()  # (2,)\n",
        "        hist[..., :2] = hist[..., :2] - origin\n",
        "        # future = future - origin\n",
        "\n",
        "        # Normalize the historical trajectory and future trajectory\n",
        "        hist[..., :4] = hist[..., :4] / self.scale\n",
        "        future = future / self.scale\n",
        "\n",
        "        data_item = Data(\n",
        "            x=torch.tensor(hist, dtype=torch.float32),\n",
        "            y=future.type(torch.float32),\n",
        "            origin=torch.tensor(origin, dtype=torch.float32).unsqueeze(0), # (1,2)\n",
        "            scale=torch.tensor(self.scale, dtype=torch.float32), # scalar e.g. 7.0\n",
        "        )\n",
        "        \n",
        "        # print(f'x: {data_item.x.shape}')\n",
        "        # print(f'y: {data_item.y.shape}')\n",
        "\n",
        "        return data_item\n",
        "    \n",
        "\n",
        "class TrajectoryDatasetTest(Dataset):\n",
        "    def __init__(self, data, scale=10.0):\n",
        "        \"\"\"\n",
        "        data: Shape (N, 50, 110, 6) Testing data\n",
        "        scale: Scale for normalization (suggested to use 10.0 for Argoverse 2 data)\n",
        "        \"\"\"\n",
        "        self.data = data\n",
        "        self.scale = scale\n",
        "\n",
        "    def __len__(self):\n",
        "        return len(self.data)\n",
        "\n",
        "    def __getitem__(self, idx):\n",
        "        # Testing data only contains historical trajectory\n",
        "        scene = self.data[idx]  # (50, 50, 6)\n",
        "        hist = scene.copy()\n",
        "        \n",
        "        origin = hist[0, 49, :2].copy()\n",
        "        hist[..., :2] = hist[..., :2] - origin\n",
        "        hist[..., :4] = hist[..., :4] / self.scale\n",
        "\n",
        "        data_item = Data(\n",
        "            x=torch.tensor(hist, dtype=torch.float32),\n",
        "            origin=torch.tensor(origin, dtype=torch.float32).unsqueeze(0),\n",
        "            scale=torch.tensor(self.scale, dtype=torch.float32),\n",
        "        )\n",
        "        return data_item"
      ]
    },
    {
      "cell_type": "code",
      "execution_count": 17,
      "metadata": {},
      "outputs": [
        {
          "name": "stdout",
          "output_type": "stream",
          "text": [
            "Using Apple Silicon GPU\n"
          ]
        }
      ],
      "source": [
        "torch.manual_seed(251)\n",
        "np.random.seed(42)\n",
        "\n",
        "scale = 7.0\n",
        "\n",
        "N = len(train_data)\n",
        "val_size = int(0.1 * N)\n",
        "train_size = N - val_size\n",
        "\n",
        "train_dataset = TrajectoryDatasetTrain(train_data[:train_size], scale=scale, augment=True)\n",
        "val_dataset = TrajectoryDatasetTrain(train_data[train_size:], scale=scale, augment=False)\n",
        "\n",
        "train_dataloader = DataLoader(train_dataset, batch_size=32, shuffle=True, collate_fn=lambda x: Batch.from_data_list(x))\n",
        "val_dataloader = DataLoader(val_dataset, batch_size=32, shuffle=False, collate_fn=lambda x: Batch.from_data_list(x))\n",
        "\n",
        "# Set device for training speedup\n",
        "if torch.backends.mps.is_available():\n",
        "    device = torch.device('mps')\n",
        "    print(\"Using Apple Silicon GPU\")\n",
        "elif torch.cuda.is_available():\n",
        "    device = torch.device('cuda')\n",
        "    print(\"Using CUDA GPU\")\n",
        "else:\n",
        "    device = torch.device('cpu')"
      ]
    },
    {
      "cell_type": "markdown",
      "metadata": {},
      "source": [
        "# LSTM"
      ]
    },
    {
      "cell_type": "code",
      "execution_count": 23,
      "metadata": {},
      "outputs": [],
      "source": [
        "# Example of basic model that should work\n",
        "class SimpleLSTM(nn.Module):\n",
        "    # 2 layers 9.77 val\n",
        "    def __init__(self, input_dim=5, hidden_dim=512, output_dim=60*2, num_layers=1):\n",
        "        super(SimpleLSTM, self).__init__()\n",
        "        self.ego_encoder = nn.LSTM(input_size=input_dim, hidden_size=hidden_dim, num_layers=num_layers, batch_first=True)\n",
        "        self.neighbor_encoder = nn.LSTM(input_size=input_dim, hidden_size=hidden_dim, num_layers=num_layers, batch_first=True)\n",
        "        \n",
        "        # Add multi-layer prediction head for better results\n",
        "        self.fc1 = nn.Linear(hidden_dim*2, hidden_dim*2)\n",
        "        self.dropout = nn.Dropout(0.1)  # Add dropout for regularization\n",
        "        self.relu = nn.ReLU()\n",
        "        self.fc2 = nn.Linear(hidden_dim*2, output_dim)\n",
        "        \n",
        "        # Initialize weights properly\n",
        "        # for name, param in self.named_parameters():\n",
        "        #     if 'weight' in name:\n",
        "        #         nn.init.xavier_normal_(param)\n",
        "        #     elif 'bias' in name:\n",
        "        #         nn.init.constant_(param, 0.0)\n",
        "        \n",
        "    def forward(self, data):\n",
        "        x = data.x[..., :5]\n",
        "        x = x.reshape(-1, 50, 50, 5)  # (batch_size, num_agents, seq_len, input_dim)\n",
        "        batch_size = x.size(0)\n",
        "        # x = x[:, 0, :, :]  # Only consider ego agent (index 0)\n",
        "        \n",
        "        # EGO AGENT\n",
        "        ego_traj = x[:, 0, :, :]  # (batch, 50, 5)\n",
        "        # Process through LSTM\n",
        "        ego_lstm_out, _ = self.ego_encoder(ego_traj)\n",
        "        # Extract final hidden state\n",
        "        ego_features = ego_lstm_out[:, -1, :]\n",
        "        \n",
        "        # CLOSEST NEIGHBOR\n",
        "        # ---- DISTANCES TO OTHER AGENTS ----\n",
        "        ego_pos = x[:, 0, 49, :2].unsqueeze(1)  # (batch, 1, 2)\n",
        "        agent_pos = x[:, :, 49, :2]  # (batch, 50, 2)\n",
        "        dists = torch.norm(agent_pos - ego_pos, dim=-1)  # (batch, 50)\n",
        "        dists[:, 0] = float('inf')  # mask out ego\n",
        "        \n",
        "        _, neighbor_ids = torch.topk(dists, k=1, dim=1, largest=False)  # (batch, 3)\n",
        "        \n",
        "        # ---- ENCODE NEIGHBORS ----\n",
        "        neighbor_out_list = []\n",
        "\n",
        "        for i in range(1):\n",
        "            idx = neighbor_ids[:, i]  # (batch,)\n",
        "            neighbor_trajs = torch.stack([x[b, idx[b]] for b in range(batch_size)], dim=0)  # (batch, 50, 5)\n",
        "\n",
        "            neighbor_lstm_out, _ = self.neighbor_encoder(neighbor_trajs)  # both: (num_layers, batch, hidden_dim)\n",
        "\n",
        "            neighbor_out_list.append(neighbor_lstm_out[:, -1, :])\n",
        "\n",
        "        # ---- CONCATENATE HIDDEN AND CELL STATES ----\n",
        "        all_features = torch.cat([ego_features] + neighbor_out_list, dim=1)  # (num_layers, batch, hidden_dim * 4)\n",
        "        \n",
        "        # Process through prediction head\n",
        "        features = self.relu(self.fc1(all_features))\n",
        "        features = self.dropout(features)\n",
        "        out = self.fc2(features)\n",
        "        \n",
        "        # Reshape to (batch_size, 60, 2)\n",
        "        return out.view(-1, 60, 2)"
      ]
    },
    {
      "cell_type": "markdown",
      "metadata": {},
      "source": [
        "# Train"
      ]
    },
    {
      "cell_type": "code",
      "execution_count": 24,
      "metadata": {},
      "outputs": [],
      "source": [
        "def train_improved_model(model, train_dataloader, val_dataloader, \n",
        "                         device, criterion=nn.MSELoss(), \n",
        "                         lr=0.001, epochs=100, patience=15):\n",
        "    \"\"\"\n",
        "    Improved training function with better debugging and early stopping\n",
        "    \"\"\"\n",
        "    # Initialize optimizer with smaller learning rate\n",
        "    optimizer = torch.optim.Adam(model.parameters(), lr=lr)\n",
        "    \n",
        "    # Exponential decay scheduler\n",
        "    scheduler = torch.optim.lr_scheduler.ExponentialLR(optimizer, gamma=0.95)\n",
        "    \n",
        "    early_stopping_patience = patience\n",
        "    best_val_loss = float('inf')\n",
        "    no_improvement = 0\n",
        "    \n",
        "    # Save initial state for comparison\n",
        "    initial_state_dict = {k: v.clone() for k, v in model.state_dict().items()}\n",
        "    \n",
        "    for epoch in tqdm.tqdm(range(epochs), desc=\"Epoch\", unit=\"epoch\"):\n",
        "        # ---- Training ----\n",
        "        model.train()\n",
        "        train_loss = 0\n",
        "        num_train_batches = 0\n",
        "        \n",
        "        for batch in train_dataloader:\n",
        "            batch = batch.to(device)\n",
        "            pred = model(batch)\n",
        "            y = batch.y.view(batch.num_graphs, 60, 2)\n",
        "            \n",
        "            # Check for NaN predictions\n",
        "            if torch.isnan(pred).any():\n",
        "                print(f\"WARNING: NaN detected in predictions during training\")\n",
        "                continue\n",
        "                \n",
        "            loss = criterion(pred, y)\n",
        "            \n",
        "            # Check if loss is valid\n",
        "            if torch.isnan(loss) or torch.isinf(loss):\n",
        "                print(f\"WARNING: Invalid loss value: {loss.item()}\")\n",
        "                continue\n",
        "                \n",
        "            optimizer.zero_grad()\n",
        "            loss.backward()\n",
        "            \n",
        "            # More conservative gradient clipping\n",
        "            torch.nn.utils.clip_grad_norm_(model.parameters(), 1.0)\n",
        "            \n",
        "            optimizer.step()\n",
        "            train_loss += loss.item()\n",
        "            num_train_batches += 1\n",
        "        \n",
        "        # Skip epoch if no valid batches\n",
        "        if num_train_batches == 0:\n",
        "            print(\"WARNING: No valid training batches in this epoch\")\n",
        "            continue\n",
        "            \n",
        "        train_loss /= num_train_batches\n",
        "        \n",
        "        # ---- Validation ----\n",
        "        model.eval()\n",
        "        val_loss = 0\n",
        "        val_mae = 0\n",
        "        val_mse = 0\n",
        "        num_val_batches = 0\n",
        "        \n",
        "        # Sample predictions for debugging\n",
        "        sample_input = None\n",
        "        sample_pred = None\n",
        "        sample_target = None\n",
        "        \n",
        "        with torch.no_grad():\n",
        "            for batch_idx, batch in enumerate(val_dataloader):\n",
        "                batch = batch.to(device)\n",
        "                pred = model(batch)\n",
        "                y = batch.y.view(batch.num_graphs, 60, 2)\n",
        "                \n",
        "                # Store sample for debugging\n",
        "                if batch_idx == 0 and sample_input is None:\n",
        "                    sample_input = batch.x[0].cpu().numpy()\n",
        "                    sample_pred = pred[0].cpu().numpy()\n",
        "                    sample_target = y[0].cpu().numpy()\n",
        "                \n",
        "                # Skip invalid predictions\n",
        "                if torch.isnan(pred).any():\n",
        "                    print(f\"WARNING: NaN detected in predictions during validation\")\n",
        "                    continue\n",
        "                    \n",
        "                batch_loss = criterion(pred, y).item()\n",
        "                val_loss += batch_loss\n",
        "                \n",
        "                # Unnormalize for real-world metrics\n",
        "                pred_unnorm = pred * batch.scale.view(-1, 1, 1)\n",
        "                y_unnorm = y * batch.scale.view(-1, 1, 1)\n",
        "                \n",
        "                val_mae += nn.L1Loss()(pred_unnorm, y_unnorm).item()\n",
        "                val_mse += nn.MSELoss()(pred_unnorm, y_unnorm).item()\n",
        "                \n",
        "                num_val_batches += 1\n",
        "        \n",
        "        # Skip epoch if no valid validation batches\n",
        "        if num_val_batches == 0:\n",
        "            print(\"WARNING: No valid validation batches in this epoch\")\n",
        "            continue\n",
        "            \n",
        "        val_loss /= num_val_batches\n",
        "        val_mae /= num_val_batches\n",
        "        val_mse /= num_val_batches\n",
        "        \n",
        "        # Update learning rate\n",
        "        scheduler.step()\n",
        "        \n",
        "        # Print with more details\n",
        "        tqdm.tqdm.write(\n",
        "            f\"Epoch {epoch:03d} | LR {optimizer.param_groups[0]['lr']:.6f} | \"\n",
        "            f\"Train MSE {train_loss:.4f} | Val MSE {val_loss:.4f} | \"\n",
        "            f\"Val MAE {val_mae:.4f} | Val MSE {val_mse:.4f}\"\n",
        "        )\n",
        "        \n",
        "        # Debug output - first 3 predictions vs targets\n",
        "        if epoch % 5 == 0:\n",
        "            tqdm.tqdm.write(f\"Sample pred first 3 steps: {sample_pred[:3]}\")\n",
        "            tqdm.tqdm.write(f\"Sample target first 3 steps: {sample_target[:3]}\")\n",
        "            \n",
        "            # Check if model weights are changing\n",
        "            if epoch > 0:\n",
        "                weight_change = False\n",
        "                for name, param in model.named_parameters():\n",
        "                    if param.requires_grad:\n",
        "                        initial_param = initial_state_dict[name]\n",
        "                        if not torch.allclose(param, initial_param, rtol=1e-4):\n",
        "                            weight_change = True\n",
        "                            break\n",
        "                if not weight_change:\n",
        "                    tqdm.tqdm.write(\"WARNING: Model weights barely changing!\")\n",
        "        \n",
        "        # Relaxed improvement criterion - consider any improvement\n",
        "        if val_loss < best_val_loss:\n",
        "            tqdm.tqdm.write(f\"Validation improved: {best_val_loss:.6f} -> {val_loss:.6f}\")\n",
        "            best_val_loss = val_loss\n",
        "            no_improvement = 0\n",
        "            torch.save(model.state_dict(), best_model)\n",
        "        else:\n",
        "            no_improvement += 1\n",
        "            if no_improvement >= early_stopping_patience:\n",
        "                print(f\"Early stopping after {epoch+1} epochs without improvement\")\n",
        "                break\n",
        "    \n",
        "    # Load best model before returning\n",
        "    model.load_state_dict(torch.load(best_model))\n",
        "    return model"
      ]
    },
    {
      "cell_type": "code",
      "execution_count": 27,
      "metadata": {},
      "outputs": [],
      "source": [
        "# Example usage\n",
        "def train_and_evaluate_model():\n",
        "    # Create model\n",
        "    model = SimpleLSTM()\n",
        "    model = model.to(device)\n",
        "    \n",
        "    # Train with improved function\n",
        "    train_improved_model(\n",
        "        model=model,\n",
        "        train_dataloader=train_dataloader,\n",
        "        val_dataloader=val_dataloader,\n",
        "        device=device,\n",
        "        # lr = 0.007 => 8.946\n",
        "        lr=0.005,  # Lower learning rate\n",
        "        patience=20,  # More patience\n",
        "        epochs=150\n",
        "    )\n",
        "    \n",
        "    # Evaluate\n",
        "    model.eval()\n",
        "    test_mse = 0\n",
        "    with torch.no_grad():\n",
        "        for batch in val_dataloader:\n",
        "            batch = batch.to(device)\n",
        "            pred = model(batch)\n",
        "            y = batch.y.view(batch.num_graphs, 60, 2)\n",
        "            \n",
        "            # Unnormalize\n",
        "            pred = pred * batch.scale.view(-1, 1, 1)\n",
        "            y = y * batch.scale.view(-1, 1, 1)\n",
        "            \n",
        "            test_mse += nn.MSELoss()(pred, y).item()\n",
        "    \n",
        "    test_mse /= len(val_dataloader)\n",
        "    print(f\"Val MSE: {test_mse:.4f}\")\n",
        "    \n",
        "    return model"
      ]
    },
    {
      "cell_type": "code",
      "execution_count": 28,
      "metadata": {},
      "outputs": [
        {
          "name": "stderr",
          "output_type": "stream",
          "text": [
            "Epoch:   0%|          | 0/150 [00:00<?, ?epoch/s]/var/folders/w3/lr66s56958q3881y1btpylth0000gn/T/ipykernel_2003/1407810273.py:30: DeprecationWarning: __array_wrap__ must accept context and return_scalar arguments (positionally) in the future. (Deprecated NumPy 2.0)\n",
            "  future = future @ R\n",
            "Epoch:   1%|          | 1/150 [00:32<1:20:04, 32.24s/epoch]"
          ]
        },
        {
          "name": "stdout",
          "output_type": "stream",
          "text": [
            "Epoch 000 | LR 0.004750 | Train MSE 0.8328 | Val MSE 0.0841 | Val MAE 1.3813 | Val MSE 4.1215\n",
            "Sample pred first 3 steps: [[-0.02735776 -0.09875301]\n",
            " [-0.02192179 -0.09730278]\n",
            " [-0.02735442 -0.10102975]]\n",
            "Sample target first 3 steps: [[-1.0263214e-05  5.1069769e-06]\n",
            " [-8.2099714e-06  2.6287930e-06]\n",
            " [ 1.4959690e-05 -1.9491419e-05]]\n",
            "Validation improved: inf -> 0.084112\n"
          ]
        },
        {
          "name": "stderr",
          "output_type": "stream",
          "text": [
            "Epoch:   1%|▏         | 2/150 [01:02<1:16:14, 30.91s/epoch]"
          ]
        },
        {
          "name": "stdout",
          "output_type": "stream",
          "text": [
            "Epoch 001 | LR 0.004513 | Train MSE 0.1061 | Val MSE 0.0876 | Val MAE 1.4865 | Val MSE 4.2943\n"
          ]
        },
        {
          "name": "stderr",
          "output_type": "stream",
          "text": [
            "Epoch:   2%|▏         | 3/150 [01:32<1:14:37, 30.46s/epoch]"
          ]
        },
        {
          "name": "stdout",
          "output_type": "stream",
          "text": [
            "Epoch 002 | LR 0.004287 | Train MSE 0.0940 | Val MSE 0.0726 | Val MAE 1.2855 | Val MSE 3.5570\n",
            "Validation improved: 0.084112 -> 0.072591\n"
          ]
        },
        {
          "name": "stderr",
          "output_type": "stream",
          "text": [
            "Epoch:   3%|▎         | 4/150 [02:02<1:13:41, 30.29s/epoch]"
          ]
        },
        {
          "name": "stdout",
          "output_type": "stream",
          "text": [
            "Epoch 003 | LR 0.004073 | Train MSE 0.0856 | Val MSE 0.0546 | Val MAE 1.0437 | Val MSE 2.6746\n",
            "Validation improved: 0.072591 -> 0.054584\n"
          ]
        },
        {
          "name": "stderr",
          "output_type": "stream",
          "text": [
            "Epoch:   3%|▎         | 5/150 [02:31<1:12:44, 30.10s/epoch]"
          ]
        },
        {
          "name": "stdout",
          "output_type": "stream",
          "text": [
            "Epoch 004 | LR 0.003869 | Train MSE 0.0809 | Val MSE 0.0527 | Val MAE 0.9939 | Val MSE 2.5807\n",
            "Validation improved: 0.054584 -> 0.052667\n"
          ]
        },
        {
          "name": "stderr",
          "output_type": "stream",
          "text": [
            "Epoch:   4%|▍         | 6/150 [03:02<1:12:19, 30.13s/epoch]"
          ]
        },
        {
          "name": "stdout",
          "output_type": "stream",
          "text": [
            "Epoch 005 | LR 0.003675 | Train MSE 0.0829 | Val MSE 0.0563 | Val MAE 1.0697 | Val MSE 2.7580\n",
            "Sample pred first 3 steps: [[0.0217641  0.07270833]\n",
            " [0.0226773  0.07311898]\n",
            " [0.0234639  0.07362744]]\n",
            "Sample target first 3 steps: [[-1.0263214e-05  5.1069769e-06]\n",
            " [-8.2099714e-06  2.6287930e-06]\n",
            " [ 1.4959690e-05 -1.9491419e-05]]\n"
          ]
        },
        {
          "name": "stderr",
          "output_type": "stream",
          "text": [
            "Epoch:   5%|▍         | 7/150 [03:32<1:11:45, 30.11s/epoch]"
          ]
        },
        {
          "name": "stdout",
          "output_type": "stream",
          "text": [
            "Epoch 006 | LR 0.003492 | Train MSE 0.0815 | Val MSE 0.0502 | Val MAE 0.9534 | Val MSE 2.4619\n",
            "Validation improved: 0.052667 -> 0.050243\n"
          ]
        },
        {
          "name": "stderr",
          "output_type": "stream",
          "text": [
            "Epoch:   5%|▌         | 8/150 [04:02<1:11:08, 30.06s/epoch]"
          ]
        },
        {
          "name": "stdout",
          "output_type": "stream",
          "text": [
            "Epoch 007 | LR 0.003317 | Train MSE 0.0760 | Val MSE 0.0560 | Val MAE 1.0920 | Val MSE 2.7450\n"
          ]
        },
        {
          "name": "stderr",
          "output_type": "stream",
          "text": [
            "Epoch:   6%|▌         | 9/150 [04:31<1:10:24, 29.96s/epoch]"
          ]
        },
        {
          "name": "stdout",
          "output_type": "stream",
          "text": [
            "Epoch 008 | LR 0.003151 | Train MSE 0.0861 | Val MSE 0.0560 | Val MAE 1.1831 | Val MSE 2.7460\n"
          ]
        },
        {
          "name": "stderr",
          "output_type": "stream",
          "text": [
            "Epoch:   7%|▋         | 10/150 [05:02<1:10:12, 30.09s/epoch]"
          ]
        },
        {
          "name": "stdout",
          "output_type": "stream",
          "text": [
            "Epoch 009 | LR 0.002994 | Train MSE 0.0764 | Val MSE 0.0470 | Val MAE 0.9041 | Val MSE 2.3022\n",
            "Validation improved: 0.050243 -> 0.046984\n"
          ]
        },
        {
          "name": "stderr",
          "output_type": "stream",
          "text": [
            "Epoch:   7%|▋         | 11/150 [05:31<1:09:27, 29.98s/epoch]"
          ]
        },
        {
          "name": "stdout",
          "output_type": "stream",
          "text": [
            "Epoch 010 | LR 0.002844 | Train MSE 0.0729 | Val MSE 0.0508 | Val MAE 0.9815 | Val MSE 2.4889\n",
            "Sample pred first 3 steps: [[0.05241035 0.02489687]\n",
            " [0.05238713 0.0248609 ]\n",
            " [0.0531923  0.02577305]]\n",
            "Sample target first 3 steps: [[-1.0263214e-05  5.1069769e-06]\n",
            " [-8.2099714e-06  2.6287930e-06]\n",
            " [ 1.4959690e-05 -1.9491419e-05]]\n"
          ]
        },
        {
          "name": "stderr",
          "output_type": "stream",
          "text": [
            "Epoch:   8%|▊         | 12/150 [06:01<1:08:53, 29.95s/epoch]"
          ]
        },
        {
          "name": "stdout",
          "output_type": "stream",
          "text": [
            "Epoch 011 | LR 0.002702 | Train MSE 0.0706 | Val MSE 0.0473 | Val MAE 0.9143 | Val MSE 2.3158\n"
          ]
        },
        {
          "name": "stderr",
          "output_type": "stream",
          "text": [
            "Epoch:   9%|▊         | 13/150 [06:32<1:08:40, 30.08s/epoch]"
          ]
        },
        {
          "name": "stdout",
          "output_type": "stream",
          "text": [
            "Epoch 012 | LR 0.002567 | Train MSE 0.0685 | Val MSE 0.0454 | Val MAE 0.8696 | Val MSE 2.2255\n",
            "Validation improved: 0.046984 -> 0.045418\n"
          ]
        },
        {
          "name": "stderr",
          "output_type": "stream",
          "text": [
            "Epoch:   9%|▉         | 14/150 [07:02<1:08:09, 30.07s/epoch]"
          ]
        },
        {
          "name": "stdout",
          "output_type": "stream",
          "text": [
            "Epoch 013 | LR 0.002438 | Train MSE 0.0699 | Val MSE 0.0494 | Val MAE 0.9759 | Val MSE 2.4217\n"
          ]
        },
        {
          "name": "stderr",
          "output_type": "stream",
          "text": [
            "Epoch:  10%|█         | 15/150 [07:32<1:07:58, 30.21s/epoch]"
          ]
        },
        {
          "name": "stdout",
          "output_type": "stream",
          "text": [
            "Epoch 014 | LR 0.002316 | Train MSE 0.0662 | Val MSE 0.0500 | Val MAE 1.0561 | Val MSE 2.4480\n"
          ]
        },
        {
          "name": "stderr",
          "output_type": "stream",
          "text": [
            "Epoch:  11%|█         | 16/150 [08:03<1:07:39, 30.30s/epoch]"
          ]
        },
        {
          "name": "stdout",
          "output_type": "stream",
          "text": [
            "Epoch 015 | LR 0.002201 | Train MSE 0.0634 | Val MSE 0.0416 | Val MAE 0.8467 | Val MSE 2.0373\n",
            "Sample pred first 3 steps: [[0.02535004 0.04988671]\n",
            " [0.02554228 0.04942827]\n",
            " [0.02527672 0.04895309]]\n",
            "Sample target first 3 steps: [[-1.0263214e-05  5.1069769e-06]\n",
            " [-8.2099714e-06  2.6287930e-06]\n",
            " [ 1.4959690e-05 -1.9491419e-05]]\n",
            "Validation improved: 0.045418 -> 0.041578\n"
          ]
        },
        {
          "name": "stderr",
          "output_type": "stream",
          "text": [
            "Epoch:  11%|█▏        | 17/150 [08:34<1:07:31, 30.46s/epoch]"
          ]
        },
        {
          "name": "stdout",
          "output_type": "stream",
          "text": [
            "Epoch 016 | LR 0.002091 | Train MSE 0.0616 | Val MSE 0.0434 | Val MAE 0.8717 | Val MSE 2.1250\n"
          ]
        },
        {
          "name": "stderr",
          "output_type": "stream",
          "text": [
            "Epoch:  12%|█▏        | 18/150 [09:06<1:08:18, 31.05s/epoch]"
          ]
        },
        {
          "name": "stdout",
          "output_type": "stream",
          "text": [
            "Epoch 017 | LR 0.001986 | Train MSE 0.0655 | Val MSE 0.0424 | Val MAE 0.9012 | Val MSE 2.0754\n"
          ]
        },
        {
          "name": "stderr",
          "output_type": "stream",
          "text": [
            "Epoch:  13%|█▎        | 19/150 [09:37<1:07:29, 30.91s/epoch]"
          ]
        },
        {
          "name": "stdout",
          "output_type": "stream",
          "text": [
            "Epoch 018 | LR 0.001887 | Train MSE 0.0598 | Val MSE 0.0412 | Val MAE 0.8649 | Val MSE 2.0185\n",
            "Validation improved: 0.041578 -> 0.041195\n"
          ]
        },
        {
          "name": "stderr",
          "output_type": "stream",
          "text": [
            "Epoch:  13%|█▎        | 20/150 [10:07<1:06:52, 30.86s/epoch]"
          ]
        },
        {
          "name": "stdout",
          "output_type": "stream",
          "text": [
            "Epoch 019 | LR 0.001792 | Train MSE 0.0643 | Val MSE 0.0414 | Val MAE 0.8696 | Val MSE 2.0282\n"
          ]
        },
        {
          "name": "stderr",
          "output_type": "stream",
          "text": [
            "Epoch:  14%|█▍        | 21/150 [10:37<1:05:30, 30.47s/epoch]"
          ]
        },
        {
          "name": "stdout",
          "output_type": "stream",
          "text": [
            "Epoch 020 | LR 0.001703 | Train MSE 0.0569 | Val MSE 0.0404 | Val MAE 0.8384 | Val MSE 1.9785\n",
            "Sample pred first 3 steps: [[-0.02787732 -0.00766414]\n",
            " [-0.02802666 -0.00698289]\n",
            " [-0.02823436 -0.00593945]]\n",
            "Sample target first 3 steps: [[-1.0263214e-05  5.1069769e-06]\n",
            " [-8.2099714e-06  2.6287930e-06]\n",
            " [ 1.4959690e-05 -1.9491419e-05]]\n",
            "Validation improved: 0.041195 -> 0.040378\n"
          ]
        },
        {
          "name": "stderr",
          "output_type": "stream",
          "text": [
            "Epoch:  15%|█▍        | 22/150 [11:07<1:04:30, 30.24s/epoch]"
          ]
        },
        {
          "name": "stdout",
          "output_type": "stream",
          "text": [
            "Epoch 021 | LR 0.001618 | Train MSE 0.0553 | Val MSE 0.0428 | Val MAE 0.9336 | Val MSE 2.0967\n"
          ]
        },
        {
          "name": "stderr",
          "output_type": "stream",
          "text": [
            "Epoch:  15%|█▌        | 23/150 [11:38<1:04:23, 30.42s/epoch]"
          ]
        },
        {
          "name": "stdout",
          "output_type": "stream",
          "text": [
            "Epoch 022 | LR 0.001537 | Train MSE 0.0541 | Val MSE 0.0398 | Val MAE 0.8501 | Val MSE 1.9481\n",
            "Validation improved: 0.040378 -> 0.039758\n"
          ]
        },
        {
          "name": "stderr",
          "output_type": "stream",
          "text": [
            "Epoch:  16%|█▌        | 24/150 [12:08<1:03:47, 30.37s/epoch]"
          ]
        },
        {
          "name": "stdout",
          "output_type": "stream",
          "text": [
            "Epoch 023 | LR 0.001460 | Train MSE 0.0538 | Val MSE 0.0399 | Val MAE 0.8470 | Val MSE 1.9549\n"
          ]
        },
        {
          "name": "stderr",
          "output_type": "stream",
          "text": [
            "Epoch:  17%|█▋        | 25/150 [12:37<1:02:19, 29.92s/epoch]"
          ]
        },
        {
          "name": "stdout",
          "output_type": "stream",
          "text": [
            "Epoch 024 | LR 0.001387 | Train MSE 0.0530 | Val MSE 0.0396 | Val MAE 0.8196 | Val MSE 1.9388\n",
            "Validation improved: 0.039758 -> 0.039566\n"
          ]
        },
        {
          "name": "stderr",
          "output_type": "stream",
          "text": [
            "Epoch:  17%|█▋        | 26/150 [13:06<1:01:41, 29.85s/epoch]"
          ]
        },
        {
          "name": "stdout",
          "output_type": "stream",
          "text": [
            "Epoch 025 | LR 0.001318 | Train MSE 0.0523 | Val MSE 0.0376 | Val MAE 0.7687 | Val MSE 1.8421\n",
            "Sample pred first 3 steps: [[ 0.00634578 -0.00158909]\n",
            " [ 0.00625383  0.00056327]\n",
            " [ 0.00638815  0.00270657]]\n",
            "Sample target first 3 steps: [[-1.0263214e-05  5.1069769e-06]\n",
            " [-8.2099714e-06  2.6287930e-06]\n",
            " [ 1.4959690e-05 -1.9491419e-05]]\n",
            "Validation improved: 0.039566 -> 0.037593\n"
          ]
        },
        {
          "name": "stderr",
          "output_type": "stream",
          "text": [
            "Epoch:  18%|█▊        | 27/150 [13:37<1:01:37, 30.06s/epoch]"
          ]
        },
        {
          "name": "stdout",
          "output_type": "stream",
          "text": [
            "Epoch 026 | LR 0.001252 | Train MSE 0.0527 | Val MSE 0.0380 | Val MAE 0.7991 | Val MSE 1.8624\n"
          ]
        },
        {
          "name": "stderr",
          "output_type": "stream",
          "text": [
            "Epoch:  19%|█▊        | 28/150 [14:06<1:00:25, 29.72s/epoch]"
          ]
        },
        {
          "name": "stdout",
          "output_type": "stream",
          "text": [
            "Epoch 027 | LR 0.001189 | Train MSE 0.0520 | Val MSE 0.0375 | Val MAE 0.7640 | Val MSE 1.8387\n",
            "Validation improved: 0.037593 -> 0.037524\n"
          ]
        },
        {
          "name": "stderr",
          "output_type": "stream",
          "text": [
            "Epoch:  19%|█▉        | 29/150 [14:37<1:00:58, 30.23s/epoch]"
          ]
        },
        {
          "name": "stdout",
          "output_type": "stream",
          "text": [
            "Epoch 028 | LR 0.001130 | Train MSE 0.0535 | Val MSE 0.0378 | Val MAE 0.7735 | Val MSE 1.8501\n"
          ]
        },
        {
          "name": "stderr",
          "output_type": "stream",
          "text": [
            "Epoch:  20%|██        | 30/150 [15:09<1:01:24, 30.71s/epoch]"
          ]
        },
        {
          "name": "stdout",
          "output_type": "stream",
          "text": [
            "Epoch 029 | LR 0.001073 | Train MSE 0.0498 | Val MSE 0.0372 | Val MAE 0.7675 | Val MSE 1.8215\n",
            "Validation improved: 0.037524 -> 0.037174\n"
          ]
        },
        {
          "name": "stderr",
          "output_type": "stream",
          "text": [
            "Epoch:  21%|██        | 31/150 [15:41<1:01:19, 30.92s/epoch]"
          ]
        },
        {
          "name": "stdout",
          "output_type": "stream",
          "text": [
            "Epoch 030 | LR 0.001020 | Train MSE 0.0521 | Val MSE 0.0386 | Val MAE 0.7850 | Val MSE 1.8917\n",
            "Sample pred first 3 steps: [[ 0.01080996 -0.01261113]\n",
            " [ 0.01024386 -0.01157063]\n",
            " [ 0.00979882 -0.01066115]]\n",
            "Sample target first 3 steps: [[-1.0263214e-05  5.1069769e-06]\n",
            " [-8.2099714e-06  2.6287930e-06]\n",
            " [ 1.4959690e-05 -1.9491419e-05]]\n"
          ]
        },
        {
          "name": "stderr",
          "output_type": "stream",
          "text": [
            "Epoch:  21%|██▏       | 32/150 [16:13<1:01:39, 31.35s/epoch]"
          ]
        },
        {
          "name": "stdout",
          "output_type": "stream",
          "text": [
            "Epoch 031 | LR 0.000969 | Train MSE 0.0503 | Val MSE 0.0377 | Val MAE 0.7783 | Val MSE 1.8460\n"
          ]
        },
        {
          "name": "stderr",
          "output_type": "stream",
          "text": [
            "Epoch:  22%|██▏       | 33/150 [16:44<1:01:13, 31.40s/epoch]"
          ]
        },
        {
          "name": "stdout",
          "output_type": "stream",
          "text": [
            "Epoch 032 | LR 0.000920 | Train MSE 0.0498 | Val MSE 0.0379 | Val MAE 0.7984 | Val MSE 1.8574\n"
          ]
        },
        {
          "name": "stderr",
          "output_type": "stream",
          "text": [
            "Epoch:  23%|██▎       | 34/150 [17:15<1:00:12, 31.14s/epoch]"
          ]
        },
        {
          "name": "stdout",
          "output_type": "stream",
          "text": [
            "Epoch 033 | LR 0.000874 | Train MSE 0.0497 | Val MSE 0.0385 | Val MAE 0.7940 | Val MSE 1.8849\n"
          ]
        },
        {
          "name": "stderr",
          "output_type": "stream",
          "text": [
            "Epoch:  23%|██▎       | 35/150 [17:45<59:21, 30.97s/epoch]  "
          ]
        },
        {
          "name": "stdout",
          "output_type": "stream",
          "text": [
            "Epoch 034 | LR 0.000830 | Train MSE 0.0530 | Val MSE 0.0372 | Val MAE 0.7668 | Val MSE 1.8235\n"
          ]
        },
        {
          "name": "stderr",
          "output_type": "stream",
          "text": [
            "Epoch:  24%|██▍       | 36/150 [18:17<59:10, 31.14s/epoch]"
          ]
        },
        {
          "name": "stdout",
          "output_type": "stream",
          "text": [
            "Epoch 035 | LR 0.000789 | Train MSE 0.0487 | Val MSE 0.0377 | Val MAE 0.7985 | Val MSE 1.8480\n",
            "Sample pred first 3 steps: [[ 0.025406   -0.00246074]\n",
            " [ 0.02706479 -0.00197148]\n",
            " [ 0.02849822 -0.00120786]]\n",
            "Sample target first 3 steps: [[-1.0263214e-05  5.1069769e-06]\n",
            " [-8.2099714e-06  2.6287930e-06]\n",
            " [ 1.4959690e-05 -1.9491419e-05]]\n"
          ]
        },
        {
          "name": "stderr",
          "output_type": "stream",
          "text": [
            "Epoch:  25%|██▍       | 37/150 [18:49<58:53, 31.27s/epoch]"
          ]
        },
        {
          "name": "stdout",
          "output_type": "stream",
          "text": [
            "Epoch 036 | LR 0.000749 | Train MSE 0.0488 | Val MSE 0.0371 | Val MAE 0.7744 | Val MSE 1.8162\n",
            "Validation improved: 0.037174 -> 0.037066\n"
          ]
        },
        {
          "name": "stderr",
          "output_type": "stream",
          "text": [
            "Epoch:  25%|██▌       | 38/150 [19:21<59:06, 31.67s/epoch]"
          ]
        },
        {
          "name": "stdout",
          "output_type": "stream",
          "text": [
            "Epoch 037 | LR 0.000712 | Train MSE 0.0482 | Val MSE 0.0380 | Val MAE 0.7886 | Val MSE 1.8616\n"
          ]
        },
        {
          "name": "stderr",
          "output_type": "stream",
          "text": [
            "Epoch:  26%|██▌       | 39/150 [19:52<57:52, 31.28s/epoch]"
          ]
        },
        {
          "name": "stdout",
          "output_type": "stream",
          "text": [
            "Epoch 038 | LR 0.000676 | Train MSE 0.0483 | Val MSE 0.0370 | Val MAE 0.7756 | Val MSE 1.8113\n",
            "Validation improved: 0.037066 -> 0.036966\n"
          ]
        },
        {
          "name": "stderr",
          "output_type": "stream",
          "text": [
            "Epoch:  27%|██▋       | 40/150 [20:23<57:33, 31.39s/epoch]"
          ]
        },
        {
          "name": "stdout",
          "output_type": "stream",
          "text": [
            "Epoch 039 | LR 0.000643 | Train MSE 0.0479 | Val MSE 0.0373 | Val MAE 0.7725 | Val MSE 1.8282\n"
          ]
        },
        {
          "name": "stderr",
          "output_type": "stream",
          "text": [
            "Epoch:  27%|██▋       | 41/150 [20:55<57:12, 31.49s/epoch]"
          ]
        },
        {
          "name": "stdout",
          "output_type": "stream",
          "text": [
            "Epoch 040 | LR 0.000610 | Train MSE 0.0473 | Val MSE 0.0371 | Val MAE 0.7728 | Val MSE 1.8163\n",
            "Sample pred first 3 steps: [[ 0.00065319  0.00607715]\n",
            " [-0.00043364  0.00716155]\n",
            " [-0.00142655  0.00803228]]\n",
            "Sample target first 3 steps: [[-1.0263214e-05  5.1069769e-06]\n",
            " [-8.2099714e-06  2.6287930e-06]\n",
            " [ 1.4959690e-05 -1.9491419e-05]]\n"
          ]
        },
        {
          "name": "stderr",
          "output_type": "stream",
          "text": [
            "Epoch:  28%|██▊       | 42/150 [21:26<56:32, 31.41s/epoch]"
          ]
        },
        {
          "name": "stdout",
          "output_type": "stream",
          "text": [
            "Epoch 041 | LR 0.000580 | Train MSE 0.0479 | Val MSE 0.0361 | Val MAE 0.7511 | Val MSE 1.7706\n",
            "Validation improved: 0.036966 -> 0.036136\n"
          ]
        },
        {
          "name": "stderr",
          "output_type": "stream",
          "text": [
            "Epoch:  29%|██▊       | 43/150 [21:57<55:57, 31.37s/epoch]"
          ]
        },
        {
          "name": "stdout",
          "output_type": "stream",
          "text": [
            "Epoch 042 | LR 0.000551 | Train MSE 0.0473 | Val MSE 0.0359 | Val MAE 0.7466 | Val MSE 1.7571\n",
            "Validation improved: 0.036136 -> 0.035860\n"
          ]
        },
        {
          "name": "stderr",
          "output_type": "stream",
          "text": [
            "Epoch:  29%|██▉       | 44/150 [22:29<55:31, 31.43s/epoch]"
          ]
        },
        {
          "name": "stdout",
          "output_type": "stream",
          "text": [
            "Epoch 043 | LR 0.000523 | Train MSE 0.0477 | Val MSE 0.0393 | Val MAE 0.8239 | Val MSE 1.9277\n"
          ]
        },
        {
          "name": "stderr",
          "output_type": "stream",
          "text": [
            "Epoch:  30%|███       | 45/150 [23:01<55:28, 31.70s/epoch]"
          ]
        },
        {
          "name": "stdout",
          "output_type": "stream",
          "text": [
            "Epoch 044 | LR 0.000497 | Train MSE 0.0479 | Val MSE 0.0364 | Val MAE 0.7475 | Val MSE 1.7814\n"
          ]
        },
        {
          "name": "stderr",
          "output_type": "stream",
          "text": [
            "Epoch:  31%|███       | 46/150 [23:33<54:44, 31.58s/epoch]"
          ]
        },
        {
          "name": "stdout",
          "output_type": "stream",
          "text": [
            "Epoch 045 | LR 0.000472 | Train MSE 0.0470 | Val MSE 0.0364 | Val MAE 0.7781 | Val MSE 1.7838\n",
            "Sample pred first 3 steps: [[ 0.03142744 -0.0031809 ]\n",
            " [ 0.03187694 -0.0031498 ]\n",
            " [ 0.03186364 -0.00282051]]\n",
            "Sample target first 3 steps: [[-1.0263214e-05  5.1069769e-06]\n",
            " [-8.2099714e-06  2.6287930e-06]\n",
            " [ 1.4959690e-05 -1.9491419e-05]]\n"
          ]
        },
        {
          "name": "stderr",
          "output_type": "stream",
          "text": [
            "Epoch:  31%|███▏      | 47/150 [24:08<55:58, 32.61s/epoch]"
          ]
        },
        {
          "name": "stdout",
          "output_type": "stream",
          "text": [
            "Epoch 046 | LR 0.000449 | Train MSE 0.0471 | Val MSE 0.0364 | Val MAE 0.7496 | Val MSE 1.7825\n"
          ]
        },
        {
          "name": "stderr",
          "output_type": "stream",
          "text": [
            "Epoch:  32%|███▏      | 48/150 [24:43<56:36, 33.30s/epoch]"
          ]
        },
        {
          "name": "stdout",
          "output_type": "stream",
          "text": [
            "Epoch 047 | LR 0.000426 | Train MSE 0.0474 | Val MSE 0.0368 | Val MAE 0.7764 | Val MSE 1.8021\n"
          ]
        },
        {
          "name": "stderr",
          "output_type": "stream",
          "text": [
            "Epoch:  33%|███▎      | 49/150 [25:17<56:26, 33.53s/epoch]"
          ]
        },
        {
          "name": "stdout",
          "output_type": "stream",
          "text": [
            "Epoch 048 | LR 0.000405 | Train MSE 0.0465 | Val MSE 0.0384 | Val MAE 0.8176 | Val MSE 1.8803\n"
          ]
        },
        {
          "name": "stderr",
          "output_type": "stream",
          "text": [
            "Epoch:  33%|███▎      | 50/150 [25:53<57:08, 34.28s/epoch]"
          ]
        },
        {
          "name": "stdout",
          "output_type": "stream",
          "text": [
            "Epoch 049 | LR 0.000385 | Train MSE 0.0469 | Val MSE 0.0360 | Val MAE 0.7519 | Val MSE 1.7629\n"
          ]
        },
        {
          "name": "stderr",
          "output_type": "stream",
          "text": [
            "Epoch:  34%|███▍      | 51/150 [26:27<56:31, 34.26s/epoch]"
          ]
        },
        {
          "name": "stdout",
          "output_type": "stream",
          "text": [
            "Epoch 050 | LR 0.000365 | Train MSE 0.0461 | Val MSE 0.0354 | Val MAE 0.7344 | Val MSE 1.7337\n",
            "Sample pred first 3 steps: [[-0.00023486 -0.00308024]\n",
            " [-0.0005455  -0.00175415]\n",
            " [-0.00087814 -0.00049892]]\n",
            "Sample target first 3 steps: [[-1.0263214e-05  5.1069769e-06]\n",
            " [-8.2099714e-06  2.6287930e-06]\n",
            " [ 1.4959690e-05 -1.9491419e-05]]\n",
            "Validation improved: 0.035860 -> 0.035382\n"
          ]
        },
        {
          "name": "stderr",
          "output_type": "stream",
          "text": [
            "Epoch:  35%|███▍      | 52/150 [27:02<56:23, 34.53s/epoch]"
          ]
        },
        {
          "name": "stdout",
          "output_type": "stream",
          "text": [
            "Epoch 051 | LR 0.000347 | Train MSE 0.0462 | Val MSE 0.0360 | Val MAE 0.7535 | Val MSE 1.7644\n"
          ]
        },
        {
          "name": "stderr",
          "output_type": "stream",
          "text": [
            "Epoch:  35%|███▌      | 53/150 [27:36<55:44, 34.48s/epoch]"
          ]
        },
        {
          "name": "stdout",
          "output_type": "stream",
          "text": [
            "Epoch 052 | LR 0.000330 | Train MSE 0.0467 | Val MSE 0.0355 | Val MAE 0.7446 | Val MSE 1.7404\n"
          ]
        },
        {
          "name": "stderr",
          "output_type": "stream",
          "text": [
            "Epoch:  36%|███▌      | 54/150 [28:11<55:01, 34.39s/epoch]"
          ]
        },
        {
          "name": "stdout",
          "output_type": "stream",
          "text": [
            "Epoch 053 | LR 0.000313 | Train MSE 0.0462 | Val MSE 0.0363 | Val MAE 0.7617 | Val MSE 1.7792\n"
          ]
        },
        {
          "name": "stderr",
          "output_type": "stream",
          "text": [
            "Epoch:  37%|███▋      | 55/150 [28:45<54:18, 34.30s/epoch]"
          ]
        },
        {
          "name": "stdout",
          "output_type": "stream",
          "text": [
            "Epoch 054 | LR 0.000298 | Train MSE 0.0463 | Val MSE 0.0354 | Val MAE 0.7398 | Val MSE 1.7361\n"
          ]
        },
        {
          "name": "stderr",
          "output_type": "stream",
          "text": [
            "Epoch:  37%|███▋      | 56/150 [29:19<53:41, 34.27s/epoch]"
          ]
        },
        {
          "name": "stdout",
          "output_type": "stream",
          "text": [
            "Epoch 055 | LR 0.000283 | Train MSE 0.0468 | Val MSE 0.0363 | Val MAE 0.7645 | Val MSE 1.7765\n",
            "Sample pred first 3 steps: [[ 0.01622508 -0.00640421]\n",
            " [ 0.01597784 -0.00542943]\n",
            " [ 0.015611   -0.00427708]]\n",
            "Sample target first 3 steps: [[-1.0263214e-05  5.1069769e-06]\n",
            " [-8.2099714e-06  2.6287930e-06]\n",
            " [ 1.4959690e-05 -1.9491419e-05]]\n"
          ]
        },
        {
          "name": "stderr",
          "output_type": "stream",
          "text": [
            "Epoch:  38%|███▊      | 57/150 [29:54<53:22, 34.43s/epoch]"
          ]
        },
        {
          "name": "stdout",
          "output_type": "stream",
          "text": [
            "Epoch 056 | LR 0.000269 | Train MSE 0.0458 | Val MSE 0.0357 | Val MAE 0.7486 | Val MSE 1.7507\n"
          ]
        },
        {
          "name": "stderr",
          "output_type": "stream",
          "text": [
            "Epoch:  39%|███▊      | 58/150 [30:28<52:54, 34.51s/epoch]"
          ]
        },
        {
          "name": "stdout",
          "output_type": "stream",
          "text": [
            "Epoch 057 | LR 0.000255 | Train MSE 0.0457 | Val MSE 0.0359 | Val MAE 0.7396 | Val MSE 1.7587\n"
          ]
        },
        {
          "name": "stderr",
          "output_type": "stream",
          "text": [
            "Epoch:  39%|███▉      | 59/150 [31:02<51:52, 34.20s/epoch]"
          ]
        },
        {
          "name": "stdout",
          "output_type": "stream",
          "text": [
            "Epoch 058 | LR 0.000242 | Train MSE 0.0454 | Val MSE 0.0358 | Val MAE 0.7542 | Val MSE 1.7527\n"
          ]
        },
        {
          "name": "stderr",
          "output_type": "stream",
          "text": [
            "Epoch:  40%|████      | 60/150 [31:37<51:35, 34.40s/epoch]"
          ]
        },
        {
          "name": "stdout",
          "output_type": "stream",
          "text": [
            "Epoch 059 | LR 0.000230 | Train MSE 0.0453 | Val MSE 0.0363 | Val MAE 0.7507 | Val MSE 1.7797\n"
          ]
        },
        {
          "name": "stderr",
          "output_type": "stream",
          "text": [
            "Epoch:  41%|████      | 61/150 [32:10<50:40, 34.16s/epoch]"
          ]
        },
        {
          "name": "stdout",
          "output_type": "stream",
          "text": [
            "Epoch 060 | LR 0.000219 | Train MSE 0.0454 | Val MSE 0.0358 | Val MAE 0.7451 | Val MSE 1.7524\n",
            "Sample pred first 3 steps: [[ 0.01345583 -0.01562599]\n",
            " [ 0.0137845  -0.01460234]\n",
            " [ 0.01401491 -0.01335641]]\n",
            "Sample target first 3 steps: [[-1.0263214e-05  5.1069769e-06]\n",
            " [-8.2099714e-06  2.6287930e-06]\n",
            " [ 1.4959690e-05 -1.9491419e-05]]\n"
          ]
        },
        {
          "name": "stderr",
          "output_type": "stream",
          "text": [
            "Epoch:  41%|████▏     | 62/150 [32:44<49:42, 33.89s/epoch]"
          ]
        },
        {
          "name": "stdout",
          "output_type": "stream",
          "text": [
            "Epoch 061 | LR 0.000208 | Train MSE 0.0456 | Val MSE 0.0363 | Val MAE 0.7670 | Val MSE 1.7810\n"
          ]
        },
        {
          "name": "stderr",
          "output_type": "stream",
          "text": [
            "Epoch:  42%|████▏     | 63/150 [33:17<49:02, 33.82s/epoch]"
          ]
        },
        {
          "name": "stdout",
          "output_type": "stream",
          "text": [
            "Epoch 062 | LR 0.000197 | Train MSE 0.0451 | Val MSE 0.0357 | Val MAE 0.7383 | Val MSE 1.7514\n"
          ]
        },
        {
          "name": "stderr",
          "output_type": "stream",
          "text": [
            "Epoch:  43%|████▎     | 64/150 [33:53<49:18, 34.41s/epoch]"
          ]
        },
        {
          "name": "stdout",
          "output_type": "stream",
          "text": [
            "Epoch 063 | LR 0.000188 | Train MSE 0.0456 | Val MSE 0.0356 | Val MAE 0.7365 | Val MSE 1.7431\n"
          ]
        },
        {
          "name": "stderr",
          "output_type": "stream",
          "text": [
            "Epoch:  43%|████▎     | 65/150 [34:27<48:35, 34.29s/epoch]"
          ]
        },
        {
          "name": "stdout",
          "output_type": "stream",
          "text": [
            "Epoch 064 | LR 0.000178 | Train MSE 0.0448 | Val MSE 0.0366 | Val MAE 0.7662 | Val MSE 1.7917\n"
          ]
        },
        {
          "name": "stderr",
          "output_type": "stream",
          "text": [
            "Epoch:  44%|████▍     | 66/150 [35:02<48:07, 34.38s/epoch]"
          ]
        },
        {
          "name": "stdout",
          "output_type": "stream",
          "text": [
            "Epoch 065 | LR 0.000169 | Train MSE 0.0453 | Val MSE 0.0361 | Val MAE 0.7642 | Val MSE 1.7693\n",
            "Sample pred first 3 steps: [[-0.00890954  0.00142294]\n",
            " [-0.00963805  0.0028842 ]\n",
            " [-0.01025118  0.00418606]]\n",
            "Sample target first 3 steps: [[-1.0263214e-05  5.1069769e-06]\n",
            " [-8.2099714e-06  2.6287930e-06]\n",
            " [ 1.4959690e-05 -1.9491419e-05]]\n"
          ]
        },
        {
          "name": "stderr",
          "output_type": "stream",
          "text": [
            "Epoch:  45%|████▍     | 67/150 [35:35<47:17, 34.19s/epoch]"
          ]
        },
        {
          "name": "stdout",
          "output_type": "stream",
          "text": [
            "Epoch 066 | LR 0.000161 | Train MSE 0.0451 | Val MSE 0.0356 | Val MAE 0.7387 | Val MSE 1.7454\n"
          ]
        },
        {
          "name": "stderr",
          "output_type": "stream",
          "text": [
            "Epoch:  45%|████▌     | 68/150 [36:09<46:34, 34.08s/epoch]"
          ]
        },
        {
          "name": "stdout",
          "output_type": "stream",
          "text": [
            "Epoch 067 | LR 0.000153 | Train MSE 0.0455 | Val MSE 0.0357 | Val MAE 0.7455 | Val MSE 1.7495\n"
          ]
        },
        {
          "name": "stderr",
          "output_type": "stream",
          "text": [
            "Epoch:  46%|████▌     | 69/150 [36:44<46:09, 34.19s/epoch]"
          ]
        },
        {
          "name": "stdout",
          "output_type": "stream",
          "text": [
            "Epoch 068 | LR 0.000145 | Train MSE 0.0451 | Val MSE 0.0355 | Val MAE 0.7444 | Val MSE 1.7395\n"
          ]
        },
        {
          "name": "stderr",
          "output_type": "stream",
          "text": [
            "Epoch:  47%|████▋     | 70/150 [37:20<46:33, 34.91s/epoch]"
          ]
        },
        {
          "name": "stdout",
          "output_type": "stream",
          "text": [
            "Epoch 069 | LR 0.000138 | Train MSE 0.0446 | Val MSE 0.0353 | Val MAE 0.7405 | Val MSE 1.7303\n",
            "Validation improved: 0.035382 -> 0.035313\n"
          ]
        },
        {
          "name": "stderr",
          "output_type": "stream",
          "text": [
            "Epoch:  47%|████▋     | 71/150 [37:57<46:37, 35.42s/epoch]"
          ]
        },
        {
          "name": "stdout",
          "output_type": "stream",
          "text": [
            "Epoch 070 | LR 0.000131 | Train MSE 0.0453 | Val MSE 0.0353 | Val MAE 0.7382 | Val MSE 1.7314\n",
            "Sample pred first 3 steps: [[ 0.00309399 -0.01144299]\n",
            " [ 0.00299187 -0.01038601]\n",
            " [ 0.00301951 -0.00941543]]\n",
            "Sample target first 3 steps: [[-1.0263214e-05  5.1069769e-06]\n",
            " [-8.2099714e-06  2.6287930e-06]\n",
            " [ 1.4959690e-05 -1.9491419e-05]]\n"
          ]
        },
        {
          "name": "stderr",
          "output_type": "stream",
          "text": [
            "Epoch:  48%|████▊     | 72/150 [38:34<46:36, 35.85s/epoch]"
          ]
        },
        {
          "name": "stdout",
          "output_type": "stream",
          "text": [
            "Epoch 071 | LR 0.000124 | Train MSE 0.0444 | Val MSE 0.0355 | Val MAE 0.7430 | Val MSE 1.7384\n"
          ]
        },
        {
          "name": "stderr",
          "output_type": "stream",
          "text": [
            "Epoch:  49%|████▊     | 73/150 [39:09<45:38, 35.56s/epoch]"
          ]
        },
        {
          "name": "stdout",
          "output_type": "stream",
          "text": [
            "Epoch 072 | LR 0.000118 | Train MSE 0.0445 | Val MSE 0.0358 | Val MAE 0.7398 | Val MSE 1.7533\n"
          ]
        },
        {
          "name": "stderr",
          "output_type": "stream",
          "text": [
            "Epoch:  49%|████▉     | 74/150 [39:45<45:25, 35.86s/epoch]"
          ]
        },
        {
          "name": "stdout",
          "output_type": "stream",
          "text": [
            "Epoch 073 | LR 0.000112 | Train MSE 0.0447 | Val MSE 0.0359 | Val MAE 0.7476 | Val MSE 1.7580\n"
          ]
        },
        {
          "name": "stderr",
          "output_type": "stream",
          "text": [
            "Epoch:  50%|█████     | 75/150 [40:22<45:18, 36.24s/epoch]"
          ]
        },
        {
          "name": "stdout",
          "output_type": "stream",
          "text": [
            "Epoch 074 | LR 0.000107 | Train MSE 0.0442 | Val MSE 0.0356 | Val MAE 0.7431 | Val MSE 1.7454\n"
          ]
        },
        {
          "name": "stderr",
          "output_type": "stream",
          "text": [
            "Epoch:  51%|█████     | 76/150 [41:00<45:19, 36.75s/epoch]"
          ]
        },
        {
          "name": "stdout",
          "output_type": "stream",
          "text": [
            "Epoch 075 | LR 0.000101 | Train MSE 0.0440 | Val MSE 0.0355 | Val MAE 0.7371 | Val MSE 1.7399\n",
            "Sample pred first 3 steps: [[-0.00112791 -0.00920202]\n",
            " [-0.00132082 -0.00825273]\n",
            " [-0.00126548 -0.00719639]]\n",
            "Sample target first 3 steps: [[-1.0263214e-05  5.1069769e-06]\n",
            " [-8.2099714e-06  2.6287930e-06]\n",
            " [ 1.4959690e-05 -1.9491419e-05]]\n"
          ]
        },
        {
          "name": "stderr",
          "output_type": "stream",
          "text": [
            "Epoch:  51%|█████▏    | 77/150 [41:38<45:06, 37.08s/epoch]"
          ]
        },
        {
          "name": "stdout",
          "output_type": "stream",
          "text": [
            "Epoch 076 | LR 0.000096 | Train MSE 0.0443 | Val MSE 0.0357 | Val MAE 0.7492 | Val MSE 1.7484\n"
          ]
        },
        {
          "name": "stderr",
          "output_type": "stream",
          "text": [
            "Epoch:  52%|█████▏    | 78/150 [42:15<44:36, 37.17s/epoch]"
          ]
        },
        {
          "name": "stdout",
          "output_type": "stream",
          "text": [
            "Epoch 077 | LR 0.000091 | Train MSE 0.0442 | Val MSE 0.0355 | Val MAE 0.7410 | Val MSE 1.7402\n"
          ]
        },
        {
          "name": "stderr",
          "output_type": "stream",
          "text": [
            "Epoch:  53%|█████▎    | 79/150 [42:53<44:06, 37.27s/epoch]"
          ]
        },
        {
          "name": "stdout",
          "output_type": "stream",
          "text": [
            "Epoch 078 | LR 0.000087 | Train MSE 0.0440 | Val MSE 0.0352 | Val MAE 0.7355 | Val MSE 1.7262\n",
            "Validation improved: 0.035313 -> 0.035228\n"
          ]
        },
        {
          "name": "stderr",
          "output_type": "stream",
          "text": [
            "Epoch:  53%|█████▎    | 79/150 [43:32<44:06, 37.27s/epoch]"
          ]
        },
        {
          "name": "stdout",
          "output_type": "stream",
          "text": [
            "Epoch 079 | LR 0.000083 | Train MSE 0.0445 | Val MSE 0.0352 | Val MAE 0.7347 | Val MSE 1.7260\n",
            "Validation improved: 0.035228 -> 0.035224\n"
          ]
        },
        {
          "name": "stderr",
          "output_type": "stream",
          "text": [
            "Epoch:  54%|█████▍    | 81/150 [44:18<46:25, 40.38s/epoch]"
          ]
        },
        {
          "name": "stdout",
          "output_type": "stream",
          "text": [
            "Epoch 080 | LR 0.000078 | Train MSE 0.0441 | Val MSE 0.0355 | Val MAE 0.7398 | Val MSE 1.7375\n",
            "Sample pred first 3 steps: [[-0.00114103 -0.01495453]\n",
            " [-0.00076203 -0.01405325]\n",
            " [-0.00043054 -0.01315694]]\n",
            "Sample target first 3 steps: [[-1.0263214e-05  5.1069769e-06]\n",
            " [-8.2099714e-06  2.6287930e-06]\n",
            " [ 1.4959690e-05 -1.9491419e-05]]\n"
          ]
        },
        {
          "name": "stderr",
          "output_type": "stream",
          "text": [
            "Epoch:  55%|█████▍    | 82/150 [45:05<47:51, 42.23s/epoch]"
          ]
        },
        {
          "name": "stdout",
          "output_type": "stream",
          "text": [
            "Epoch 081 | LR 0.000075 | Train MSE 0.0441 | Val MSE 0.0354 | Val MAE 0.7378 | Val MSE 1.7364\n"
          ]
        },
        {
          "name": "stderr",
          "output_type": "stream",
          "text": [
            "Epoch:  55%|█████▌    | 83/150 [45:50<48:14, 43.21s/epoch]"
          ]
        },
        {
          "name": "stdout",
          "output_type": "stream",
          "text": [
            "Epoch 082 | LR 0.000071 | Train MSE 0.0445 | Val MSE 0.0354 | Val MAE 0.7386 | Val MSE 1.7323\n"
          ]
        },
        {
          "name": "stderr",
          "output_type": "stream",
          "text": [
            "Epoch:  56%|█████▌    | 84/150 [46:35<48:04, 43.71s/epoch]"
          ]
        },
        {
          "name": "stdout",
          "output_type": "stream",
          "text": [
            "Epoch 083 | LR 0.000067 | Train MSE 0.0446 | Val MSE 0.0354 | Val MAE 0.7332 | Val MSE 1.7331\n"
          ]
        },
        {
          "name": "stderr",
          "output_type": "stream",
          "text": [
            "Epoch:  57%|█████▋    | 85/150 [47:21<47:49, 44.15s/epoch]"
          ]
        },
        {
          "name": "stdout",
          "output_type": "stream",
          "text": [
            "Epoch 084 | LR 0.000064 | Train MSE 0.0442 | Val MSE 0.0353 | Val MAE 0.7353 | Val MSE 1.7282\n"
          ]
        },
        {
          "name": "stderr",
          "output_type": "stream",
          "text": [
            "Epoch:  57%|█████▋    | 86/150 [48:03<46:40, 43.77s/epoch]"
          ]
        },
        {
          "name": "stdout",
          "output_type": "stream",
          "text": [
            "Epoch 085 | LR 0.000061 | Train MSE 0.0444 | Val MSE 0.0354 | Val MAE 0.7326 | Val MSE 1.7343\n",
            "Sample pred first 3 steps: [[ 4.2118132e-05 -3.7080497e-03]\n",
            " [ 2.0814687e-04 -2.6703728e-03]\n",
            " [ 2.9907189e-04 -1.5445510e-03]]\n",
            "Sample target first 3 steps: [[-1.0263214e-05  5.1069769e-06]\n",
            " [-8.2099714e-06  2.6287930e-06]\n",
            " [ 1.4959690e-05 -1.9491419e-05]]\n"
          ]
        },
        {
          "name": "stderr",
          "output_type": "stream",
          "text": [
            "Epoch:  58%|█████▊    | 87/150 [48:47<45:51, 43.68s/epoch]"
          ]
        },
        {
          "name": "stdout",
          "output_type": "stream",
          "text": [
            "Epoch 086 | LR 0.000058 | Train MSE 0.0441 | Val MSE 0.0357 | Val MAE 0.7391 | Val MSE 1.7506\n"
          ]
        },
        {
          "name": "stderr",
          "output_type": "stream",
          "text": [
            "Epoch:  59%|█████▊    | 88/150 [49:31<45:19, 43.86s/epoch]"
          ]
        },
        {
          "name": "stdout",
          "output_type": "stream",
          "text": [
            "Epoch 087 | LR 0.000055 | Train MSE 0.0437 | Val MSE 0.0356 | Val MAE 0.7380 | Val MSE 1.7441\n"
          ]
        },
        {
          "name": "stderr",
          "output_type": "stream",
          "text": [
            "Epoch:  59%|█████▉    | 89/150 [50:13<44:02, 43.32s/epoch]"
          ]
        },
        {
          "name": "stdout",
          "output_type": "stream",
          "text": [
            "Epoch 088 | LR 0.000052 | Train MSE 0.0437 | Val MSE 0.0355 | Val MAE 0.7335 | Val MSE 1.7386\n"
          ]
        },
        {
          "name": "stderr",
          "output_type": "stream",
          "text": [
            "Epoch:  60%|██████    | 90/150 [50:59<44:02, 44.04s/epoch]"
          ]
        },
        {
          "name": "stdout",
          "output_type": "stream",
          "text": [
            "Epoch 089 | LR 0.000049 | Train MSE 0.0436 | Val MSE 0.0356 | Val MAE 0.7422 | Val MSE 1.7438\n"
          ]
        },
        {
          "name": "stderr",
          "output_type": "stream",
          "text": [
            "Epoch:  61%|██████    | 91/150 [51:44<43:43, 44.46s/epoch]"
          ]
        },
        {
          "name": "stdout",
          "output_type": "stream",
          "text": [
            "Epoch 090 | LR 0.000047 | Train MSE 0.0438 | Val MSE 0.0356 | Val MAE 0.7432 | Val MSE 1.7450\n",
            "Sample pred first 3 steps: [[-0.00217457 -0.00376255]\n",
            " [-0.00203376 -0.00279061]\n",
            " [-0.00187298 -0.00182111]]\n",
            "Sample target first 3 steps: [[-1.0263214e-05  5.1069769e-06]\n",
            " [-8.2099714e-06  2.6287930e-06]\n",
            " [ 1.4959690e-05 -1.9491419e-05]]\n"
          ]
        },
        {
          "name": "stderr",
          "output_type": "stream",
          "text": [
            "Epoch:  61%|██████▏   | 92/150 [52:31<43:31, 45.02s/epoch]"
          ]
        },
        {
          "name": "stdout",
          "output_type": "stream",
          "text": [
            "Epoch 091 | LR 0.000045 | Train MSE 0.0440 | Val MSE 0.0354 | Val MAE 0.7385 | Val MSE 1.7348\n"
          ]
        },
        {
          "name": "stderr",
          "output_type": "stream",
          "text": [
            "Epoch:  62%|██████▏   | 93/150 [53:17<43:08, 45.42s/epoch]"
          ]
        },
        {
          "name": "stdout",
          "output_type": "stream",
          "text": [
            "Epoch 092 | LR 0.000042 | Train MSE 0.0444 | Val MSE 0.0354 | Val MAE 0.7420 | Val MSE 1.7336\n"
          ]
        },
        {
          "name": "stderr",
          "output_type": "stream",
          "text": [
            "Epoch:  63%|██████▎   | 94/150 [54:04<42:50, 45.91s/epoch]"
          ]
        },
        {
          "name": "stdout",
          "output_type": "stream",
          "text": [
            "Epoch 093 | LR 0.000040 | Train MSE 0.0438 | Val MSE 0.0353 | Val MAE 0.7372 | Val MSE 1.7315\n"
          ]
        },
        {
          "name": "stderr",
          "output_type": "stream",
          "text": [
            "Epoch:  63%|██████▎   | 95/150 [54:48<41:38, 45.43s/epoch]"
          ]
        },
        {
          "name": "stdout",
          "output_type": "stream",
          "text": [
            "Epoch 094 | LR 0.000038 | Train MSE 0.0446 | Val MSE 0.0353 | Val MAE 0.7357 | Val MSE 1.7309\n"
          ]
        },
        {
          "name": "stderr",
          "output_type": "stream",
          "text": [
            "Epoch:  64%|██████▍   | 96/150 [55:33<40:34, 45.08s/epoch]"
          ]
        },
        {
          "name": "stdout",
          "output_type": "stream",
          "text": [
            "Epoch 095 | LR 0.000036 | Train MSE 0.0443 | Val MSE 0.0354 | Val MAE 0.7344 | Val MSE 1.7363\n",
            "Sample pred first 3 steps: [[ 0.0010712  -0.00563555]\n",
            " [ 0.0011718  -0.00455016]\n",
            " [ 0.00125303 -0.00359536]]\n",
            "Sample target first 3 steps: [[-1.0263214e-05  5.1069769e-06]\n",
            " [-8.2099714e-06  2.6287930e-06]\n",
            " [ 1.4959690e-05 -1.9491419e-05]]\n"
          ]
        },
        {
          "name": "stderr",
          "output_type": "stream",
          "text": [
            "Epoch:  65%|██████▍   | 97/150 [56:15<39:03, 44.21s/epoch]"
          ]
        },
        {
          "name": "stdout",
          "output_type": "stream",
          "text": [
            "Epoch 096 | LR 0.000035 | Train MSE 0.0442 | Val MSE 0.0355 | Val MAE 0.7390 | Val MSE 1.7417\n"
          ]
        },
        {
          "name": "stderr",
          "output_type": "stream",
          "text": [
            "Epoch:  65%|██████▌   | 98/150 [56:58<37:54, 43.75s/epoch]"
          ]
        },
        {
          "name": "stdout",
          "output_type": "stream",
          "text": [
            "Epoch 097 | LR 0.000033 | Train MSE 0.0445 | Val MSE 0.0352 | Val MAE 0.7319 | Val MSE 1.7271\n"
          ]
        },
        {
          "name": "stderr",
          "output_type": "stream",
          "text": [
            "Epoch:  66%|██████▌   | 99/150 [57:35<35:29, 41.76s/epoch]"
          ]
        },
        {
          "name": "stdout",
          "output_type": "stream",
          "text": [
            "Epoch 098 | LR 0.000031 | Train MSE 0.0442 | Val MSE 0.0353 | Val MAE 0.7355 | Val MSE 1.7300\n"
          ]
        },
        {
          "name": "stderr",
          "output_type": "stream",
          "text": [
            "Epoch:  66%|██████▌   | 99/150 [58:10<29:58, 35.26s/epoch]\n"
          ]
        },
        {
          "name": "stdout",
          "output_type": "stream",
          "text": [
            "Epoch 099 | LR 0.000030 | Train MSE 0.0440 | Val MSE 0.0354 | Val MAE 0.7349 | Val MSE 1.7332\n",
            "Early stopping after 100 epochs without improvement\n",
            "Val MSE: 1.7260\n"
          ]
        },
        {
          "data": {
            "text/plain": [
              "SimpleLSTM(\n",
              "  (ego_encoder): LSTM(5, 1024, batch_first=True)\n",
              "  (neighbor_encoder): LSTM(5, 1024, batch_first=True)\n",
              "  (fc1): Linear(in_features=2048, out_features=2048, bias=True)\n",
              "  (dropout): Dropout(p=0.1, inplace=False)\n",
              "  (relu): ReLU()\n",
              "  (fc2): Linear(in_features=2048, out_features=120, bias=True)\n",
              ")"
            ]
          },
          "execution_count": 28,
          "metadata": {},
          "output_type": "execute_result"
        }
      ],
      "source": [
        "# bigger hidden size\n",
        "train_and_evaluate_model()"
      ]
    },
    {
      "cell_type": "markdown",
      "metadata": {},
      "source": [
        "# Final Pred"
      ]
    },
    {
      "cell_type": "code",
      "execution_count": 29,
      "metadata": {},
      "outputs": [
        {
          "ename": "",
          "evalue": "",
          "output_type": "error",
          "traceback": [
            "\u001b[1;31mThe Kernel crashed while executing code in the current cell or a previous cell. \n",
            "\u001b[1;31mPlease review the code in the cell(s) to identify a possible cause of the failure. \n",
            "\u001b[1;31mClick <a href='https://aka.ms/vscodeJupyterKernelCrash'>here</a> for more info. \n",
            "\u001b[1;31mView Jupyter <a href='command:jupyter.viewOutput'>log</a> for further details."
          ]
        }
      ],
      "source": [
        "test_dataset = TrajectoryDatasetTest(test_data, scale=scale)\n",
        "test_loader = DataLoader(test_dataset, batch_size=32, shuffle=False,\n",
        "                         collate_fn=lambda xs: Batch.from_data_list(xs))\n",
        "\n",
        "best_model2 = torch.load(best_model)\n",
        "model = SimpleLSTM().to(device)\n",
        "# optimizer = optim.Adam(model.parameters(), lr=1e-3, weight_decay=1e-4)\n",
        "# scheduler = optim.lr_scheduler.StepLR(optimizer, step_size=20, gamma=0.25) # You can try different schedulers\n",
        "# criterion = nn.MSELoss()\n",
        "\n",
        "model.load_state_dict(best_model2)\n",
        "model.eval()\n",
        "\n",
        "pred_list = []\n",
        "with torch.no_grad():\n",
        "    for batch in test_loader:\n",
        "        batch = batch.to(device)\n",
        "        pred_vel_norm = model(batch)\n",
        "        \n",
        "        # Reshape the prediction to (N, 60, 2)\n",
        "        pred_vel = pred_vel_norm * batch.scale.view(-1,1,1)\n",
        "        \n",
        "        # Get origin in meters (position at t=49 for ego)\n",
        "        # origin = batch.origin  # (B, 1, 2)\n",
        "        origin = batch.origin.unsqueeze(1)  # Ensure shape is (B, 1, 2)\n",
        "        \n",
        "        # Integrate velocity to get position over 60 steps\n",
        "        dt = 0.1  # seconds per step\n",
        "        pred_pos = [origin]  # list of (B, 1, 2)\n",
        "        \n",
        "        for t in range(60):\n",
        "            next_pos = pred_pos[-1] + pred_vel[:, t:t+1, :] * dt  # (B, 1, 2)\n",
        "            pred_pos.append(next_pos)\n",
        "        \n",
        "        # Concatenate positions across time steps\n",
        "        pred_xy = torch.cat(pred_pos[1:], dim=1)  # skip initial origin, get (B, 60, 2)\n",
        "\n",
        "        pred_list.append(pred_xy.cpu().numpy())\n",
        "        \n",
        "pred_list = np.concatenate(pred_list, axis=0)  # (N,60,2)\n",
        "pred_output = pred_list.reshape(-1, 2)  # (N*60, 2)\n",
        "output_df = pd.DataFrame(pred_output, columns=['x', 'y'])\n",
        "output_df.index.name = 'index'\n",
        "output_df.to_csv('submission_lstm_simple_auto8.csv', index=True)\n",
        "# output_df.to_csv('submission_lstm_simple_auto8_largerhidden.csv', index=True)"
      ]
    }
  ],
  "metadata": {
    "colab": {
      "name": "data-loading-and-submission-preperation",
      "provenance": []
    },
    "kaggle": {
      "accelerator": "none",
      "dataSources": [],
      "dockerImageVersionId": 30918,
      "isGpuEnabled": false,
      "isInternetEnabled": false,
      "language": "python",
      "sourceType": "notebook"
    },
    "kernelspec": {
      "display_name": "Python 3",
      "language": "python",
      "name": "python3"
    },
    "language_info": {
      "codemirror_mode": {
        "name": "ipython",
        "version": 3
      },
      "file_extension": ".py",
      "mimetype": "text/x-python",
      "name": "python",
      "nbconvert_exporter": "python",
      "pygments_lexer": "ipython3",
      "version": "3.9.6"
    },
    "papermill": {
      "default_parameters": {},
      "duration": 27.524611,
      "end_time": "2025-04-01T17:39:42.223757",
      "environment_variables": {},
      "exception": null,
      "input_path": "__notebook__.ipynb",
      "output_path": "__notebook__.ipynb",
      "parameters": {},
      "start_time": "2025-04-01T17:39:14.699146",
      "version": "2.6.0"
    }
  },
  "nbformat": 4,
  "nbformat_minor": 0
}
