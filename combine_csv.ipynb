{
 "cells": [
  {
   "cell_type": "code",
   "execution_count": 15,
   "metadata": {},
   "outputs": [],
   "source": [
    "# import numpy as np\n",
    "# import pandas as pd\n",
    "\n",
    "# # enc_dec = pd.read_csv(\"submission_lstm_simple_auto23.csv\")\n",
    "# enc_mlp1 = pd.read_csv(\"submission_lstm_simple_auto8_axayangvel.csv\")\n",
    "\n",
    "# enc_mlp2 = pd.read_csv(\"submission_lstm_simple_auto8.csv\")\n",
    "# ens1 = (enc_mlp1+enc_mlp2)/2\n",
    "# ens1.index = ens1['index']\n",
    "# ens1= ens1.drop(columns =\"index\")\n",
    "# ens1.reset_index()\n",
    "# ens1.index = ens1.index.astype(int)\n",
    "# ens1.to_csv('submission_ensemble_3_mlp.csv')\n",
    "# print()\n",
    "\n",
    "########################################################\n",
    "\n",
    "import numpy as np\n",
    "import pandas as pd\n",
    "\n",
    "# Load original submissions (which have correct index and column format)\n",
    "enc_mlp1 = pd.read_csv(\"submission_lstm_simple_auto8_axayangvel.csv\")\n",
    "enc_mlp2 = pd.read_csv(\"submission_lstm_simple_auto8.csv\")\n",
    "\n",
    "# Use the 'index' column from one of them as the base\n",
    "base_index = enc_mlp1['index']\n",
    "\n",
    "# Remove index column for averaging\n",
    "preds1 = enc_mlp1.drop(columns=['index'])\n",
    "preds2 = enc_mlp2.drop(columns=['index'])\n",
    "\n",
    "# Losses\n",
    "loss1 = 1.6914\n",
    "loss2 = 1.6759\n",
    "\n",
    "# Inverse losses for weighting\n",
    "inv_loss1 = 1.0 / loss1\n",
    "inv_loss2 = 1.0 / loss2\n",
    "weight_sum = inv_loss1 + inv_loss2\n",
    "\n",
    "# Weighted average\n",
    "weighted_preds = (preds1 * inv_loss1 + preds2 * inv_loss2) / weight_sum\n",
    "\n",
    "# Ensure index is int\n",
    "base_index = base_index.astype(int)\n",
    "\n",
    "# Reattach the original index column\n",
    "ens_df = pd.concat([base_index, weighted_preds], axis=1)\n",
    "\n",
    "\n",
    "# Optional: sanity check\n",
    "assert ens_df['index'].is_unique, \"Index column has duplicates!\"\n",
    "assert len(ens_df) == len(base_index), \"Length mismatch!\"\n",
    "\n",
    "# Save the correct format\n",
    "ens_df.to_csv(\"submission_ensemble_5_weighted_mlp.csv\", index=False)"
   ]
  }
 ],
 "metadata": {
  "kernelspec": {
   "display_name": "Python 3",
   "language": "python",
   "name": "python3"
  },
  "language_info": {
   "codemirror_mode": {
    "name": "ipython",
    "version": 3
   },
   "file_extension": ".py",
   "mimetype": "text/x-python",
   "name": "python",
   "nbconvert_exporter": "python",
   "pygments_lexer": "ipython3",
   "version": "3.9.6"
  }
 },
 "nbformat": 4,
 "nbformat_minor": 2
}
