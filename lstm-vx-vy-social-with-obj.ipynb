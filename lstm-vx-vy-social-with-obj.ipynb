{
  "cells": [
    {
      "cell_type": "markdown",
      "metadata": {
        "id": "-n-C_P-zs-pY"
      },
      "source": [
        "# LSTM - vanilla"
      ]
    },
    {
      "cell_type": "code",
      "execution_count": 1,
      "metadata": {},
      "outputs": [],
      "source": [
        "best_model = \"best_model0.pt\""
      ]
    },
    {
      "cell_type": "markdown",
      "metadata": {},
      "source": [
        "## Load and prepare data"
      ]
    },
    {
      "cell_type": "code",
      "execution_count": 2,
      "metadata": {
        "_cell_guid": "b1076dfc-b9ad-4769-8c92-a6c4dae69d19",
        "_uuid": "8f2839f25d086af736a60e9eeb907d3b93b6e0e5",
        "execution": {
          "iopub.execute_input": "2025-04-01T17:39:17.728787Z",
          "iopub.status.busy": "2025-04-01T17:39:17.728324Z",
          "iopub.status.idle": "2025-04-01T17:39:18.875979Z",
          "shell.execute_reply": "2025-04-01T17:39:18.874618Z"
        },
        "id": "F4_wHjhZs-pa",
        "papermill": {
          "duration": 1.154057,
          "end_time": "2025-04-01T17:39:18.878059",
          "exception": false,
          "start_time": "2025-04-01T17:39:17.724002",
          "status": "completed"
        },
        "tags": []
      },
      "outputs": [
        {
          "name": "stderr",
          "output_type": "stream",
          "text": [
            "/Users/salmawafa/Library/Python/3.9/lib/python/site-packages/urllib3/__init__.py:35: NotOpenSSLWarning: urllib3 v2 only supports OpenSSL 1.1.1+, currently the 'ssl' module is compiled with 'LibreSSL 2.8.3'. See: https://github.com/urllib3/urllib3/issues/3020\n",
            "  warnings.warn(\n",
            "/Users/salmawafa/Library/Python/3.9/lib/python/site-packages/tqdm/auto.py:21: TqdmWarning: IProgress not found. Please update jupyter and ipywidgets. See https://ipywidgets.readthedocs.io/en/stable/user_install.html\n",
            "  from .autonotebook import tqdm as notebook_tqdm\n"
          ]
        }
      ],
      "source": [
        "import os\n",
        "\n",
        "import numpy as np\n",
        "import pandas as pd\n",
        "import matplotlib.pyplot as plt\n",
        "import random\n",
        "\n",
        "import torch\n",
        "import torch.nn as nn\n",
        "import torch.optim as optim\n",
        "from torch.utils.data import Dataset, DataLoader\n",
        "from torch_geometric.data import Data, Batch\n",
        "import tqdm"
      ]
    },
    {
      "cell_type": "code",
      "execution_count": 3,
      "metadata": {
        "execution": {
          "iopub.execute_input": "2025-04-01T17:39:18.890746Z",
          "iopub.status.busy": "2025-04-01T17:39:18.890075Z",
          "iopub.status.idle": "2025-04-01T17:39:40.968717Z",
          "shell.execute_reply": "2025-04-01T17:39:40.967158Z"
        },
        "id": "09texa_os-pc",
        "papermill": {
          "duration": 22.084222,
          "end_time": "2025-04-01T17:39:40.970631",
          "exception": false,
          "start_time": "2025-04-01T17:39:18.886409",
          "status": "completed"
        },
        "tags": []
      },
      "outputs": [
        {
          "name": "stdout",
          "output_type": "stream",
          "text": [
            "train_data's shape (10000, 50, 110, 6)\n",
            "test_data's shape (2100, 50, 50, 6)\n"
          ]
        }
      ],
      "source": [
        "train_file = np.load('./cse-251-b-2025/train.npz')\n",
        "\n",
        "train_data = train_file['data']\n",
        "print(\"train_data's shape\", train_data.shape)\n",
        "test_file = np.load('./cse-251-b-2025/test_input.npz')\n",
        "\n",
        "test_data = test_file['data']\n",
        "print(\"test_data's shape\", test_data.shape)"
      ]
    },
    {
      "cell_type": "code",
      "execution_count": 4,
      "metadata": {
        "execution": {
          "iopub.execute_input": "2025-04-01T17:39:40.97884Z",
          "iopub.status.busy": "2025-04-01T17:39:40.978362Z",
          "iopub.status.idle": "2025-04-01T17:39:41.323077Z",
          "shell.execute_reply": "2025-04-01T17:39:41.321787Z"
        },
        "id": "ckJbGP_ds-pc",
        "papermill": {
          "duration": 0.351374,
          "end_time": "2025-04-01T17:39:41.325147",
          "exception": false,
          "start_time": "2025-04-01T17:39:40.973773",
          "status": "completed"
        },
        "tags": []
      },
      "outputs": [
        {
          "data": {
            "image/png": "[encoded data removed]",
            "text/plain": [
              "<Figure size 640x480 with 1 Axes>"
            ]
          },
          "metadata": {},
          "output_type": "display_data"
        }
      ],
      "source": [
        "# plot one\n",
        "import matplotlib.pyplot as plt\n",
        "\n",
        "data_matrix = train_data[0]\n",
        "\n",
        "for i in range(data_matrix.shape[0]):\n",
        "    xs = data_matrix[i, :, 0]\n",
        "    ys = data_matrix[i, :, 1]\n",
        "    # trim all zeros\n",
        "    xs = xs[xs != 0]\n",
        "    ys = ys[ys != 0]\n",
        "    # plot each line going from transparent to full\n",
        "    plt.plot(xs, ys)\n",
        "\n",
        "plt.show()"
      ]
    },
    {
      "cell_type": "markdown",
      "metadata": {},
      "source": [
        "# Data Loaders"
      ]
    },
    {
      "cell_type": "code",
      "execution_count": 7,
      "metadata": {},
      "outputs": [],
      "source": [
        "class TrajectoryDatasetTrain(Dataset):\n",
        "    def __init__(self, data, scale=10.0, augment=True):\n",
        "        \"\"\"\n",
        "        data: Shape (N, 50, 110, 6) Training data\n",
        "        scale: Scale for normalization (suggested to use 10.0 for Argoverse 2 data)\n",
        "        augment: Whether to apply data augmentation (only for training)\n",
        "        \"\"\"\n",
        "        self.data = data\n",
        "        self.scale = scale\n",
        "        self.augment = augment\n",
        "\n",
        "    def __len__(self):\n",
        "        return len(self.data)\n",
        "\n",
        "    def __getitem__(self, idx):\n",
        "        scene = self.data[idx]\n",
        "        # Getting 50 historical timestamps and 60 future timestamps\n",
        "        hist = scene[:, :50, :].copy()    # (agents=50, time_seq=50, 6)\n",
        "        future = torch.tensor(scene[0, 50:, 2:4].copy(), dtype=torch.float32)  # (60, 2)\n",
        "        \n",
        "        # Data augmentation(only for training)\n",
        "        if self.augment:\n",
        "            if np.random.rand() < 0.5:\n",
        "                theta = np.random.uniform(-np.pi, np.pi)\n",
        "                R = np.array([[np.cos(theta), -np.sin(theta)],\n",
        "                              [np.sin(theta),  np.cos(theta)]], dtype=np.float32)\n",
        "                # Rotate the historical trajectory and future trajectory\n",
        "                hist[..., :2] = hist[..., :2] @ R\n",
        "                hist[..., 2:4] = hist[..., 2:4] @ R\n",
        "                future = future @ R\n",
        "            if np.random.rand() < 0.5:\n",
        "                hist[..., 0] *= -1\n",
        "                hist[..., 2] *= -1\n",
        "                future[:, 0] *= -1\n",
        "\n",
        "        # Use the last timeframe of the historical trajectory as the origin\n",
        "        origin = hist[0, 49, :2].copy()  # (2,)\n",
        "        hist[..., :2] = hist[..., :2] - origin\n",
        "        # future = future - origin\n",
        "\n",
        "        # Normalize the historical trajectory and future trajectory\n",
        "        hist[..., :4] = hist[..., :4] / self.scale\n",
        "        future = future / self.scale\n",
        "\n",
        "        data_item = Data(\n",
        "            x=torch.tensor(hist, dtype=torch.float32),\n",
        "            y=future.type(torch.float32),\n",
        "            origin=torch.tensor(origin, dtype=torch.float32).unsqueeze(0), # (1,2)\n",
        "            scale=torch.tensor(self.scale, dtype=torch.float32), # scalar e.g. 7.0\n",
        "        )\n",
        "        \n",
        "        # print(f'x: {data_item.x.shape}')\n",
        "        # print(f'y: {data_item.y.shape}')\n",
        "\n",
        "        return data_item\n",
        "    \n",
        "\n",
        "class TrajectoryDatasetTest(Dataset):\n",
        "    def __init__(self, data, scale=10.0):\n",
        "        \"\"\"\n",
        "        data: Shape (N, 50, 110, 6) Testing data\n",
        "        scale: Scale for normalization (suggested to use 10.0 for Argoverse 2 data)\n",
        "        \"\"\"\n",
        "        self.data = data\n",
        "        self.scale = scale\n",
        "\n",
        "    def __len__(self):\n",
        "        return len(self.data)\n",
        "\n",
        "    def __getitem__(self, idx):\n",
        "        # Testing data only contains historical trajectory\n",
        "        scene = self.data[idx]  # (50, 50, 6)\n",
        "        hist = scene.copy()\n",
        "        \n",
        "        origin = hist[0, 49, :2].copy()\n",
        "        hist[..., :2] = hist[..., :2] - origin\n",
        "        hist[..., :4] = hist[..., :4] / self.scale\n",
        "\n",
        "        data_item = Data(\n",
        "            x=torch.tensor(hist, dtype=torch.float32),\n",
        "            origin=torch.tensor(origin, dtype=torch.float32).unsqueeze(0),\n",
        "            scale=torch.tensor(self.scale, dtype=torch.float32),\n",
        "        )\n",
        "        return data_item"
      ]
    },
    {
      "cell_type": "code",
      "execution_count": 8,
      "metadata": {},
      "outputs": [
        {
          "name": "stdout",
          "output_type": "stream",
          "text": [
            "Using Apple Silicon GPU\n"
          ]
        }
      ],
      "source": [
        "torch.manual_seed(251)\n",
        "np.random.seed(42)\n",
        "\n",
        "scale = 7.0\n",
        "\n",
        "N = len(train_data)\n",
        "val_size = int(0.1 * N)\n",
        "train_size = N - val_size\n",
        "\n",
        "train_dataset = TrajectoryDatasetTrain(train_data[:train_size], scale=scale, augment=True)\n",
        "val_dataset = TrajectoryDatasetTrain(train_data[train_size:], scale=scale, augment=False)\n",
        "\n",
        "train_dataloader = DataLoader(train_dataset, batch_size=32, shuffle=True, collate_fn=lambda x: Batch.from_data_list(x))\n",
        "val_dataloader = DataLoader(val_dataset, batch_size=32, shuffle=False, collate_fn=lambda x: Batch.from_data_list(x))\n",
        "\n",
        "# Set device for training speedup\n",
        "if torch.backends.mps.is_available():\n",
        "    device = torch.device('mps')\n",
        "    print(\"Using Apple Silicon GPU\")\n",
        "elif torch.cuda.is_available():\n",
        "    device = torch.device('cuda')\n",
        "    print(\"Using CUDA GPU\")\n",
        "else:\n",
        "    device = torch.device('cpu')"
      ]
    },
    {
      "cell_type": "markdown",
      "metadata": {},
      "source": [
        "# LSTM"
      ]
    },
    {
      "cell_type": "code",
      "execution_count": 10,
      "metadata": {},
      "outputs": [],
      "source": [
        "# Example of basic model that should work\n",
        "class SimpleLSTM(nn.Module):\n",
        "    # 2 layers 9.77 val\n",
        "    def __init__(self, input_dim=5, hidden_dim=512, output_dim=60*2, num_layers=1):\n",
        "        super(SimpleLSTM, self).__init__()\n",
        "        self.ego_encoder = nn.LSTM(input_size=input_dim, hidden_size=hidden_dim, num_layers=num_layers, batch_first=True)\n",
        "        self.neighbor_encoder = nn.LSTM(input_size=input_dim, hidden_size=hidden_dim, num_layers=num_layers, batch_first=True)\n",
        "        \n",
        "        # Add multi-layer prediction head for better results\n",
        "        self.fc1 = nn.Linear(hidden_dim*2, hidden_dim*2)\n",
        "        self.dropout = nn.Dropout(0.1)  # Add dropout for regularization\n",
        "        self.relu = nn.ReLU()\n",
        "        self.fc2 = nn.Linear(hidden_dim*2, output_dim)\n",
        "        \n",
        "        # Initialize weights properly\n",
        "        # for name, param in self.named_parameters():\n",
        "        #     if 'weight' in name:\n",
        "        #         nn.init.xavier_normal_(param)\n",
        "        #     elif 'bias' in name:\n",
        "        #         nn.init.constant_(param, 0.0)\n",
        "        \n",
        "    def forward(self, data):\n",
        "        x = data.x[..., :5]\n",
        "        x = x.reshape(-1, 50, 50, 5)  # (batch_size, num_agents, seq_len, input_dim)\n",
        "        batch_size = x.size(0)\n",
        "        # x = x[:, 0, :, :]  # Only consider ego agent (index 0)\n",
        "        \n",
        "        # EGO AGENT\n",
        "        ego_traj = x[:, 0, :, :]  # (batch, 50, 5)\n",
        "        # Process through LSTM\n",
        "        ego_lstm_out, _ = self.ego_encoder(ego_traj)\n",
        "        # Extract final hidden state\n",
        "        ego_features = ego_lstm_out[:, -1, :]\n",
        "        \n",
        "        # CLOSEST NEIGHBOR\n",
        "        # ---- DISTANCES TO OTHER AGENTS ----\n",
        "        ego_pos = x[:, 0, 49, :2].unsqueeze(1)  # (batch, 1, 2)\n",
        "        agent_pos = x[:, :, 49, :2]  # (batch, 50, 2)\n",
        "        dists = torch.norm(agent_pos - ego_pos, dim=-1)  # (batch, 50)\n",
        "        dists[:, 0] = float('inf')  # mask out ego\n",
        "        \n",
        "        _, neighbor_ids = torch.topk(dists, k=1, dim=1, largest=False)  # (batch, 3)\n",
        "        \n",
        "        # ---- ENCODE NEIGHBORS ----\n",
        "        neighbor_out_list = []\n",
        "\n",
        "        for i in range(1):\n",
        "            idx = neighbor_ids[:, i]  # (batch,)\n",
        "            neighbor_trajs = torch.stack([x[b, idx[b]] for b in range(batch_size)], dim=0)  # (batch, 50, 5)\n",
        "\n",
        "            neighbor_lstm_out, _ = self.neighbor_encoder(neighbor_trajs)  # both: (num_layers, batch, hidden_dim)\n",
        "\n",
        "            neighbor_out_list.append(neighbor_lstm_out[:, -1, :])\n",
        "\n",
        "        # ---- CONCATENATE HIDDEN AND CELL STATES ----\n",
        "        all_features = torch.cat([ego_features] + neighbor_out_list, dim=1)  # (num_layers, batch, hidden_dim * 4)\n",
        "        \n",
        "        # Process through prediction head\n",
        "        features = self.relu(self.fc1(all_features))\n",
        "        features = self.dropout(features)\n",
        "        out = self.fc2(features)\n",
        "        \n",
        "        # Reshape to (batch_size, 60, 2)\n",
        "        return out.view(-1, 60, 2)"
      ]
    },
    {
      "cell_type": "markdown",
      "metadata": {},
      "source": [
        "# Train"
      ]
    },
    {
      "cell_type": "code",
      "execution_count": 11,
      "metadata": {},
      "outputs": [],
      "source": [
        "def train_improved_model(model, train_dataloader, val_dataloader, \n",
        "                         device, criterion=nn.MSELoss(), \n",
        "                         lr=0.001, epochs=100, patience=15):\n",
        "    \"\"\"\n",
        "    Improved training function with better debugging and early stopping\n",
        "    \"\"\"\n",
        "    # Initialize optimizer with smaller learning rate\n",
        "    optimizer = torch.optim.Adam(model.parameters(), lr=lr)\n",
        "    \n",
        "    # Exponential decay scheduler\n",
        "    scheduler = torch.optim.lr_scheduler.ExponentialLR(optimizer, gamma=0.95)\n",
        "    \n",
        "    early_stopping_patience = patience\n",
        "    best_val_loss = float('inf')\n",
        "    no_improvement = 0\n",
        "    \n",
        "    # Save initial state for comparison\n",
        "    initial_state_dict = {k: v.clone() for k, v in model.state_dict().items()}\n",
        "    \n",
        "    for epoch in tqdm.tqdm(range(epochs), desc=\"Epoch\", unit=\"epoch\"):\n",
        "        # ---- Training ----\n",
        "        model.train()\n",
        "        train_loss = 0\n",
        "        num_train_batches = 0\n",
        "        \n",
        "        for batch in train_dataloader:\n",
        "            batch = batch.to(device)\n",
        "            pred = model(batch)\n",
        "            y = batch.y.view(batch.num_graphs, 60, 2)\n",
        "            \n",
        "            # Check for NaN predictions\n",
        "            if torch.isnan(pred).any():\n",
        "                print(f\"WARNING: NaN detected in predictions during training\")\n",
        "                continue\n",
        "                \n",
        "            loss = criterion(pred, y)\n",
        "            \n",
        "            # Check if loss is valid\n",
        "            if torch.isnan(loss) or torch.isinf(loss):\n",
        "                print(f\"WARNING: Invalid loss value: {loss.item()}\")\n",
        "                continue\n",
        "                \n",
        "            optimizer.zero_grad()\n",
        "            loss.backward()\n",
        "            \n",
        "            # More conservative gradient clipping\n",
        "            torch.nn.utils.clip_grad_norm_(model.parameters(), 1.0)\n",
        "            \n",
        "            optimizer.step()\n",
        "            train_loss += loss.item()\n",
        "            num_train_batches += 1\n",
        "        \n",
        "        # Skip epoch if no valid batches\n",
        "        if num_train_batches == 0:\n",
        "            print(\"WARNING: No valid training batches in this epoch\")\n",
        "            continue\n",
        "            \n",
        "        train_loss /= num_train_batches\n",
        "        \n",
        "        # ---- Validation ----\n",
        "        model.eval()\n",
        "        val_loss = 0\n",
        "        val_mae = 0\n",
        "        val_mse = 0\n",
        "        num_val_batches = 0\n",
        "        \n",
        "        # Sample predictions for debugging\n",
        "        sample_input = None\n",
        "        sample_pred = None\n",
        "        sample_target = None\n",
        "        \n",
        "        with torch.no_grad():\n",
        "            for batch_idx, batch in enumerate(val_dataloader):\n",
        "                batch = batch.to(device)\n",
        "                pred = model(batch)\n",
        "                y = batch.y.view(batch.num_graphs, 60, 2)\n",
        "                \n",
        "                # Store sample for debugging\n",
        "                if batch_idx == 0 and sample_input is None:\n",
        "                    sample_input = batch.x[0].cpu().numpy()\n",
        "                    sample_pred = pred[0].cpu().numpy()\n",
        "                    sample_target = y[0].cpu().numpy()\n",
        "                \n",
        "                # Skip invalid predictions\n",
        "                if torch.isnan(pred).any():\n",
        "                    print(f\"WARNING: NaN detected in predictions during validation\")\n",
        "                    continue\n",
        "                    \n",
        "                batch_loss = criterion(pred, y).item()\n",
        "                val_loss += batch_loss\n",
        "                \n",
        "                # Unnormalize for real-world metrics\n",
        "                pred_unnorm = pred * batch.scale.view(-1, 1, 1)\n",
        "                y_unnorm = y * batch.scale.view(-1, 1, 1)\n",
        "                \n",
        "                val_mae += nn.L1Loss()(pred_unnorm, y_unnorm).item()\n",
        "                val_mse += nn.MSELoss()(pred_unnorm, y_unnorm).item()\n",
        "                \n",
        "                num_val_batches += 1\n",
        "        \n",
        "        # Skip epoch if no valid validation batches\n",
        "        if num_val_batches == 0:\n",
        "            print(\"WARNING: No valid validation batches in this epoch\")\n",
        "            continue\n",
        "            \n",
        "        val_loss /= num_val_batches\n",
        "        val_mae /= num_val_batches\n",
        "        val_mse /= num_val_batches\n",
        "        \n",
        "        # Update learning rate\n",
        "        scheduler.step()\n",
        "        \n",
        "        # Print with more details\n",
        "        tqdm.tqdm.write(\n",
        "            f\"Epoch {epoch:03d} | LR {optimizer.param_groups[0]['lr']:.6f} | \"\n",
        "            f\"Train MSE {train_loss:.4f} | Val MSE {val_loss:.4f} | \"\n",
        "            f\"Val MAE {val_mae:.4f} | Val MSE {val_mse:.4f}\"\n",
        "        )\n",
        "        \n",
        "        # Debug output - first 3 predictions vs targets\n",
        "        if epoch % 5 == 0:\n",
        "            tqdm.tqdm.write(f\"Sample pred first 3 steps: {sample_pred[:3]}\")\n",
        "            tqdm.tqdm.write(f\"Sample target first 3 steps: {sample_target[:3]}\")\n",
        "            \n",
        "            # Check if model weights are changing\n",
        "            if epoch > 0:\n",
        "                weight_change = False\n",
        "                for name, param in model.named_parameters():\n",
        "                    if param.requires_grad:\n",
        "                        initial_param = initial_state_dict[name]\n",
        "                        if not torch.allclose(param, initial_param, rtol=1e-4):\n",
        "                            weight_change = True\n",
        "                            break\n",
        "                if not weight_change:\n",
        "                    tqdm.tqdm.write(\"WARNING: Model weights barely changing!\")\n",
        "        \n",
        "        # Relaxed improvement criterion - consider any improvement\n",
        "        if val_loss < best_val_loss:\n",
        "            tqdm.tqdm.write(f\"Validation improved: {best_val_loss:.6f} -> {val_loss:.6f}\")\n",
        "            best_val_loss = val_loss\n",
        "            no_improvement = 0\n",
        "            torch.save(model.state_dict(), best_model)\n",
        "        else:\n",
        "            no_improvement += 1\n",
        "            if no_improvement >= early_stopping_patience:\n",
        "                print(f\"Early stopping after {epoch+1} epochs without improvement\")\n",
        "                break\n",
        "    \n",
        "    # Load best model before returning\n",
        "    model.load_state_dict(torch.load(best_model))\n",
        "    return model"
      ]
    },
    {
      "cell_type": "code",
      "execution_count": 12,
      "metadata": {},
      "outputs": [],
      "source": [
        "# Example usage\n",
        "def train_and_evaluate_model():\n",
        "    # Create model\n",
        "    model = SimpleLSTM(input_dim=5, hidden_dim=512)\n",
        "    model = model.to(device)\n",
        "    \n",
        "    # Train with improved function\n",
        "    train_improved_model(\n",
        "        model=model,\n",
        "        train_dataloader=train_dataloader,\n",
        "        val_dataloader=val_dataloader,\n",
        "        device=device,\n",
        "        # lr = 0.007 => 8.946\n",
        "        lr=0.005,  # Lower learning rate\n",
        "        patience=20,  # More patience\n",
        "        epochs=150\n",
        "    )\n",
        "    \n",
        "    # Evaluate\n",
        "    model.eval()\n",
        "    test_mse = 0\n",
        "    with torch.no_grad():\n",
        "        for batch in val_dataloader:\n",
        "            batch = batch.to(device)\n",
        "            pred = model(batch)\n",
        "            y = batch.y.view(batch.num_graphs, 60, 2)\n",
        "            \n",
        "            # Unnormalize\n",
        "            pred = pred * batch.scale.view(-1, 1, 1)\n",
        "            y = y * batch.scale.view(-1, 1, 1)\n",
        "            \n",
        "            test_mse += nn.MSELoss()(pred, y).item()\n",
        "    \n",
        "    test_mse /= len(val_dataloader)\n",
        "    print(f\"Val MSE: {test_mse:.4f}\")\n",
        "    \n",
        "    return model"
      ]
    },
    {
      "cell_type": "code",
      "execution_count": 13,
      "metadata": {},
      "outputs": [
        {
          "name": "stderr",
          "output_type": "stream",
          "text": [
            "Epoch:   0%|          | 0/150 [00:00<?, ?epoch/s]/var/folders/w3/lr66s56958q3881y1btpylth0000gn/T/ipykernel_99874/1407810273.py:30: DeprecationWarning: __array_wrap__ must accept context and return_scalar arguments (positionally) in the future. (Deprecated NumPy 2.0)\n",
            "  future = future @ R\n",
            "Epoch:   1%|          | 1/150 [00:25<1:04:28, 25.97s/epoch]"
          ]
        },
        {
          "name": "stdout",
          "output_type": "stream",
          "text": [
            "Epoch 000 | LR 0.004750 | Train MSE 0.1033 | Val MSE 0.0744 | Val MAE 1.2737 | Val MSE 3.6462\n",
            "Sample pred first 3 steps: [[ 0.00992205 -0.04663911]\n",
            " [ 0.01231095 -0.04625532]\n",
            " [ 0.00725001 -0.04788506]]\n",
            "Sample target first 3 steps: [[-1.0263214e-05  5.1069769e-06]\n",
            " [-8.2099714e-06  2.6287930e-06]\n",
            " [ 1.4959690e-05 -1.9491419e-05]]\n",
            "Validation improved: inf -> 0.074411\n"
          ]
        },
        {
          "name": "stderr",
          "output_type": "stream",
          "text": [
            "Epoch:   1%|▏         | 2/150 [00:43<51:28, 20.87s/epoch]  "
          ]
        },
        {
          "name": "stdout",
          "output_type": "stream",
          "text": [
            "Epoch 001 | LR 0.004513 | Train MSE 0.0700 | Val MSE 0.0638 | Val MAE 1.1364 | Val MSE 3.1270\n",
            "Validation improved: 0.074411 -> 0.063817\n"
          ]
        },
        {
          "name": "stderr",
          "output_type": "stream",
          "text": [
            "Epoch:   2%|▏         | 3/150 [01:00<46:50, 19.12s/epoch]"
          ]
        },
        {
          "name": "stdout",
          "output_type": "stream",
          "text": [
            "Epoch 002 | LR 0.004287 | Train MSE 0.0684 | Val MSE 0.0701 | Val MAE 1.1789 | Val MSE 3.4338\n"
          ]
        },
        {
          "name": "stderr",
          "output_type": "stream",
          "text": [
            "Epoch:   3%|▎         | 4/150 [01:17<45:02, 18.51s/epoch]"
          ]
        },
        {
          "name": "stdout",
          "output_type": "stream",
          "text": [
            "Epoch 003 | LR 0.004073 | Train MSE 0.0688 | Val MSE 0.0638 | Val MAE 1.0734 | Val MSE 3.1249\n",
            "Validation improved: 0.063817 -> 0.063773\n"
          ]
        },
        {
          "name": "stderr",
          "output_type": "stream",
          "text": [
            "Epoch:   3%|▎         | 5/150 [01:34<42:59, 17.79s/epoch]"
          ]
        },
        {
          "name": "stdout",
          "output_type": "stream",
          "text": [
            "Epoch 004 | LR 0.003869 | Train MSE 0.5174 | Val MSE 0.0744 | Val MAE 1.3364 | Val MSE 3.6449\n"
          ]
        },
        {
          "name": "stderr",
          "output_type": "stream",
          "text": [
            "Epoch:   4%|▍         | 6/150 [01:51<42:06, 17.55s/epoch]"
          ]
        },
        {
          "name": "stdout",
          "output_type": "stream",
          "text": [
            "Epoch 005 | LR 0.003675 | Train MSE 0.0720 | Val MSE 0.0610 | Val MAE 1.0783 | Val MSE 2.9883\n",
            "Sample pred first 3 steps: [[-0.02520285 -0.06868999]\n",
            " [-0.02745395 -0.06837235]\n",
            " [-0.02728537 -0.06990357]]\n",
            "Sample target first 3 steps: [[-1.0263214e-05  5.1069769e-06]\n",
            " [-8.2099714e-06  2.6287930e-06]\n",
            " [ 1.4959690e-05 -1.9491419e-05]]\n",
            "Validation improved: 0.063773 -> 0.060985\n"
          ]
        },
        {
          "name": "stderr",
          "output_type": "stream",
          "text": [
            "Epoch:   5%|▍         | 7/150 [02:08<41:18, 17.33s/epoch]"
          ]
        },
        {
          "name": "stdout",
          "output_type": "stream",
          "text": [
            "Epoch 006 | LR 0.003492 | Train MSE 0.0685 | Val MSE 0.0603 | Val MAE 1.0824 | Val MSE 2.9567\n",
            "Validation improved: 0.060985 -> 0.060341\n"
          ]
        },
        {
          "name": "stderr",
          "output_type": "stream",
          "text": [
            "Epoch:   5%|▌         | 8/150 [02:24<40:26, 17.08s/epoch]"
          ]
        },
        {
          "name": "stdout",
          "output_type": "stream",
          "text": [
            "Epoch 007 | LR 0.003317 | Train MSE 0.0639 | Val MSE 0.0555 | Val MAE 1.0790 | Val MSE 2.7202\n",
            "Validation improved: 0.060341 -> 0.055515\n"
          ]
        },
        {
          "name": "stderr",
          "output_type": "stream",
          "text": [
            "Epoch:   6%|▌         | 9/150 [02:41<39:38, 16.87s/epoch]"
          ]
        },
        {
          "name": "stdout",
          "output_type": "stream",
          "text": [
            "Epoch 008 | LR 0.003151 | Train MSE 0.0601 | Val MSE 0.0509 | Val MAE 1.0113 | Val MSE 2.4963\n",
            "Validation improved: 0.055515 -> 0.050945\n"
          ]
        },
        {
          "name": "stderr",
          "output_type": "stream",
          "text": [
            "Epoch:   7%|▋         | 10/150 [02:58<39:45, 17.04s/epoch]"
          ]
        },
        {
          "name": "stdout",
          "output_type": "stream",
          "text": [
            "Epoch 009 | LR 0.002994 | Train MSE 0.0576 | Val MSE 0.0532 | Val MAE 0.9599 | Val MSE 2.6074\n"
          ]
        },
        {
          "name": "stderr",
          "output_type": "stream",
          "text": [
            "Epoch:   7%|▋         | 11/150 [03:14<38:53, 16.78s/epoch]"
          ]
        },
        {
          "name": "stdout",
          "output_type": "stream",
          "text": [
            "Epoch 010 | LR 0.002844 | Train MSE 0.0565 | Val MSE 0.0475 | Val MAE 0.9199 | Val MSE 2.3257\n",
            "Sample pred first 3 steps: [[ 0.04619426 -0.05129036]\n",
            " [ 0.04778666 -0.04876822]\n",
            " [ 0.04918512 -0.04919636]]\n",
            "Sample target first 3 steps: [[-1.0263214e-05  5.1069769e-06]\n",
            " [-8.2099714e-06  2.6287930e-06]\n",
            " [ 1.4959690e-05 -1.9491419e-05]]\n",
            "Validation improved: 0.050945 -> 0.047464\n"
          ]
        },
        {
          "name": "stderr",
          "output_type": "stream",
          "text": [
            "Epoch:   8%|▊         | 12/150 [03:32<38:49, 16.88s/epoch]"
          ]
        },
        {
          "name": "stdout",
          "output_type": "stream",
          "text": [
            "Epoch 011 | LR 0.002702 | Train MSE 0.0537 | Val MSE 0.0462 | Val MAE 0.9179 | Val MSE 2.2616\n",
            "Validation improved: 0.047464 -> 0.046155\n"
          ]
        },
        {
          "name": "stderr",
          "output_type": "stream",
          "text": [
            "Epoch:   9%|▊         | 13/150 [03:48<38:08, 16.70s/epoch]"
          ]
        },
        {
          "name": "stdout",
          "output_type": "stream",
          "text": [
            "Epoch 012 | LR 0.002567 | Train MSE 0.0524 | Val MSE 0.0447 | Val MAE 0.8885 | Val MSE 2.1916\n",
            "Validation improved: 0.046155 -> 0.044727\n"
          ]
        },
        {
          "name": "stderr",
          "output_type": "stream",
          "text": [
            "Epoch:   9%|▉         | 14/150 [04:05<38:22, 16.93s/epoch]"
          ]
        },
        {
          "name": "stdout",
          "output_type": "stream",
          "text": [
            "Epoch 013 | LR 0.002438 | Train MSE 0.0520 | Val MSE 0.0469 | Val MAE 0.9059 | Val MSE 2.3001\n"
          ]
        },
        {
          "name": "stderr",
          "output_type": "stream",
          "text": [
            "Epoch:  10%|█         | 15/150 [04:22<37:46, 16.79s/epoch]"
          ]
        },
        {
          "name": "stdout",
          "output_type": "stream",
          "text": [
            "Epoch 014 | LR 0.002316 | Train MSE 0.0517 | Val MSE 0.0433 | Val MAE 0.8659 | Val MSE 2.1240\n",
            "Validation improved: 0.044727 -> 0.043347\n"
          ]
        },
        {
          "name": "stderr",
          "output_type": "stream",
          "text": [
            "Epoch:  11%|█         | 16/150 [04:39<37:44, 16.90s/epoch]"
          ]
        },
        {
          "name": "stdout",
          "output_type": "stream",
          "text": [
            "Epoch 015 | LR 0.002201 | Train MSE 0.0496 | Val MSE 0.0426 | Val MAE 0.8819 | Val MSE 2.0881\n",
            "Sample pred first 3 steps: [[-0.02741403 -0.05114945]\n",
            " [-0.02912626 -0.04875872]\n",
            " [-0.03017307 -0.04616387]]\n",
            "Sample target first 3 steps: [[-1.0263214e-05  5.1069769e-06]\n",
            " [-8.2099714e-06  2.6287930e-06]\n",
            " [ 1.4959690e-05 -1.9491419e-05]]\n",
            "Validation improved: 0.043347 -> 0.042614\n"
          ]
        },
        {
          "name": "stderr",
          "output_type": "stream",
          "text": [
            "Epoch:  11%|█▏        | 17/150 [04:55<37:05, 16.73s/epoch]"
          ]
        },
        {
          "name": "stdout",
          "output_type": "stream",
          "text": [
            "Epoch 016 | LR 0.002091 | Train MSE 0.0492 | Val MSE 0.0410 | Val MAE 0.8086 | Val MSE 2.0081\n",
            "Validation improved: 0.042614 -> 0.040981\n"
          ]
        },
        {
          "name": "stderr",
          "output_type": "stream",
          "text": [
            "Epoch:  12%|█▏        | 18/150 [05:12<36:32, 16.61s/epoch]"
          ]
        },
        {
          "name": "stdout",
          "output_type": "stream",
          "text": [
            "Epoch 017 | LR 0.001986 | Train MSE 0.0486 | Val MSE 0.0408 | Val MAE 0.8148 | Val MSE 1.9980\n",
            "Validation improved: 0.040981 -> 0.040776\n"
          ]
        },
        {
          "name": "stderr",
          "output_type": "stream",
          "text": [
            "Epoch:  13%|█▎        | 19/150 [05:28<36:01, 16.50s/epoch]"
          ]
        },
        {
          "name": "stdout",
          "output_type": "stream",
          "text": [
            "Epoch 018 | LR 0.001887 | Train MSE 0.0478 | Val MSE 0.0488 | Val MAE 0.9700 | Val MSE 2.3891\n"
          ]
        },
        {
          "name": "stderr",
          "output_type": "stream",
          "text": [
            "Epoch:  13%|█▎        | 20/150 [05:45<36:12, 16.71s/epoch]"
          ]
        },
        {
          "name": "stdout",
          "output_type": "stream",
          "text": [
            "Epoch 019 | LR 0.001792 | Train MSE 0.0478 | Val MSE 0.0379 | Val MAE 0.7917 | Val MSE 1.8592\n",
            "Validation improved: 0.040776 -> 0.037943\n"
          ]
        },
        {
          "name": "stderr",
          "output_type": "stream",
          "text": [
            "Epoch:  14%|█▍        | 21/150 [06:01<35:35, 16.56s/epoch]"
          ]
        },
        {
          "name": "stdout",
          "output_type": "stream",
          "text": [
            "Epoch 020 | LR 0.001703 | Train MSE 0.0454 | Val MSE 0.0395 | Val MAE 0.8157 | Val MSE 1.9369\n",
            "Sample pred first 3 steps: [[-0.00889807 -0.03894227]\n",
            " [-0.00970895 -0.03833549]\n",
            " [-0.0098531  -0.03717237]]\n",
            "Sample target first 3 steps: [[-1.0263214e-05  5.1069769e-06]\n",
            " [-8.2099714e-06  2.6287930e-06]\n",
            " [ 1.4959690e-05 -1.9491419e-05]]\n"
          ]
        },
        {
          "name": "stderr",
          "output_type": "stream",
          "text": [
            "Epoch:  15%|█▍        | 22/150 [06:19<35:59, 16.87s/epoch]"
          ]
        },
        {
          "name": "stdout",
          "output_type": "stream",
          "text": [
            "Epoch 021 | LR 0.001618 | Train MSE 0.0449 | Val MSE 0.0391 | Val MAE 0.8263 | Val MSE 1.9167\n"
          ]
        },
        {
          "name": "stderr",
          "output_type": "stream",
          "text": [
            "Epoch:  15%|█▌        | 23/150 [06:35<35:19, 16.69s/epoch]"
          ]
        },
        {
          "name": "stdout",
          "output_type": "stream",
          "text": [
            "Epoch 022 | LR 0.001537 | Train MSE 0.0445 | Val MSE 0.0378 | Val MAE 0.7825 | Val MSE 1.8531\n",
            "Validation improved: 0.037943 -> 0.037819\n"
          ]
        },
        {
          "name": "stderr",
          "output_type": "stream",
          "text": [
            "Epoch:  16%|█▌        | 24/150 [06:52<35:21, 16.84s/epoch]"
          ]
        },
        {
          "name": "stdout",
          "output_type": "stream",
          "text": [
            "Epoch 023 | LR 0.001460 | Train MSE 0.0439 | Val MSE 0.0376 | Val MAE 0.7606 | Val MSE 1.8436\n",
            "Validation improved: 0.037819 -> 0.037625\n"
          ]
        },
        {
          "name": "stderr",
          "output_type": "stream",
          "text": [
            "Epoch:  17%|█▋        | 25/150 [07:08<34:28, 16.55s/epoch]"
          ]
        },
        {
          "name": "stdout",
          "output_type": "stream",
          "text": [
            "Epoch 024 | LR 0.001387 | Train MSE 0.0437 | Val MSE 0.0389 | Val MAE 0.8041 | Val MSE 1.9083\n"
          ]
        },
        {
          "name": "stderr",
          "output_type": "stream",
          "text": [
            "Epoch:  17%|█▋        | 26/150 [07:25<34:20, 16.62s/epoch]"
          ]
        },
        {
          "name": "stdout",
          "output_type": "stream",
          "text": [
            "Epoch 025 | LR 0.001318 | Train MSE 0.0432 | Val MSE 0.0379 | Val MAE 0.7691 | Val MSE 1.8562\n",
            "Sample pred first 3 steps: [[ 0.00541966 -0.00831529]\n",
            " [ 0.00445266 -0.00721668]\n",
            " [ 0.00459507 -0.00587184]]\n",
            "Sample target first 3 steps: [[-1.0263214e-05  5.1069769e-06]\n",
            " [-8.2099714e-06  2.6287930e-06]\n",
            " [ 1.4959690e-05 -1.9491419e-05]]\n"
          ]
        },
        {
          "name": "stderr",
          "output_type": "stream",
          "text": [
            "Epoch:  18%|█▊        | 27/150 [07:42<34:05, 16.63s/epoch]"
          ]
        },
        {
          "name": "stdout",
          "output_type": "stream",
          "text": [
            "Epoch 026 | LR 0.001252 | Train MSE 0.0431 | Val MSE 0.0379 | Val MAE 0.7765 | Val MSE 1.8569\n"
          ]
        },
        {
          "name": "stderr",
          "output_type": "stream",
          "text": [
            "Epoch:  19%|█▊        | 28/150 [07:58<33:36, 16.53s/epoch]"
          ]
        },
        {
          "name": "stdout",
          "output_type": "stream",
          "text": [
            "Epoch 027 | LR 0.001189 | Train MSE 0.0421 | Val MSE 0.0375 | Val MAE 0.7691 | Val MSE 1.8370\n",
            "Validation improved: 0.037625 -> 0.037489\n"
          ]
        },
        {
          "name": "stderr",
          "output_type": "stream",
          "text": [
            "Epoch:  19%|█▉        | 29/150 [08:14<33:02, 16.39s/epoch]"
          ]
        },
        {
          "name": "stdout",
          "output_type": "stream",
          "text": [
            "Epoch 028 | LR 0.001130 | Train MSE 0.0418 | Val MSE 0.0388 | Val MAE 0.7996 | Val MSE 1.8997\n"
          ]
        },
        {
          "name": "stderr",
          "output_type": "stream",
          "text": [
            "Epoch:  20%|██        | 30/150 [08:30<32:48, 16.40s/epoch]"
          ]
        },
        {
          "name": "stdout",
          "output_type": "stream",
          "text": [
            "Epoch 029 | LR 0.001073 | Train MSE 0.0420 | Val MSE 0.0369 | Val MAE 0.7615 | Val MSE 1.8086\n",
            "Validation improved: 0.037489 -> 0.036910\n"
          ]
        },
        {
          "name": "stderr",
          "output_type": "stream",
          "text": [
            "Epoch:  21%|██        | 31/150 [08:46<32:20, 16.31s/epoch]"
          ]
        },
        {
          "name": "stdout",
          "output_type": "stream",
          "text": [
            "Epoch 030 | LR 0.001020 | Train MSE 0.0416 | Val MSE 0.0390 | Val MAE 0.7873 | Val MSE 1.9093\n",
            "Sample pred first 3 steps: [[0.0094606  0.01331409]\n",
            " [0.00830241 0.01275019]\n",
            " [0.00735157 0.0118613 ]]\n",
            "Sample target first 3 steps: [[-1.0263214e-05  5.1069769e-06]\n",
            " [-8.2099714e-06  2.6287930e-06]\n",
            " [ 1.4959690e-05 -1.9491419e-05]]\n"
          ]
        },
        {
          "name": "stderr",
          "output_type": "stream",
          "text": [
            "Epoch:  21%|██▏       | 32/150 [09:03<32:01, 16.28s/epoch]"
          ]
        },
        {
          "name": "stdout",
          "output_type": "stream",
          "text": [
            "Epoch 031 | LR 0.000969 | Train MSE 0.0408 | Val MSE 0.0376 | Val MAE 0.7709 | Val MSE 1.8405\n"
          ]
        },
        {
          "name": "stderr",
          "output_type": "stream",
          "text": [
            "Epoch:  22%|██▏       | 33/150 [09:19<31:39, 16.23s/epoch]"
          ]
        },
        {
          "name": "stdout",
          "output_type": "stream",
          "text": [
            "Epoch 032 | LR 0.000920 | Train MSE 0.0411 | Val MSE 0.0376 | Val MAE 0.7638 | Val MSE 1.8412\n"
          ]
        },
        {
          "name": "stderr",
          "output_type": "stream",
          "text": [
            "Epoch:  23%|██▎       | 34/150 [09:36<32:03, 16.59s/epoch]"
          ]
        },
        {
          "name": "stdout",
          "output_type": "stream",
          "text": [
            "Epoch 033 | LR 0.000874 | Train MSE 0.0409 | Val MSE 0.0378 | Val MAE 0.7523 | Val MSE 1.8498\n"
          ]
        },
        {
          "name": "stderr",
          "output_type": "stream",
          "text": [
            "Epoch:  23%|██▎       | 35/150 [09:54<32:33, 16.99s/epoch]"
          ]
        },
        {
          "name": "stdout",
          "output_type": "stream",
          "text": [
            "Epoch 034 | LR 0.000830 | Train MSE 0.0402 | Val MSE 0.0366 | Val MAE 0.7376 | Val MSE 1.7911\n",
            "Validation improved: 0.036910 -> 0.036553\n"
          ]
        },
        {
          "name": "stderr",
          "output_type": "stream",
          "text": [
            "Epoch:  24%|██▍       | 36/150 [10:11<32:14, 16.97s/epoch]"
          ]
        },
        {
          "name": "stdout",
          "output_type": "stream",
          "text": [
            "Epoch 035 | LR 0.000789 | Train MSE 0.0406 | Val MSE 0.0375 | Val MAE 0.7666 | Val MSE 1.8399\n",
            "Sample pred first 3 steps: [[0.01489472 0.00157697]\n",
            " [0.0138477  0.00075525]\n",
            " [0.01354785 0.00089134]]\n",
            "Sample target first 3 steps: [[-1.0263214e-05  5.1069769e-06]\n",
            " [-8.2099714e-06  2.6287930e-06]\n",
            " [ 1.4959690e-05 -1.9491419e-05]]\n"
          ]
        },
        {
          "name": "stderr",
          "output_type": "stream",
          "text": [
            "Epoch:  25%|██▍       | 37/150 [10:28<31:56, 16.96s/epoch]"
          ]
        },
        {
          "name": "stdout",
          "output_type": "stream",
          "text": [
            "Epoch 036 | LR 0.000749 | Train MSE 0.0400 | Val MSE 0.0368 | Val MAE 0.7491 | Val MSE 1.8020\n"
          ]
        },
        {
          "name": "stderr",
          "output_type": "stream",
          "text": [
            "Epoch:  25%|██▌       | 38/150 [10:45<31:26, 16.85s/epoch]"
          ]
        },
        {
          "name": "stdout",
          "output_type": "stream",
          "text": [
            "Epoch 037 | LR 0.000712 | Train MSE 0.0394 | Val MSE 0.0367 | Val MAE 0.7654 | Val MSE 1.7982\n"
          ]
        },
        {
          "name": "stderr",
          "output_type": "stream",
          "text": [
            "Epoch:  26%|██▌       | 39/150 [11:00<30:28, 16.48s/epoch]"
          ]
        },
        {
          "name": "stdout",
          "output_type": "stream",
          "text": [
            "Epoch 038 | LR 0.000676 | Train MSE 0.0393 | Val MSE 0.0370 | Val MAE 0.7892 | Val MSE 1.8148\n"
          ]
        },
        {
          "name": "stderr",
          "output_type": "stream",
          "text": [
            "Epoch:  27%|██▋       | 40/150 [11:16<29:39, 16.17s/epoch]"
          ]
        },
        {
          "name": "stdout",
          "output_type": "stream",
          "text": [
            "Epoch 039 | LR 0.000643 | Train MSE 0.0396 | Val MSE 0.0360 | Val MAE 0.7351 | Val MSE 1.7631\n",
            "Validation improved: 0.036553 -> 0.035981\n"
          ]
        },
        {
          "name": "stderr",
          "output_type": "stream",
          "text": [
            "Epoch:  27%|██▋       | 41/150 [11:31<29:11, 16.07s/epoch]"
          ]
        },
        {
          "name": "stdout",
          "output_type": "stream",
          "text": [
            "Epoch 040 | LR 0.000610 | Train MSE 0.0395 | Val MSE 0.0366 | Val MAE 0.7524 | Val MSE 1.7924\n",
            "Sample pred first 3 steps: [[ 0.00427895 -0.01091008]\n",
            " [ 0.00310627 -0.01016471]\n",
            " [ 0.00241658 -0.0098084 ]]\n",
            "Sample target first 3 steps: [[-1.0263214e-05  5.1069769e-06]\n",
            " [-8.2099714e-06  2.6287930e-06]\n",
            " [ 1.4959690e-05 -1.9491419e-05]]\n"
          ]
        },
        {
          "name": "stderr",
          "output_type": "stream",
          "text": [
            "Epoch:  28%|██▊       | 42/150 [11:47<28:39, 15.92s/epoch]"
          ]
        },
        {
          "name": "stdout",
          "output_type": "stream",
          "text": [
            "Epoch 041 | LR 0.000580 | Train MSE 0.0392 | Val MSE 0.0363 | Val MAE 0.7430 | Val MSE 1.7807\n"
          ]
        },
        {
          "name": "stderr",
          "output_type": "stream",
          "text": [
            "Epoch:  29%|██▊       | 43/150 [12:03<28:15, 15.85s/epoch]"
          ]
        },
        {
          "name": "stdout",
          "output_type": "stream",
          "text": [
            "Epoch 042 | LR 0.000551 | Train MSE 0.0387 | Val MSE 0.0365 | Val MAE 0.7316 | Val MSE 1.7887\n"
          ]
        },
        {
          "name": "stderr",
          "output_type": "stream",
          "text": [
            "Epoch:  29%|██▉       | 44/150 [12:18<27:53, 15.79s/epoch]"
          ]
        },
        {
          "name": "stdout",
          "output_type": "stream",
          "text": [
            "Epoch 043 | LR 0.000523 | Train MSE 0.0389 | Val MSE 0.0357 | Val MAE 0.7309 | Val MSE 1.7501\n",
            "Validation improved: 0.035981 -> 0.035716\n"
          ]
        },
        {
          "name": "stderr",
          "output_type": "stream",
          "text": [
            "Epoch:  30%|███       | 45/150 [12:36<28:25, 16.24s/epoch]"
          ]
        },
        {
          "name": "stdout",
          "output_type": "stream",
          "text": [
            "Epoch 044 | LR 0.000497 | Train MSE 0.0385 | Val MSE 0.0358 | Val MAE 0.7342 | Val MSE 1.7555\n"
          ]
        },
        {
          "name": "stderr",
          "output_type": "stream",
          "text": [
            "Epoch:  31%|███       | 46/150 [12:53<28:35, 16.49s/epoch]"
          ]
        },
        {
          "name": "stdout",
          "output_type": "stream",
          "text": [
            "Epoch 045 | LR 0.000472 | Train MSE 0.0383 | Val MSE 0.0348 | Val MAE 0.7138 | Val MSE 1.7069\n",
            "Sample pred first 3 steps: [[ 0.00129613 -0.00150009]\n",
            " [ 0.00080091 -0.00032061]\n",
            " [ 0.00067473  0.00117258]]\n",
            "Sample target first 3 steps: [[-1.0263214e-05  5.1069769e-06]\n",
            " [-8.2099714e-06  2.6287930e-06]\n",
            " [ 1.4959690e-05 -1.9491419e-05]]\n",
            "Validation improved: 0.035716 -> 0.034835\n"
          ]
        },
        {
          "name": "stderr",
          "output_type": "stream",
          "text": [
            "Epoch:  31%|███▏      | 47/150 [13:10<28:34, 16.65s/epoch]"
          ]
        },
        {
          "name": "stdout",
          "output_type": "stream",
          "text": [
            "Epoch 046 | LR 0.000449 | Train MSE 0.0385 | Val MSE 0.0353 | Val MAE 0.7293 | Val MSE 1.7279\n"
          ]
        },
        {
          "name": "stderr",
          "output_type": "stream",
          "text": [
            "Epoch:  32%|███▏      | 48/150 [13:26<28:09, 16.56s/epoch]"
          ]
        },
        {
          "name": "stdout",
          "output_type": "stream",
          "text": [
            "Epoch 047 | LR 0.000426 | Train MSE 0.0379 | Val MSE 0.0352 | Val MAE 0.7278 | Val MSE 1.7242\n"
          ]
        },
        {
          "name": "stderr",
          "output_type": "stream",
          "text": [
            "Epoch:  33%|███▎      | 49/150 [13:43<28:15, 16.78s/epoch]"
          ]
        },
        {
          "name": "stdout",
          "output_type": "stream",
          "text": [
            "Epoch 048 | LR 0.000405 | Train MSE 0.0380 | Val MSE 0.0354 | Val MAE 0.7162 | Val MSE 1.7370\n"
          ]
        },
        {
          "name": "stderr",
          "output_type": "stream",
          "text": [
            "Epoch:  33%|███▎      | 50/150 [14:00<27:45, 16.66s/epoch]"
          ]
        },
        {
          "name": "stdout",
          "output_type": "stream",
          "text": [
            "Epoch 049 | LR 0.000385 | Train MSE 0.0376 | Val MSE 0.0352 | Val MAE 0.7326 | Val MSE 1.7259\n"
          ]
        },
        {
          "name": "stderr",
          "output_type": "stream",
          "text": [
            "Epoch:  34%|███▍      | 51/150 [14:17<27:37, 16.74s/epoch]"
          ]
        },
        {
          "name": "stdout",
          "output_type": "stream",
          "text": [
            "Epoch 050 | LR 0.000365 | Train MSE 0.0376 | Val MSE 0.0353 | Val MAE 0.7130 | Val MSE 1.7306\n",
            "Sample pred first 3 steps: [[-0.00335962 -0.01554899]\n",
            " [-0.00377673 -0.0144316 ]\n",
            " [-0.00407497 -0.01349828]]\n",
            "Sample target first 3 steps: [[-1.0263214e-05  5.1069769e-06]\n",
            " [-8.2099714e-06  2.6287930e-06]\n",
            " [ 1.4959690e-05 -1.9491419e-05]]\n"
          ]
        },
        {
          "name": "stderr",
          "output_type": "stream",
          "text": [
            "Epoch:  35%|███▍      | 52/150 [14:33<27:03, 16.57s/epoch]"
          ]
        },
        {
          "name": "stdout",
          "output_type": "stream",
          "text": [
            "Epoch 051 | LR 0.000347 | Train MSE 0.0375 | Val MSE 0.0355 | Val MAE 0.7408 | Val MSE 1.7404\n"
          ]
        },
        {
          "name": "stderr",
          "output_type": "stream",
          "text": [
            "Epoch:  35%|███▌      | 53/150 [14:50<26:59, 16.70s/epoch]"
          ]
        },
        {
          "name": "stdout",
          "output_type": "stream",
          "text": [
            "Epoch 052 | LR 0.000330 | Train MSE 0.0372 | Val MSE 0.0354 | Val MAE 0.7312 | Val MSE 1.7331\n"
          ]
        },
        {
          "name": "stderr",
          "output_type": "stream",
          "text": [
            "Epoch:  36%|███▌      | 54/150 [15:06<26:26, 16.53s/epoch]"
          ]
        },
        {
          "name": "stdout",
          "output_type": "stream",
          "text": [
            "Epoch 053 | LR 0.000313 | Train MSE 0.0371 | Val MSE 0.0350 | Val MAE 0.7201 | Val MSE 1.7132\n"
          ]
        },
        {
          "name": "stderr",
          "output_type": "stream",
          "text": [
            "Epoch:  37%|███▋      | 55/150 [15:23<26:30, 16.74s/epoch]"
          ]
        },
        {
          "name": "stdout",
          "output_type": "stream",
          "text": [
            "Epoch 054 | LR 0.000298 | Train MSE 0.0370 | Val MSE 0.0350 | Val MAE 0.7141 | Val MSE 1.7142\n"
          ]
        },
        {
          "name": "stderr",
          "output_type": "stream",
          "text": [
            "Epoch:  37%|███▋      | 56/150 [15:40<26:03, 16.64s/epoch]"
          ]
        },
        {
          "name": "stdout",
          "output_type": "stream",
          "text": [
            "Epoch 055 | LR 0.000283 | Train MSE 0.0370 | Val MSE 0.0349 | Val MAE 0.7085 | Val MSE 1.7120\n",
            "Sample pred first 3 steps: [[ 0.00280163 -0.01758193]\n",
            " [ 0.00182379 -0.01675399]\n",
            " [ 0.00125464 -0.01619411]]\n",
            "Sample target first 3 steps: [[-1.0263214e-05  5.1069769e-06]\n",
            " [-8.2099714e-06  2.6287930e-06]\n",
            " [ 1.4959690e-05 -1.9491419e-05]]\n"
          ]
        },
        {
          "name": "stderr",
          "output_type": "stream",
          "text": [
            "Epoch:  38%|███▊      | 57/150 [15:56<25:34, 16.50s/epoch]"
          ]
        },
        {
          "name": "stdout",
          "output_type": "stream",
          "text": [
            "Epoch 056 | LR 0.000269 | Train MSE 0.0369 | Val MSE 0.0353 | Val MAE 0.7099 | Val MSE 1.7280\n"
          ]
        },
        {
          "name": "stderr",
          "output_type": "stream",
          "text": [
            "Epoch:  39%|███▊      | 58/150 [16:12<25:17, 16.49s/epoch]"
          ]
        },
        {
          "name": "stdout",
          "output_type": "stream",
          "text": [
            "Epoch 057 | LR 0.000255 | Train MSE 0.0367 | Val MSE 0.0349 | Val MAE 0.7144 | Val MSE 1.7080\n"
          ]
        },
        {
          "name": "stderr",
          "output_type": "stream",
          "text": [
            "Epoch:  39%|███▉      | 59/150 [16:29<25:09, 16.58s/epoch]"
          ]
        },
        {
          "name": "stdout",
          "output_type": "stream",
          "text": [
            "Epoch 058 | LR 0.000242 | Train MSE 0.0366 | Val MSE 0.0348 | Val MAE 0.7049 | Val MSE 1.7065\n",
            "Validation improved: 0.034835 -> 0.034826\n"
          ]
        },
        {
          "name": "stderr",
          "output_type": "stream",
          "text": [
            "Epoch:  40%|████      | 60/150 [16:46<24:53, 16.59s/epoch]"
          ]
        },
        {
          "name": "stdout",
          "output_type": "stream",
          "text": [
            "Epoch 059 | LR 0.000230 | Train MSE 0.0368 | Val MSE 0.0348 | Val MAE 0.7062 | Val MSE 1.7075\n"
          ]
        },
        {
          "name": "stderr",
          "output_type": "stream",
          "text": [
            "Epoch:  41%|████      | 61/150 [17:02<24:33, 16.56s/epoch]"
          ]
        },
        {
          "name": "stdout",
          "output_type": "stream",
          "text": [
            "Epoch 060 | LR 0.000219 | Train MSE 0.0365 | Val MSE 0.0350 | Val MAE 0.7232 | Val MSE 1.7162\n",
            "Sample pred first 3 steps: [[ 5.0927326e-04 -8.1249084e-03]\n",
            " [ 1.9282475e-04 -7.8815129e-03]\n",
            " [-1.2870878e-05 -7.5734816e-03]]\n",
            "Sample target first 3 steps: [[-1.0263214e-05  5.1069769e-06]\n",
            " [-8.2099714e-06  2.6287930e-06]\n",
            " [ 1.4959690e-05 -1.9491419e-05]]\n"
          ]
        },
        {
          "name": "stderr",
          "output_type": "stream",
          "text": [
            "Epoch:  41%|████▏     | 62/150 [17:19<24:27, 16.68s/epoch]"
          ]
        },
        {
          "name": "stdout",
          "output_type": "stream",
          "text": [
            "Epoch 061 | LR 0.000208 | Train MSE 0.0363 | Val MSE 0.0346 | Val MAE 0.7093 | Val MSE 1.6963\n",
            "Validation improved: 0.034826 -> 0.034619\n"
          ]
        },
        {
          "name": "stderr",
          "output_type": "stream",
          "text": [
            "Epoch:  42%|████▏     | 63/150 [17:36<24:14, 16.71s/epoch]"
          ]
        },
        {
          "name": "stdout",
          "output_type": "stream",
          "text": [
            "Epoch 062 | LR 0.000197 | Train MSE 0.0366 | Val MSE 0.0353 | Val MAE 0.7249 | Val MSE 1.7300\n"
          ]
        },
        {
          "name": "stderr",
          "output_type": "stream",
          "text": [
            "Epoch:  43%|████▎     | 64/150 [17:53<24:15, 16.92s/epoch]"
          ]
        },
        {
          "name": "stdout",
          "output_type": "stream",
          "text": [
            "Epoch 063 | LR 0.000188 | Train MSE 0.0364 | Val MSE 0.0349 | Val MAE 0.7177 | Val MSE 1.7112\n"
          ]
        },
        {
          "name": "stderr",
          "output_type": "stream",
          "text": [
            "Epoch:  43%|████▎     | 65/150 [18:10<23:49, 16.81s/epoch]"
          ]
        },
        {
          "name": "stdout",
          "output_type": "stream",
          "text": [
            "Epoch 064 | LR 0.000178 | Train MSE 0.0365 | Val MSE 0.0348 | Val MAE 0.7126 | Val MSE 1.7064\n"
          ]
        },
        {
          "name": "stderr",
          "output_type": "stream",
          "text": [
            "Epoch:  44%|████▍     | 66/150 [18:26<23:18, 16.65s/epoch]"
          ]
        },
        {
          "name": "stdout",
          "output_type": "stream",
          "text": [
            "Epoch 065 | LR 0.000169 | Train MSE 0.0363 | Val MSE 0.0347 | Val MAE 0.7101 | Val MSE 1.6980\n",
            "Sample pred first 3 steps: [[ 3.6428124e-04  2.8800839e-03]\n",
            " [-3.8877130e-05  3.7846728e-03]\n",
            " [-2.7683005e-04  4.6325605e-03]]\n",
            "Sample target first 3 steps: [[-1.0263214e-05  5.1069769e-06]\n",
            " [-8.2099714e-06  2.6287930e-06]\n",
            " [ 1.4959690e-05 -1.9491419e-05]]\n"
          ]
        },
        {
          "name": "stderr",
          "output_type": "stream",
          "text": [
            "Epoch:  45%|████▍     | 67/150 [18:42<22:43, 16.42s/epoch]"
          ]
        },
        {
          "name": "stdout",
          "output_type": "stream",
          "text": [
            "Epoch 066 | LR 0.000161 | Train MSE 0.0359 | Val MSE 0.0345 | Val MAE 0.7049 | Val MSE 1.6886\n",
            "Validation improved: 0.034619 -> 0.034460\n"
          ]
        },
        {
          "name": "stderr",
          "output_type": "stream",
          "text": [
            "Epoch:  45%|████▌     | 68/150 [18:57<21:52, 16.01s/epoch]"
          ]
        },
        {
          "name": "stdout",
          "output_type": "stream",
          "text": [
            "Epoch 067 | LR 0.000153 | Train MSE 0.0361 | Val MSE 0.0344 | Val MAE 0.7043 | Val MSE 1.6870\n",
            "Validation improved: 0.034460 -> 0.034428\n"
          ]
        },
        {
          "name": "stderr",
          "output_type": "stream",
          "text": [
            "Epoch:  46%|████▌     | 69/150 [19:07<19:13, 14.24s/epoch]"
          ]
        },
        {
          "name": "stdout",
          "output_type": "stream",
          "text": [
            "Epoch 068 | LR 0.000145 | Train MSE 0.0360 | Val MSE 0.0343 | Val MAE 0.7090 | Val MSE 1.6810\n",
            "Validation improved: 0.034428 -> 0.034307\n"
          ]
        },
        {
          "name": "stderr",
          "output_type": "stream",
          "text": [
            "Epoch:  47%|████▋     | 70/150 [19:17<17:04, 12.80s/epoch]"
          ]
        },
        {
          "name": "stdout",
          "output_type": "stream",
          "text": [
            "Epoch 069 | LR 0.000138 | Train MSE 0.0353 | Val MSE 0.0346 | Val MAE 0.7055 | Val MSE 1.6960\n"
          ]
        },
        {
          "name": "stderr",
          "output_type": "stream",
          "text": [
            "Epoch:  47%|████▋     | 71/150 [19:26<15:36, 11.86s/epoch]"
          ]
        },
        {
          "name": "stdout",
          "output_type": "stream",
          "text": [
            "Epoch 070 | LR 0.000131 | Train MSE 0.0359 | Val MSE 0.0346 | Val MAE 0.7100 | Val MSE 1.6963\n",
            "Sample pred first 3 steps: [[-0.0005482  -0.00989815]\n",
            " [-0.00031289 -0.00955626]\n",
            " [-0.000378   -0.00904732]]\n",
            "Sample target first 3 steps: [[-1.0263214e-05  5.1069769e-06]\n",
            " [-8.2099714e-06  2.6287930e-06]\n",
            " [ 1.4959690e-05 -1.9491419e-05]]\n"
          ]
        },
        {
          "name": "stderr",
          "output_type": "stream",
          "text": [
            "Epoch:  48%|████▊     | 72/150 [19:36<14:43, 11.33s/epoch]"
          ]
        },
        {
          "name": "stdout",
          "output_type": "stream",
          "text": [
            "Epoch 071 | LR 0.000124 | Train MSE 0.0354 | Val MSE 0.0346 | Val MAE 0.7073 | Val MSE 1.6935\n"
          ]
        },
        {
          "name": "stderr",
          "output_type": "stream",
          "text": [
            "Epoch:  49%|████▊     | 73/150 [19:48<14:33, 11.34s/epoch]"
          ]
        },
        {
          "name": "stdout",
          "output_type": "stream",
          "text": [
            "Epoch 072 | LR 0.000118 | Train MSE 0.0358 | Val MSE 0.0346 | Val MAE 0.7069 | Val MSE 1.6939\n"
          ]
        },
        {
          "name": "stderr",
          "output_type": "stream",
          "text": [
            "Epoch:  49%|████▉     | 74/150 [19:58<13:56, 11.01s/epoch]"
          ]
        },
        {
          "name": "stdout",
          "output_type": "stream",
          "text": [
            "Epoch 073 | LR 0.000112 | Train MSE 0.0357 | Val MSE 0.0345 | Val MAE 0.7023 | Val MSE 1.6895\n"
          ]
        },
        {
          "name": "stderr",
          "output_type": "stream",
          "text": [
            "Epoch:  50%|█████     | 75/150 [20:08<13:24, 10.72s/epoch]"
          ]
        },
        {
          "name": "stdout",
          "output_type": "stream",
          "text": [
            "Epoch 074 | LR 0.000107 | Train MSE 0.0355 | Val MSE 0.0347 | Val MAE 0.7072 | Val MSE 1.6981\n"
          ]
        },
        {
          "name": "stderr",
          "output_type": "stream",
          "text": [
            "Epoch:  51%|█████     | 76/150 [20:18<12:57, 10.50s/epoch]"
          ]
        },
        {
          "name": "stdout",
          "output_type": "stream",
          "text": [
            "Epoch 075 | LR 0.000101 | Train MSE 0.0357 | Val MSE 0.0347 | Val MAE 0.7062 | Val MSE 1.7022\n",
            "Sample pred first 3 steps: [[ 0.01003844 -0.0128159 ]\n",
            " [ 0.00964749 -0.01202324]\n",
            " [ 0.00924278 -0.0112793 ]]\n",
            "Sample target first 3 steps: [[-1.0263214e-05  5.1069769e-06]\n",
            " [-8.2099714e-06  2.6287930e-06]\n",
            " [ 1.4959690e-05 -1.9491419e-05]]\n"
          ]
        },
        {
          "name": "stderr",
          "output_type": "stream",
          "text": [
            "Epoch:  51%|█████▏    | 77/150 [20:28<12:25, 10.21s/epoch]"
          ]
        },
        {
          "name": "stdout",
          "output_type": "stream",
          "text": [
            "Epoch 076 | LR 0.000096 | Train MSE 0.0355 | Val MSE 0.0347 | Val MAE 0.7177 | Val MSE 1.7005\n"
          ]
        },
        {
          "name": "stderr",
          "output_type": "stream",
          "text": [
            "Epoch:  52%|█████▏    | 78/150 [20:37<12:03, 10.05s/epoch]"
          ]
        },
        {
          "name": "stdout",
          "output_type": "stream",
          "text": [
            "Epoch 077 | LR 0.000091 | Train MSE 0.0353 | Val MSE 0.0342 | Val MAE 0.7005 | Val MSE 1.6780\n",
            "Validation improved: 0.034307 -> 0.034244\n"
          ]
        },
        {
          "name": "stderr",
          "output_type": "stream",
          "text": [
            "Epoch:  53%|█████▎    | 79/150 [20:47<11:47,  9.96s/epoch]"
          ]
        },
        {
          "name": "stdout",
          "output_type": "stream",
          "text": [
            "Epoch 078 | LR 0.000087 | Train MSE 0.0355 | Val MSE 0.0342 | Val MAE 0.7023 | Val MSE 1.6759\n",
            "Validation improved: 0.034244 -> 0.034202\n"
          ]
        },
        {
          "name": "stderr",
          "output_type": "stream",
          "text": [
            "Epoch:  53%|█████▎    | 80/150 [20:56<11:24,  9.78s/epoch]"
          ]
        },
        {
          "name": "stdout",
          "output_type": "stream",
          "text": [
            "Epoch 079 | LR 0.000083 | Train MSE 0.0352 | Val MSE 0.0345 | Val MAE 0.7028 | Val MSE 1.6892\n"
          ]
        },
        {
          "name": "stderr",
          "output_type": "stream",
          "text": [
            "Epoch:  54%|█████▍    | 81/150 [21:06<11:05,  9.65s/epoch]"
          ]
        },
        {
          "name": "stdout",
          "output_type": "stream",
          "text": [
            "Epoch 080 | LR 0.000078 | Train MSE 0.0356 | Val MSE 0.0346 | Val MAE 0.7107 | Val MSE 1.6947\n",
            "Sample pred first 3 steps: [[-0.00109966 -0.00730716]\n",
            " [-0.00152688 -0.00639898]\n",
            " [-0.00193236 -0.00560246]]\n",
            "Sample target first 3 steps: [[-1.0263214e-05  5.1069769e-06]\n",
            " [-8.2099714e-06  2.6287930e-06]\n",
            " [ 1.4959690e-05 -1.9491419e-05]]\n"
          ]
        },
        {
          "name": "stderr",
          "output_type": "stream",
          "text": [
            "Epoch:  55%|█████▍    | 82/150 [21:15<10:51,  9.59s/epoch]"
          ]
        },
        {
          "name": "stdout",
          "output_type": "stream",
          "text": [
            "Epoch 081 | LR 0.000075 | Train MSE 0.0355 | Val MSE 0.0347 | Val MAE 0.7054 | Val MSE 1.7005\n"
          ]
        },
        {
          "name": "stderr",
          "output_type": "stream",
          "text": [
            "Epoch:  55%|█████▌    | 83/150 [21:25<10:40,  9.56s/epoch]"
          ]
        },
        {
          "name": "stdout",
          "output_type": "stream",
          "text": [
            "Epoch 082 | LR 0.000071 | Train MSE 0.0353 | Val MSE 0.0347 | Val MAE 0.7067 | Val MSE 1.6999\n"
          ]
        },
        {
          "name": "stderr",
          "output_type": "stream",
          "text": [
            "Epoch:  56%|█████▌    | 84/150 [21:34<10:32,  9.59s/epoch]"
          ]
        },
        {
          "name": "stdout",
          "output_type": "stream",
          "text": [
            "Epoch 083 | LR 0.000067 | Train MSE 0.0353 | Val MSE 0.0348 | Val MAE 0.7051 | Val MSE 1.7033\n"
          ]
        },
        {
          "name": "stderr",
          "output_type": "stream",
          "text": [
            "Epoch:  57%|█████▋    | 85/150 [21:44<10:22,  9.58s/epoch]"
          ]
        },
        {
          "name": "stdout",
          "output_type": "stream",
          "text": [
            "Epoch 084 | LR 0.000064 | Train MSE 0.0350 | Val MSE 0.0345 | Val MAE 0.7009 | Val MSE 1.6906\n"
          ]
        },
        {
          "name": "stderr",
          "output_type": "stream",
          "text": [
            "Epoch:  57%|█████▋    | 86/150 [21:53<10:11,  9.55s/epoch]"
          ]
        },
        {
          "name": "stdout",
          "output_type": "stream",
          "text": [
            "Epoch 085 | LR 0.000061 | Train MSE 0.0354 | Val MSE 0.0346 | Val MAE 0.6995 | Val MSE 1.6945\n",
            "Sample pred first 3 steps: [[-2.9839575e-05 -1.4578316e-02]\n",
            " [-2.4737790e-04 -1.3793139e-02]\n",
            " [-5.6646392e-04 -1.3180531e-02]]\n",
            "Sample target first 3 steps: [[-1.0263214e-05  5.1069769e-06]\n",
            " [-8.2099714e-06  2.6287930e-06]\n",
            " [ 1.4959690e-05 -1.9491419e-05]]\n"
          ]
        },
        {
          "name": "stderr",
          "output_type": "stream",
          "text": [
            "Epoch:  58%|█████▊    | 87/150 [22:03<09:57,  9.49s/epoch]"
          ]
        },
        {
          "name": "stdout",
          "output_type": "stream",
          "text": [
            "Epoch 086 | LR 0.000058 | Train MSE 0.0354 | Val MSE 0.0346 | Val MAE 0.6983 | Val MSE 1.6939\n"
          ]
        },
        {
          "name": "stderr",
          "output_type": "stream",
          "text": [
            "Epoch:  59%|█████▊    | 88/150 [22:12<09:49,  9.50s/epoch]"
          ]
        },
        {
          "name": "stdout",
          "output_type": "stream",
          "text": [
            "Epoch 087 | LR 0.000055 | Train MSE 0.0350 | Val MSE 0.0347 | Val MAE 0.7044 | Val MSE 1.6995\n"
          ]
        },
        {
          "name": "stderr",
          "output_type": "stream",
          "text": [
            "Epoch:  59%|█████▉    | 89/150 [22:22<09:44,  9.58s/epoch]"
          ]
        },
        {
          "name": "stdout",
          "output_type": "stream",
          "text": [
            "Epoch 088 | LR 0.000052 | Train MSE 0.0350 | Val MSE 0.0346 | Val MAE 0.7076 | Val MSE 1.6966\n"
          ]
        },
        {
          "name": "stderr",
          "output_type": "stream",
          "text": [
            "Epoch:  60%|██████    | 90/150 [22:32<09:42,  9.71s/epoch]"
          ]
        },
        {
          "name": "stdout",
          "output_type": "stream",
          "text": [
            "Epoch 089 | LR 0.000049 | Train MSE 0.0352 | Val MSE 0.0346 | Val MAE 0.7017 | Val MSE 1.6935\n"
          ]
        },
        {
          "name": "stderr",
          "output_type": "stream",
          "text": [
            "Epoch:  61%|██████    | 91/150 [22:42<09:45,  9.92s/epoch]"
          ]
        },
        {
          "name": "stdout",
          "output_type": "stream",
          "text": [
            "Epoch 090 | LR 0.000047 | Train MSE 0.0353 | Val MSE 0.0343 | Val MAE 0.7000 | Val MSE 1.6831\n",
            "Sample pred first 3 steps: [[ 0.00148171 -0.00773643]\n",
            " [ 0.00119276 -0.00722106]\n",
            " [ 0.00081966 -0.00666295]]\n",
            "Sample target first 3 steps: [[-1.0263214e-05  5.1069769e-06]\n",
            " [-8.2099714e-06  2.6287930e-06]\n",
            " [ 1.4959690e-05 -1.9491419e-05]]\n"
          ]
        },
        {
          "name": "stderr",
          "output_type": "stream",
          "text": [
            "Epoch:  61%|██████▏   | 92/150 [22:52<09:32,  9.88s/epoch]"
          ]
        },
        {
          "name": "stdout",
          "output_type": "stream",
          "text": [
            "Epoch 091 | LR 0.000045 | Train MSE 0.0352 | Val MSE 0.0345 | Val MAE 0.7039 | Val MSE 1.6910\n"
          ]
        },
        {
          "name": "stderr",
          "output_type": "stream",
          "text": [
            "Epoch:  62%|██████▏   | 93/150 [23:02<09:17,  9.79s/epoch]"
          ]
        },
        {
          "name": "stdout",
          "output_type": "stream",
          "text": [
            "Epoch 092 | LR 0.000042 | Train MSE 0.0352 | Val MSE 0.0345 | Val MAE 0.6993 | Val MSE 1.6899\n"
          ]
        },
        {
          "name": "stderr",
          "output_type": "stream",
          "text": [
            "Epoch:  63%|██████▎   | 94/150 [23:11<09:04,  9.73s/epoch]"
          ]
        },
        {
          "name": "stdout",
          "output_type": "stream",
          "text": [
            "Epoch 093 | LR 0.000040 | Train MSE 0.0344 | Val MSE 0.0345 | Val MAE 0.6997 | Val MSE 1.6898\n"
          ]
        },
        {
          "name": "stderr",
          "output_type": "stream",
          "text": [
            "Epoch:  63%|██████▎   | 95/150 [23:21<08:58,  9.79s/epoch]"
          ]
        },
        {
          "name": "stdout",
          "output_type": "stream",
          "text": [
            "Epoch 094 | LR 0.000038 | Train MSE 0.0351 | Val MSE 0.0344 | Val MAE 0.7033 | Val MSE 1.6865\n"
          ]
        },
        {
          "name": "stderr",
          "output_type": "stream",
          "text": [
            "Epoch:  64%|██████▍   | 96/150 [23:31<08:45,  9.73s/epoch]"
          ]
        },
        {
          "name": "stdout",
          "output_type": "stream",
          "text": [
            "Epoch 095 | LR 0.000036 | Train MSE 0.0349 | Val MSE 0.0344 | Val MAE 0.7043 | Val MSE 1.6872\n",
            "Sample pred first 3 steps: [[0.00515417 0.0008028 ]\n",
            " [0.00515135 0.00083889]\n",
            " [0.00499601 0.00087211]]\n",
            "Sample target first 3 steps: [[-1.0263214e-05  5.1069769e-06]\n",
            " [-8.2099714e-06  2.6287930e-06]\n",
            " [ 1.4959690e-05 -1.9491419e-05]]\n"
          ]
        },
        {
          "name": "stderr",
          "output_type": "stream",
          "text": [
            "Epoch:  65%|██████▍   | 97/150 [23:40<08:32,  9.67s/epoch]"
          ]
        },
        {
          "name": "stdout",
          "output_type": "stream",
          "text": [
            "Epoch 096 | LR 0.000035 | Train MSE 0.0349 | Val MSE 0.0343 | Val MAE 0.6968 | Val MSE 1.6821\n"
          ]
        },
        {
          "name": "stderr",
          "output_type": "stream",
          "text": [
            "Epoch:  65%|██████▌   | 98/150 [23:50<08:26,  9.74s/epoch]"
          ]
        },
        {
          "name": "stdout",
          "output_type": "stream",
          "text": [
            "Epoch 097 | LR 0.000033 | Train MSE 0.0351 | Val MSE 0.0344 | Val MAE 0.7023 | Val MSE 1.6845\n"
          ]
        },
        {
          "name": "stderr",
          "output_type": "stream",
          "text": [
            "Epoch:  65%|██████▌   | 98/150 [24:00<12:44, 14.70s/epoch]\n"
          ]
        },
        {
          "name": "stdout",
          "output_type": "stream",
          "text": [
            "Epoch 098 | LR 0.000031 | Train MSE 0.0351 | Val MSE 0.0344 | Val MAE 0.6999 | Val MSE 1.6844\n",
            "Early stopping after 99 epochs without improvement\n",
            "Val MSE: 1.6759\n"
          ]
        },
        {
          "data": {
            "text/plain": [
              "SimpleLSTM(\n",
              "  (ego_encoder): LSTM(5, 512, batch_first=True)\n",
              "  (neighbor_encoder): LSTM(5, 512, batch_first=True)\n",
              "  (fc1): Linear(in_features=1024, out_features=1024, bias=True)\n",
              "  (dropout): Dropout(p=0.1, inplace=False)\n",
              "  (relu): ReLU()\n",
              "  (fc2): Linear(in_features=1024, out_features=120, bias=True)\n",
              ")"
            ]
          },
          "execution_count": 13,
          "metadata": {},
          "output_type": "execute_result"
        }
      ],
      "source": [
        "# added more epochs: 150\n",
        "train_and_evaluate_model()"
      ]
    },
    {
      "cell_type": "markdown",
      "metadata": {},
      "source": [
        "# Final Pred"
      ]
    },
    {
      "cell_type": "code",
      "execution_count": 14,
      "metadata": {},
      "outputs": [],
      "source": [
        "test_dataset = TrajectoryDatasetTest(test_data, scale=scale)\n",
        "test_loader = DataLoader(test_dataset, batch_size=32, shuffle=False,\n",
        "                         collate_fn=lambda xs: Batch.from_data_list(xs))\n",
        "\n",
        "best_model2 = torch.load(best_model)\n",
        "model = SimpleLSTM().to(device)\n",
        "# optimizer = optim.Adam(model.parameters(), lr=1e-3, weight_decay=1e-4)\n",
        "# scheduler = optim.lr_scheduler.StepLR(optimizer, step_size=20, gamma=0.25) # You can try different schedulers\n",
        "# criterion = nn.MSELoss()\n",
        "\n",
        "model.load_state_dict(best_model2)\n",
        "model.eval()\n",
        "\n",
        "pred_list = []\n",
        "with torch.no_grad():\n",
        "    for batch in test_loader:\n",
        "        batch = batch.to(device)\n",
        "        pred_vel_norm = model(batch)\n",
        "        \n",
        "        # Reshape the prediction to (N, 60, 2)\n",
        "        pred_vel = pred_vel_norm * batch.scale.view(-1,1,1)\n",
        "        \n",
        "        # Get origin in meters (position at t=49 for ego)\n",
        "        # origin = batch.origin  # (B, 1, 2)\n",
        "        origin = batch.origin.unsqueeze(1)  # Ensure shape is (B, 1, 2)\n",
        "        \n",
        "        # Integrate velocity to get position over 60 steps\n",
        "        dt = 0.1  # seconds per step\n",
        "        pred_pos = [origin]  # list of (B, 1, 2)\n",
        "        \n",
        "        for t in range(60):\n",
        "            next_pos = pred_pos[-1] + pred_vel[:, t:t+1, :] * dt  # (B, 1, 2)\n",
        "            pred_pos.append(next_pos)\n",
        "        \n",
        "        # Concatenate positions across time steps\n",
        "        pred_xy = torch.cat(pred_pos[1:], dim=1)  # skip initial origin, get (B, 60, 2)\n",
        "\n",
        "        pred_list.append(pred_xy.cpu().numpy())\n",
        "        \n",
        "pred_list = np.concatenate(pred_list, axis=0)  # (N,60,2)\n",
        "pred_output = pred_list.reshape(-1, 2)  # (N*60, 2)\n",
        "output_df = pd.DataFrame(pred_output, columns=['x', 'y'])\n",
        "output_df.index.name = 'index'\n",
        "output_df.to_csv('submission_lstm_simple_auto8.csv', index=True)"
      ]
    }
  ],
  "metadata": {
    "colab": {
      "name": "data-loading-and-submission-preperation",
      "provenance": []
    },
    "kaggle": {
      "accelerator": "none",
      "dataSources": [],
      "dockerImageVersionId": 30918,
      "isGpuEnabled": false,
      "isInternetEnabled": false,
      "language": "python",
      "sourceType": "notebook"
    },
    "kernelspec": {
      "display_name": "Python 3",
      "language": "python",
      "name": "python3"
    },
    "language_info": {
      "codemirror_mode": {
        "name": "ipython",
        "version": 3
      },
      "file_extension": ".py",
      "mimetype": "text/x-python",
      "name": "python",
      "nbconvert_exporter": "python",
      "pygments_lexer": "ipython3",
      "version": "3.9.6"
    },
    "papermill": {
      "default_parameters": {},
      "duration": 27.524611,
      "end_time": "2025-04-01T17:39:42.223757",
      "environment_variables": {},
      "exception": null,
      "input_path": "__notebook__.ipynb",
      "output_path": "__notebook__.ipynb",
      "parameters": {},
      "start_time": "2025-04-01T17:39:14.699146",
      "version": "2.6.0"
    }
  },
  "nbformat": 4,
  "nbformat_minor": 0
}
